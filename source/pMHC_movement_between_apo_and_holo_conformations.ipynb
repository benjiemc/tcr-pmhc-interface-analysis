{
 "cells": [
  {
   "cell_type": "markdown",
   "id": "cc9ee17f",
   "metadata": {},
   "source": [
    "# pMHC movement between apo and holo conformations"
   ]
  },
  {
   "cell_type": "markdown",
   "id": "8892397f",
   "metadata": {},
   "source": [
    "## Introduction\n",
    "\n",
    "In this notebook we aim to determine what parts of the pMHC, if any, move when contacted by TCRs. We split the MHC domain into MHC-non-TCR contact and MHC-TCR contact based on previous analysis of the TCR finger print on the MHC molecules."
   ]
  },
  {
   "cell_type": "code",
   "execution_count": 1,
   "id": "e94bb431",
   "metadata": {},
   "outputs": [],
   "source": [
    "import itertools\n",
    "\n",
    "import matplotlib.pyplot as plt\n",
    "import numpy as np\n",
    "import pandas as pd\n",
    "import scipy\n",
    "import seaborn as sns"
   ]
  },
  {
   "cell_type": "code",
   "execution_count": 2,
   "id": "6112c618",
   "metadata": {},
   "outputs": [],
   "source": [
    "NOISE_LEVEL = 0.5 # Å"
   ]
  },
  {
   "cell_type": "markdown",
   "id": "e7de39ad",
   "metadata": {},
   "source": [
    "## Load comparisons"
   ]
  },
  {
   "cell_type": "code",
   "execution_count": 3,
   "id": "1c9bffbc",
   "metadata": {},
   "outputs": [
    {
     "data": {
      "text/html": [
       "<div>\n",
       "<style scoped>\n",
       "    .dataframe tbody tr th:only-of-type {\n",
       "        vertical-align: middle;\n",
       "    }\n",
       "\n",
       "    .dataframe tbody tr th {\n",
       "        vertical-align: top;\n",
       "    }\n",
       "\n",
       "    .dataframe thead th {\n",
       "        text-align: right;\n",
       "    }\n",
       "</style>\n",
       "<table border=\"1\" class=\"dataframe\">\n",
       "  <thead>\n",
       "    <tr style=\"text-align: right;\">\n",
       "      <th></th>\n",
       "      <th>complex_id</th>\n",
       "      <th>structure_x_name</th>\n",
       "      <th>structure_y_name</th>\n",
       "      <th>chain_type</th>\n",
       "      <th>tcr_contact</th>\n",
       "      <th>rmsd</th>\n",
       "    </tr>\n",
       "  </thead>\n",
       "  <tbody>\n",
       "    <tr>\n",
       "      <th>0</th>\n",
       "      <td>3qdg_D-E-C-A-B_tcr_pmhc</td>\n",
       "      <td>1jf1_C-A-B_pmhc.pdb</td>\n",
       "      <td>3qdg_D-E-C-A-B_tcr_pmhc.pdb</td>\n",
       "      <td>mhc_chain1</td>\n",
       "      <td>False</td>\n",
       "      <td>0.630013</td>\n",
       "    </tr>\n",
       "    <tr>\n",
       "      <th>1</th>\n",
       "      <td>3qdg_D-E-C-A-B_tcr_pmhc</td>\n",
       "      <td>1jf1_C-A-B_pmhc.pdb</td>\n",
       "      <td>3qdg_D-E-C-A-B_tcr_pmhc.pdb</td>\n",
       "      <td>mhc_chain1</td>\n",
       "      <td>True</td>\n",
       "      <td>0.582077</td>\n",
       "    </tr>\n",
       "    <tr>\n",
       "      <th>2</th>\n",
       "      <td>5c0a_D-E-C-A-B_tcr_pmhc</td>\n",
       "      <td>5c0a_D-E-C-A-B_tcr_pmhc.pdb</td>\n",
       "      <td>5n1y_C-A-B_pmhc.pdb</td>\n",
       "      <td>antigen_chain</td>\n",
       "      <td>False</td>\n",
       "      <td>0.448858</td>\n",
       "    </tr>\n",
       "    <tr>\n",
       "      <th>3</th>\n",
       "      <td>5c0a_D-E-C-A-B_tcr_pmhc</td>\n",
       "      <td>5c0a_D-E-C-A-B_tcr_pmhc.pdb</td>\n",
       "      <td>5n1y_C-A-B_pmhc.pdb</td>\n",
       "      <td>mhc_chain1</td>\n",
       "      <td>False</td>\n",
       "      <td>0.422160</td>\n",
       "    </tr>\n",
       "    <tr>\n",
       "      <th>4</th>\n",
       "      <td>5c0a_D-E-C-A-B_tcr_pmhc</td>\n",
       "      <td>5c0a_D-E-C-A-B_tcr_pmhc.pdb</td>\n",
       "      <td>5n1y_C-A-B_pmhc.pdb</td>\n",
       "      <td>mhc_chain1</td>\n",
       "      <td>True</td>\n",
       "      <td>0.424287</td>\n",
       "    </tr>\n",
       "    <tr>\n",
       "      <th>...</th>\n",
       "      <td>...</td>\n",
       "      <td>...</td>\n",
       "      <td>...</td>\n",
       "      <td>...</td>\n",
       "      <td>...</td>\n",
       "      <td>...</td>\n",
       "    </tr>\n",
       "    <tr>\n",
       "      <th>3311</th>\n",
       "      <td>7rtr_D-E-C-A-B_tcr_pmhc</td>\n",
       "      <td>7p3d_C-A-B_pmhc.pdb</td>\n",
       "      <td>7rtr_D-E-C-A-B_tcr_pmhc.pdb</td>\n",
       "      <td>mhc_chain1</td>\n",
       "      <td>False</td>\n",
       "      <td>0.497769</td>\n",
       "    </tr>\n",
       "    <tr>\n",
       "      <th>3312</th>\n",
       "      <td>7rtr_D-E-C-A-B_tcr_pmhc</td>\n",
       "      <td>7p3d_C-A-B_pmhc.pdb</td>\n",
       "      <td>7rtr_D-E-C-A-B_tcr_pmhc.pdb</td>\n",
       "      <td>mhc_chain1</td>\n",
       "      <td>True</td>\n",
       "      <td>0.458372</td>\n",
       "    </tr>\n",
       "    <tr>\n",
       "      <th>3313</th>\n",
       "      <td>7rtr_D-E-C-A-B_tcr_pmhc</td>\n",
       "      <td>7rtd_C-A-B_pmhc.pdb</td>\n",
       "      <td>7rtr_D-E-C-A-B_tcr_pmhc.pdb</td>\n",
       "      <td>antigen_chain</td>\n",
       "      <td>False</td>\n",
       "      <td>0.455078</td>\n",
       "    </tr>\n",
       "    <tr>\n",
       "      <th>3314</th>\n",
       "      <td>7rtr_D-E-C-A-B_tcr_pmhc</td>\n",
       "      <td>7rtd_C-A-B_pmhc.pdb</td>\n",
       "      <td>7rtr_D-E-C-A-B_tcr_pmhc.pdb</td>\n",
       "      <td>mhc_chain1</td>\n",
       "      <td>False</td>\n",
       "      <td>0.449558</td>\n",
       "    </tr>\n",
       "    <tr>\n",
       "      <th>3315</th>\n",
       "      <td>7rtr_D-E-C-A-B_tcr_pmhc</td>\n",
       "      <td>7rtd_C-A-B_pmhc.pdb</td>\n",
       "      <td>7rtr_D-E-C-A-B_tcr_pmhc.pdb</td>\n",
       "      <td>mhc_chain1</td>\n",
       "      <td>True</td>\n",
       "      <td>0.493225</td>\n",
       "    </tr>\n",
       "  </tbody>\n",
       "</table>\n",
       "<p>3316 rows × 6 columns</p>\n",
       "</div>"
      ],
      "text/plain": [
       "                   complex_id             structure_x_name  \\\n",
       "0     3qdg_D-E-C-A-B_tcr_pmhc          1jf1_C-A-B_pmhc.pdb   \n",
       "1     3qdg_D-E-C-A-B_tcr_pmhc          1jf1_C-A-B_pmhc.pdb   \n",
       "2     5c0a_D-E-C-A-B_tcr_pmhc  5c0a_D-E-C-A-B_tcr_pmhc.pdb   \n",
       "3     5c0a_D-E-C-A-B_tcr_pmhc  5c0a_D-E-C-A-B_tcr_pmhc.pdb   \n",
       "4     5c0a_D-E-C-A-B_tcr_pmhc  5c0a_D-E-C-A-B_tcr_pmhc.pdb   \n",
       "...                       ...                          ...   \n",
       "3311  7rtr_D-E-C-A-B_tcr_pmhc          7p3d_C-A-B_pmhc.pdb   \n",
       "3312  7rtr_D-E-C-A-B_tcr_pmhc          7p3d_C-A-B_pmhc.pdb   \n",
       "3313  7rtr_D-E-C-A-B_tcr_pmhc          7rtd_C-A-B_pmhc.pdb   \n",
       "3314  7rtr_D-E-C-A-B_tcr_pmhc          7rtd_C-A-B_pmhc.pdb   \n",
       "3315  7rtr_D-E-C-A-B_tcr_pmhc          7rtd_C-A-B_pmhc.pdb   \n",
       "\n",
       "                 structure_y_name     chain_type  tcr_contact      rmsd  \n",
       "0     3qdg_D-E-C-A-B_tcr_pmhc.pdb     mhc_chain1        False  0.630013  \n",
       "1     3qdg_D-E-C-A-B_tcr_pmhc.pdb     mhc_chain1         True  0.582077  \n",
       "2             5n1y_C-A-B_pmhc.pdb  antigen_chain        False  0.448858  \n",
       "3             5n1y_C-A-B_pmhc.pdb     mhc_chain1        False  0.422160  \n",
       "4             5n1y_C-A-B_pmhc.pdb     mhc_chain1         True  0.424287  \n",
       "...                           ...            ...          ...       ...  \n",
       "3311  7rtr_D-E-C-A-B_tcr_pmhc.pdb     mhc_chain1        False  0.497769  \n",
       "3312  7rtr_D-E-C-A-B_tcr_pmhc.pdb     mhc_chain1         True  0.458372  \n",
       "3313  7rtr_D-E-C-A-B_tcr_pmhc.pdb  antigen_chain        False  0.455078  \n",
       "3314  7rtr_D-E-C-A-B_tcr_pmhc.pdb     mhc_chain1        False  0.449558  \n",
       "3315  7rtr_D-E-C-A-B_tcr_pmhc.pdb     mhc_chain1         True  0.493225  \n",
       "\n",
       "[3316 rows x 6 columns]"
      ]
     },
     "execution_count": 3,
     "metadata": {},
     "output_type": "execute_result"
    }
   ],
   "source": [
    "results = pd.read_csv('../data/processed/apo-holo-tcr-pmhc-class-I-comparisons/pmhc_tcr_contact_apo_holo.csv')\n",
    "results"
   ]
  },
  {
   "cell_type": "code",
   "execution_count": 4,
   "id": "9ef08c8a",
   "metadata": {},
   "outputs": [],
   "source": [
    "results_holo_holo = pd.read_csv('../data/processed/apo-holo-tcr-pmhc-class-I-comparisons/pmhc_tcr_contact_holo.csv')"
   ]
  },
  {
   "cell_type": "code",
   "execution_count": 5,
   "id": "8a7931f1",
   "metadata": {},
   "outputs": [],
   "source": [
    "results_holo_holo = results_holo_holo.query(\"chain_type == 'mhc_chain1' or chain_type == 'antigen_chain'\")"
   ]
  },
  {
   "cell_type": "code",
   "execution_count": 6,
   "id": "2bd6dbdd",
   "metadata": {},
   "outputs": [],
   "source": [
    "results_holo_holo['mhc_slug'] = None\n",
    "results_holo_holo['peptide_sequence'] = None"
   ]
  },
  {
   "cell_type": "code",
   "execution_count": 7,
   "id": "ca10aeb1",
   "metadata": {},
   "outputs": [],
   "source": [
    "mhc_pattern = r'^hla|h2'\n",
    "mhc_complex_ids = results_holo_holo['complex_id'].str.contains(mhc_pattern, regex=True)\n",
    "\n",
    "mhc_slug_peptides = results_holo_holo[mhc_complex_ids]['complex_id'].str.rsplit('_', n=1)\n",
    "mhc_slugs = mhc_slug_peptides.map(lambda composite: composite[0])\n",
    "peptides = mhc_slug_peptides.map(lambda composite: composite[1])\n",
    "\n",
    "results_holo_holo.loc[mhc_complex_ids, 'mhc_slug'] = mhc_slugs\n",
    "results_holo_holo.loc[mhc_complex_ids, 'peptide_sequence'] = peptides\n",
    "\n",
    "results_holo_holo = results_holo_holo[mhc_complex_ids]"
   ]
  },
  {
   "cell_type": "markdown",
   "id": "747fb110",
   "metadata": {},
   "source": [
    "## Load summary data"
   ]
  },
  {
   "cell_type": "code",
   "execution_count": 8,
   "id": "8aac7d79",
   "metadata": {},
   "outputs": [
    {
     "data": {
      "text/html": [
       "<div>\n",
       "<style scoped>\n",
       "    .dataframe tbody tr th:only-of-type {\n",
       "        vertical-align: middle;\n",
       "    }\n",
       "\n",
       "    .dataframe tbody tr th {\n",
       "        vertical-align: top;\n",
       "    }\n",
       "\n",
       "    .dataframe thead th {\n",
       "        text-align: right;\n",
       "    }\n",
       "</style>\n",
       "<table border=\"1\" class=\"dataframe\">\n",
       "  <thead>\n",
       "    <tr style=\"text-align: right;\">\n",
       "      <th></th>\n",
       "      <th>file_name</th>\n",
       "      <th>pdb_id</th>\n",
       "      <th>structure_type</th>\n",
       "      <th>state</th>\n",
       "      <th>alpha_chain</th>\n",
       "      <th>beta_chain</th>\n",
       "      <th>antigen_chain</th>\n",
       "      <th>mhc_chain1</th>\n",
       "      <th>mhc_chain2</th>\n",
       "      <th>cdr_sequences_collated</th>\n",
       "      <th>peptide_sequence</th>\n",
       "      <th>mhc_slug</th>\n",
       "    </tr>\n",
       "  </thead>\n",
       "  <tbody>\n",
       "    <tr>\n",
       "      <th>0</th>\n",
       "      <td>1ao7_D-E-C-A-B_tcr_pmhc.pdb</td>\n",
       "      <td>1ao7</td>\n",
       "      <td>tcr_pmhc</td>\n",
       "      <td>holo</td>\n",
       "      <td>D</td>\n",
       "      <td>E</td>\n",
       "      <td>C</td>\n",
       "      <td>A</td>\n",
       "      <td>B</td>\n",
       "      <td>DRGSQS-IYSNGD-AVTTDSWGKLQ-MNHEY-SVGAGI-ASRPGLA...</td>\n",
       "      <td>LLFGYPVYV</td>\n",
       "      <td>hla_a_02_01</td>\n",
       "    </tr>\n",
       "    <tr>\n",
       "      <th>1</th>\n",
       "      <td>1b0g_C-A-B_pmhc.pdb</td>\n",
       "      <td>1b0g</td>\n",
       "      <td>pmhc</td>\n",
       "      <td>apo</td>\n",
       "      <td>NaN</td>\n",
       "      <td>NaN</td>\n",
       "      <td>C</td>\n",
       "      <td>A</td>\n",
       "      <td>B</td>\n",
       "      <td>NaN</td>\n",
       "      <td>ALWGFFPVL</td>\n",
       "      <td>hla_a_02_01</td>\n",
       "    </tr>\n",
       "    <tr>\n",
       "      <th>2</th>\n",
       "      <td>1b0g_F-D-E_pmhc.pdb</td>\n",
       "      <td>1b0g</td>\n",
       "      <td>pmhc</td>\n",
       "      <td>apo</td>\n",
       "      <td>NaN</td>\n",
       "      <td>NaN</td>\n",
       "      <td>F</td>\n",
       "      <td>D</td>\n",
       "      <td>E</td>\n",
       "      <td>NaN</td>\n",
       "      <td>ALWGFFPVL</td>\n",
       "      <td>hla_a_02_01</td>\n",
       "    </tr>\n",
       "    <tr>\n",
       "      <th>3</th>\n",
       "      <td>1bd2_D-E-C-A-B_tcr_pmhc.pdb</td>\n",
       "      <td>1bd2</td>\n",
       "      <td>tcr_pmhc</td>\n",
       "      <td>holo</td>\n",
       "      <td>D</td>\n",
       "      <td>E</td>\n",
       "      <td>C</td>\n",
       "      <td>A</td>\n",
       "      <td>B</td>\n",
       "      <td>NSMFDY-ISSIKDK-AAMEGAQKLV-MNHEY-SVGAGI-ASSYPGG...</td>\n",
       "      <td>LLFGYPVYV</td>\n",
       "      <td>hla_a_02_01</td>\n",
       "    </tr>\n",
       "    <tr>\n",
       "      <th>4</th>\n",
       "      <td>1bii_P-A-B_pmhc.pdb</td>\n",
       "      <td>1bii</td>\n",
       "      <td>pmhc</td>\n",
       "      <td>apo</td>\n",
       "      <td>NaN</td>\n",
       "      <td>NaN</td>\n",
       "      <td>P</td>\n",
       "      <td>A</td>\n",
       "      <td>B</td>\n",
       "      <td>NaN</td>\n",
       "      <td>RGPGRAFVTI</td>\n",
       "      <td>h2_dd</td>\n",
       "    </tr>\n",
       "    <tr>\n",
       "      <th>...</th>\n",
       "      <td>...</td>\n",
       "      <td>...</td>\n",
       "      <td>...</td>\n",
       "      <td>...</td>\n",
       "      <td>...</td>\n",
       "      <td>...</td>\n",
       "      <td>...</td>\n",
       "      <td>...</td>\n",
       "      <td>...</td>\n",
       "      <td>...</td>\n",
       "      <td>...</td>\n",
       "      <td>...</td>\n",
       "    </tr>\n",
       "    <tr>\n",
       "      <th>386</th>\n",
       "      <td>7rtd_C-A-B_pmhc.pdb</td>\n",
       "      <td>7rtd</td>\n",
       "      <td>pmhc</td>\n",
       "      <td>apo</td>\n",
       "      <td>NaN</td>\n",
       "      <td>NaN</td>\n",
       "      <td>C</td>\n",
       "      <td>A</td>\n",
       "      <td>B</td>\n",
       "      <td>NaN</td>\n",
       "      <td>YLQPRTFLL</td>\n",
       "      <td>hla_a_02_01</td>\n",
       "    </tr>\n",
       "    <tr>\n",
       "      <th>387</th>\n",
       "      <td>7rtr_D-E-C-A-B_tcr_pmhc.pdb</td>\n",
       "      <td>7rtr</td>\n",
       "      <td>tcr_pmhc</td>\n",
       "      <td>holo</td>\n",
       "      <td>D</td>\n",
       "      <td>E</td>\n",
       "      <td>C</td>\n",
       "      <td>A</td>\n",
       "      <td>B</td>\n",
       "      <td>DRGSQS-IYSNGD-AVNRDDKII-SEHNR-FQNEAQ-ASSPDIEQY</td>\n",
       "      <td>YLQPRTFLL</td>\n",
       "      <td>hla_a_02_01</td>\n",
       "    </tr>\n",
       "    <tr>\n",
       "      <th>388</th>\n",
       "      <td>8gvb_A-B-P-H-L_tcr_pmhc.pdb</td>\n",
       "      <td>8gvb</td>\n",
       "      <td>tcr_pmhc</td>\n",
       "      <td>holo</td>\n",
       "      <td>A</td>\n",
       "      <td>B</td>\n",
       "      <td>P</td>\n",
       "      <td>H</td>\n",
       "      <td>L</td>\n",
       "      <td>YGATPY-YFSGDTLV-AVGFTGGGNKLT-SEHNR-FQNEAQ-ASSD...</td>\n",
       "      <td>RYPLTFGW</td>\n",
       "      <td>hla_a_24_02</td>\n",
       "    </tr>\n",
       "    <tr>\n",
       "      <th>389</th>\n",
       "      <td>8gvg_A-B-P-H-L_tcr_pmhc.pdb</td>\n",
       "      <td>8gvg</td>\n",
       "      <td>tcr_pmhc</td>\n",
       "      <td>holo</td>\n",
       "      <td>A</td>\n",
       "      <td>B</td>\n",
       "      <td>P</td>\n",
       "      <td>H</td>\n",
       "      <td>L</td>\n",
       "      <td>YGATPY-YFSGDTLV-AVGFTGGGNKLT-SEHNR-FQNEAQ-ASSD...</td>\n",
       "      <td>RFPLTFGW</td>\n",
       "      <td>hla_a_24_02</td>\n",
       "    </tr>\n",
       "    <tr>\n",
       "      <th>390</th>\n",
       "      <td>8gvi_A-B-P-H-L_tcr_pmhc.pdb</td>\n",
       "      <td>8gvi</td>\n",
       "      <td>tcr_pmhc</td>\n",
       "      <td>holo</td>\n",
       "      <td>A</td>\n",
       "      <td>B</td>\n",
       "      <td>P</td>\n",
       "      <td>H</td>\n",
       "      <td>L</td>\n",
       "      <td>YGATPY-YFSGDTLV-AVVFTGGGNKLT-SEHNR-FQNEAQ-ASSL...</td>\n",
       "      <td>RYPLTFGW</td>\n",
       "      <td>hla_a_24_02</td>\n",
       "    </tr>\n",
       "  </tbody>\n",
       "</table>\n",
       "<p>391 rows × 12 columns</p>\n",
       "</div>"
      ],
      "text/plain": [
       "                       file_name pdb_id structure_type state alpha_chain  \\\n",
       "0    1ao7_D-E-C-A-B_tcr_pmhc.pdb   1ao7       tcr_pmhc  holo           D   \n",
       "1            1b0g_C-A-B_pmhc.pdb   1b0g           pmhc   apo         NaN   \n",
       "2            1b0g_F-D-E_pmhc.pdb   1b0g           pmhc   apo         NaN   \n",
       "3    1bd2_D-E-C-A-B_tcr_pmhc.pdb   1bd2       tcr_pmhc  holo           D   \n",
       "4            1bii_P-A-B_pmhc.pdb   1bii           pmhc   apo         NaN   \n",
       "..                           ...    ...            ...   ...         ...   \n",
       "386          7rtd_C-A-B_pmhc.pdb   7rtd           pmhc   apo         NaN   \n",
       "387  7rtr_D-E-C-A-B_tcr_pmhc.pdb   7rtr       tcr_pmhc  holo           D   \n",
       "388  8gvb_A-B-P-H-L_tcr_pmhc.pdb   8gvb       tcr_pmhc  holo           A   \n",
       "389  8gvg_A-B-P-H-L_tcr_pmhc.pdb   8gvg       tcr_pmhc  holo           A   \n",
       "390  8gvi_A-B-P-H-L_tcr_pmhc.pdb   8gvi       tcr_pmhc  holo           A   \n",
       "\n",
       "    beta_chain antigen_chain mhc_chain1 mhc_chain2  \\\n",
       "0            E             C          A          B   \n",
       "1          NaN             C          A          B   \n",
       "2          NaN             F          D          E   \n",
       "3            E             C          A          B   \n",
       "4          NaN             P          A          B   \n",
       "..         ...           ...        ...        ...   \n",
       "386        NaN             C          A          B   \n",
       "387          E             C          A          B   \n",
       "388          B             P          H          L   \n",
       "389          B             P          H          L   \n",
       "390          B             P          H          L   \n",
       "\n",
       "                                cdr_sequences_collated peptide_sequence  \\\n",
       "0    DRGSQS-IYSNGD-AVTTDSWGKLQ-MNHEY-SVGAGI-ASRPGLA...        LLFGYPVYV   \n",
       "1                                                  NaN        ALWGFFPVL   \n",
       "2                                                  NaN        ALWGFFPVL   \n",
       "3    NSMFDY-ISSIKDK-AAMEGAQKLV-MNHEY-SVGAGI-ASSYPGG...        LLFGYPVYV   \n",
       "4                                                  NaN       RGPGRAFVTI   \n",
       "..                                                 ...              ...   \n",
       "386                                                NaN        YLQPRTFLL   \n",
       "387     DRGSQS-IYSNGD-AVNRDDKII-SEHNR-FQNEAQ-ASSPDIEQY        YLQPRTFLL   \n",
       "388  YGATPY-YFSGDTLV-AVGFTGGGNKLT-SEHNR-FQNEAQ-ASSD...         RYPLTFGW   \n",
       "389  YGATPY-YFSGDTLV-AVGFTGGGNKLT-SEHNR-FQNEAQ-ASSD...         RFPLTFGW   \n",
       "390  YGATPY-YFSGDTLV-AVVFTGGGNKLT-SEHNR-FQNEAQ-ASSL...         RYPLTFGW   \n",
       "\n",
       "        mhc_slug  \n",
       "0    hla_a_02_01  \n",
       "1    hla_a_02_01  \n",
       "2    hla_a_02_01  \n",
       "3    hla_a_02_01  \n",
       "4          h2_dd  \n",
       "..           ...  \n",
       "386  hla_a_02_01  \n",
       "387  hla_a_02_01  \n",
       "388  hla_a_24_02  \n",
       "389  hla_a_24_02  \n",
       "390  hla_a_24_02  \n",
       "\n",
       "[391 rows x 12 columns]"
      ]
     },
     "execution_count": 8,
     "metadata": {},
     "output_type": "execute_result"
    }
   ],
   "source": [
    "apo_holo_summary_df = pd.read_csv('../data/processed/apo-holo-tcr-pmhc-class-I/apo_holo_summary.csv')\n",
    "apo_holo_summary_df"
   ]
  },
  {
   "cell_type": "code",
   "execution_count": 9,
   "id": "60f8700d",
   "metadata": {},
   "outputs": [
    {
     "name": "stderr",
     "output_type": "stream",
     "text": [
      "/var/scratch/bmcmaste/2178229/ipykernel_2205981/477882467.py:1: FutureWarning: The default value of regex will change from True to False in a future version.\n",
      "  apo_holo_summary_df['ids'] = apo_holo_summary_df['file_name'].str.replace('.pdb$', '')\n"
     ]
    }
   ],
   "source": [
    "apo_holo_summary_df['ids'] = apo_holo_summary_df['file_name'].str.replace('.pdb$', '')"
   ]
  },
  {
   "cell_type": "markdown",
   "id": "0ee81a47",
   "metadata": {},
   "source": [
    "### Annotate results with summary data"
   ]
  },
  {
   "cell_type": "code",
   "execution_count": 10,
   "id": "9876ee46",
   "metadata": {},
   "outputs": [],
   "source": [
    "results = results.merge(apo_holo_summary_df[['ids', 'cdr_sequences_collated', 'peptide_sequence', 'mhc_slug']],\n",
    "                        left_on='complex_id',\n",
    "                        right_on='ids',\n",
    "                        how='left')"
   ]
  },
  {
   "cell_type": "code",
   "execution_count": 11,
   "id": "f9e76e8d",
   "metadata": {},
   "outputs": [],
   "source": [
    "results = pd.concat([results, results_holo_holo])"
   ]
  },
  {
   "cell_type": "code",
   "execution_count": 12,
   "id": "345f6a2e",
   "metadata": {},
   "outputs": [],
   "source": [
    "results = results.merge(\n",
    "    apo_holo_summary_df[['file_name', 'pdb_id', 'structure_type', 'state']],\n",
    "    how='left',\n",
    "    left_on='structure_x_name',\n",
    "    right_on='file_name',\n",
    ").merge(\n",
    "    apo_holo_summary_df[['file_name', 'pdb_id', 'structure_type', 'state']],\n",
    "    how='left',\n",
    "    left_on='structure_y_name',\n",
    "    right_on='file_name',\n",
    ")"
   ]
  },
  {
   "cell_type": "code",
   "execution_count": 13,
   "id": "204f784d",
   "metadata": {},
   "outputs": [],
   "source": [
    "def name_domain(chain_type: str, tcr_contact: bool) -> str | None:\n",
    "    match chain_type:\n",
    "        case 'antigen_chain':\n",
    "            return 'peptide'\n",
    "\n",
    "        case 'mhc_chain1':\n",
    "            if tcr_contact:\n",
    "                return 'mhc_tcr_contact'\n",
    "\n",
    "            return 'mhc'\n",
    "\n",
    "    return None\n",
    "\n",
    "results['domain'] = results.apply(lambda row: name_domain(row.chain_type, row.tcr_contact), axis='columns')"
   ]
  },
  {
   "cell_type": "code",
   "execution_count": 14,
   "id": "aa563645",
   "metadata": {},
   "outputs": [],
   "source": [
    "results['comparison'] = results['state_x'] + '-' + results['state_y']\n",
    "results['comparison'] = results['comparison'].map(lambda entry: 'apo-holo' if entry == 'holo-apo' else entry)"
   ]
  },
  {
   "cell_type": "code",
   "execution_count": 15,
   "id": "94de9656",
   "metadata": {},
   "outputs": [],
   "source": [
    "results['structure_comparison'] = results.apply(\n",
    "    lambda row: '-'.join(sorted([row.structure_x_name, row.structure_y_name])),\n",
    "    axis='columns',\n",
    ")\n",
    "results = results.drop_duplicates(['structure_comparison', 'domain'])"
   ]
  },
  {
   "cell_type": "code",
   "execution_count": 16,
   "id": "780f1b97",
   "metadata": {},
   "outputs": [],
   "source": [
    "results = results.groupby(['peptide_sequence',\n",
    "                           'mhc_slug',\n",
    "                           'comparison',\n",
    "                           'domain'], dropna=False)['rmsd'].mean().reset_index()"
   ]
  },
  {
   "cell_type": "code",
   "execution_count": 17,
   "id": "fe382667",
   "metadata": {},
   "outputs": [],
   "source": [
    "apo_holo_results = results.query(\"comparison == 'apo-holo'\")"
   ]
  },
  {
   "cell_type": "code",
   "execution_count": 18,
   "id": "ec49b256",
   "metadata": {},
   "outputs": [
    {
     "data": {
      "text/html": [
       "<div>\n",
       "<style scoped>\n",
       "    .dataframe tbody tr th:only-of-type {\n",
       "        vertical-align: middle;\n",
       "    }\n",
       "\n",
       "    .dataframe tbody tr th {\n",
       "        vertical-align: top;\n",
       "    }\n",
       "\n",
       "    .dataframe thead th {\n",
       "        text-align: right;\n",
       "    }\n",
       "</style>\n",
       "<table border=\"1\" class=\"dataframe\">\n",
       "  <thead>\n",
       "    <tr style=\"text-align: right;\">\n",
       "      <th></th>\n",
       "      <th>peptide_sequence</th>\n",
       "      <th>mhc_slug</th>\n",
       "      <th>comparison</th>\n",
       "      <th>domain</th>\n",
       "      <th>rmsd</th>\n",
       "    </tr>\n",
       "  </thead>\n",
       "  <tbody>\n",
       "    <tr>\n",
       "      <th>3</th>\n",
       "      <td>AAGIGILTV</td>\n",
       "      <td>hla_a_02_01</td>\n",
       "      <td>apo-holo</td>\n",
       "      <td>mhc</td>\n",
       "      <td>0.660376</td>\n",
       "    </tr>\n",
       "    <tr>\n",
       "      <th>4</th>\n",
       "      <td>AAGIGILTV</td>\n",
       "      <td>hla_a_02_01</td>\n",
       "      <td>apo-holo</td>\n",
       "      <td>mhc_tcr_contact</td>\n",
       "      <td>0.562211</td>\n",
       "    </tr>\n",
       "    <tr>\n",
       "      <th>5</th>\n",
       "      <td>AAGIGILTV</td>\n",
       "      <td>hla_a_02_01</td>\n",
       "      <td>apo-holo</td>\n",
       "      <td>peptide</td>\n",
       "      <td>1.025622</td>\n",
       "    </tr>\n",
       "    <tr>\n",
       "      <th>12</th>\n",
       "      <td>ALGIGILTV</td>\n",
       "      <td>hla_a_02_01</td>\n",
       "      <td>apo-holo</td>\n",
       "      <td>mhc</td>\n",
       "      <td>0.620830</td>\n",
       "    </tr>\n",
       "    <tr>\n",
       "      <th>13</th>\n",
       "      <td>ALGIGILTV</td>\n",
       "      <td>hla_a_02_01</td>\n",
       "      <td>apo-holo</td>\n",
       "      <td>mhc_tcr_contact</td>\n",
       "      <td>0.554737</td>\n",
       "    </tr>\n",
       "    <tr>\n",
       "      <th>...</th>\n",
       "      <td>...</td>\n",
       "      <td>...</td>\n",
       "      <td>...</td>\n",
       "      <td>...</td>\n",
       "      <td>...</td>\n",
       "    </tr>\n",
       "    <tr>\n",
       "      <th>462</th>\n",
       "      <td>YLQPRTFLL</td>\n",
       "      <td>hla_a_02_01</td>\n",
       "      <td>apo-holo</td>\n",
       "      <td>mhc_tcr_contact</td>\n",
       "      <td>0.578509</td>\n",
       "    </tr>\n",
       "    <tr>\n",
       "      <th>463</th>\n",
       "      <td>YLQPRTFLL</td>\n",
       "      <td>hla_a_02_01</td>\n",
       "      <td>apo-holo</td>\n",
       "      <td>peptide</td>\n",
       "      <td>0.584577</td>\n",
       "    </tr>\n",
       "    <tr>\n",
       "      <th>467</th>\n",
       "      <td>YQFGPDFPIA</td>\n",
       "      <td>hla_a_02_01</td>\n",
       "      <td>apo-holo</td>\n",
       "      <td>mhc</td>\n",
       "      <td>0.478941</td>\n",
       "    </tr>\n",
       "    <tr>\n",
       "      <th>468</th>\n",
       "      <td>YQFGPDFPIA</td>\n",
       "      <td>hla_a_02_01</td>\n",
       "      <td>apo-holo</td>\n",
       "      <td>mhc_tcr_contact</td>\n",
       "      <td>0.357204</td>\n",
       "    </tr>\n",
       "    <tr>\n",
       "      <th>469</th>\n",
       "      <td>YQFGPDFPIA</td>\n",
       "      <td>hla_a_02_01</td>\n",
       "      <td>apo-holo</td>\n",
       "      <td>peptide</td>\n",
       "      <td>0.408370</td>\n",
       "    </tr>\n",
       "  </tbody>\n",
       "</table>\n",
       "<p>242 rows × 5 columns</p>\n",
       "</div>"
      ],
      "text/plain": [
       "    peptide_sequence     mhc_slug comparison           domain      rmsd\n",
       "3          AAGIGILTV  hla_a_02_01   apo-holo              mhc  0.660376\n",
       "4          AAGIGILTV  hla_a_02_01   apo-holo  mhc_tcr_contact  0.562211\n",
       "5          AAGIGILTV  hla_a_02_01   apo-holo          peptide  1.025622\n",
       "12         ALGIGILTV  hla_a_02_01   apo-holo              mhc  0.620830\n",
       "13         ALGIGILTV  hla_a_02_01   apo-holo  mhc_tcr_contact  0.554737\n",
       "..               ...          ...        ...              ...       ...\n",
       "462        YLQPRTFLL  hla_a_02_01   apo-holo  mhc_tcr_contact  0.578509\n",
       "463        YLQPRTFLL  hla_a_02_01   apo-holo          peptide  0.584577\n",
       "467       YQFGPDFPIA  hla_a_02_01   apo-holo              mhc  0.478941\n",
       "468       YQFGPDFPIA  hla_a_02_01   apo-holo  mhc_tcr_contact  0.357204\n",
       "469       YQFGPDFPIA  hla_a_02_01   apo-holo          peptide  0.408370\n",
       "\n",
       "[242 rows x 5 columns]"
      ]
     },
     "execution_count": 18,
     "metadata": {},
     "output_type": "execute_result"
    }
   ],
   "source": [
    "apo_holo_results"
   ]
  },
  {
   "cell_type": "markdown",
   "id": "52811068",
   "metadata": {},
   "source": [
    "## Visualise results"
   ]
  },
  {
   "cell_type": "code",
   "execution_count": 19,
   "id": "0fe042c6",
   "metadata": {},
   "outputs": [
    {
     "data": {
      "text/plain": [
       "(-0.75, 2.75)"
      ]
     },
     "execution_count": 19,
     "metadata": {},
     "output_type": "execute_result"
    },
    {
     "data": {
      "image/png": "[encoded data removed]",
      "text/plain": [
       "<Figure size 640x480 with 1 Axes>"
      ]
     },
     "metadata": {},
     "output_type": "display_data"
    }
   ],
   "source": [
    "sns.boxplot(apo_holo_results, x='domain', y='rmsd')\n",
    "\n",
    "x = np.linspace(-0.75, 2.75)\n",
    "y = np.repeat(NOISE_LEVEL, len(x))\n",
    "\n",
    "plt.plot(x, y, '--r')\n",
    "plt.xlim(-0.75, 2.75)"
   ]
  },
  {
   "cell_type": "markdown",
   "id": "45587d19",
   "metadata": {},
   "source": [
    "## Compute Statistics"
   ]
  },
  {
   "cell_type": "code",
   "execution_count": 20,
   "id": "154a3ddb",
   "metadata": {},
   "outputs": [
    {
     "data": {
      "text/plain": [
       "<seaborn.axisgrid.FacetGrid at 0x7f2641194970>"
      ]
     },
     "execution_count": 20,
     "metadata": {},
     "output_type": "execute_result"
    },
    {
     "data": {
      "image/png": "[encoded data removed]",
      "text/plain": [
       "<Figure size 1500x500 with 3 Axes>"
      ]
     },
     "metadata": {},
     "output_type": "display_data"
    }
   ],
   "source": [
    "sns.displot(apo_holo_results, x='rmsd', col='domain')"
   ]
  },
  {
   "cell_type": "code",
   "execution_count": 21,
   "id": "46070795",
   "metadata": {},
   "outputs": [],
   "source": [
    "conditions = {domain: apo_holo_results[apo_holo_results['domain'] == domain]['rmsd'].values for domain in apo_holo_results['domain'].unique()}"
   ]
  },
  {
   "cell_type": "code",
   "execution_count": 22,
   "id": "832af280",
   "metadata": {},
   "outputs": [
    {
     "data": {
      "text/plain": [
       "F_onewayResult(statistic=13.305204363913258, pvalue=3.320938947108907e-06)"
      ]
     },
     "execution_count": 22,
     "metadata": {},
     "output_type": "execute_result"
    }
   ],
   "source": [
    "scipy.stats.f_oneway(*conditions.values())"
   ]
  },
  {
   "cell_type": "code",
   "execution_count": 23,
   "id": "864e408e",
   "metadata": {},
   "outputs": [
    {
     "data": {
      "text/html": [
       "<div>\n",
       "<style scoped>\n",
       "    .dataframe tbody tr th:only-of-type {\n",
       "        vertical-align: middle;\n",
       "    }\n",
       "\n",
       "    .dataframe tbody tr th {\n",
       "        vertical-align: top;\n",
       "    }\n",
       "\n",
       "    .dataframe thead th {\n",
       "        text-align: right;\n",
       "    }\n",
       "</style>\n",
       "<table border=\"1\" class=\"dataframe\">\n",
       "  <thead>\n",
       "    <tr style=\"text-align: right;\">\n",
       "      <th></th>\n",
       "      <th>condition_x</th>\n",
       "      <th>condition_y</th>\n",
       "      <th>stat</th>\n",
       "      <th>p_val</th>\n",
       "      <th>significant</th>\n",
       "    </tr>\n",
       "  </thead>\n",
       "  <tbody>\n",
       "    <tr>\n",
       "      <th>0</th>\n",
       "      <td>mhc</td>\n",
       "      <td>mhc_tcr_contact</td>\n",
       "      <td>2.391609</td>\n",
       "      <td>0.017935</td>\n",
       "      <td>False</td>\n",
       "    </tr>\n",
       "    <tr>\n",
       "      <th>1</th>\n",
       "      <td>mhc</td>\n",
       "      <td>peptide</td>\n",
       "      <td>-3.203906</td>\n",
       "      <td>0.001638</td>\n",
       "      <td>True</td>\n",
       "    </tr>\n",
       "    <tr>\n",
       "      <th>2</th>\n",
       "      <td>mhc_tcr_contact</td>\n",
       "      <td>peptide</td>\n",
       "      <td>-4.201672</td>\n",
       "      <td>0.000044</td>\n",
       "      <td>True</td>\n",
       "    </tr>\n",
       "  </tbody>\n",
       "</table>\n",
       "</div>"
      ],
      "text/plain": [
       "       condition_x      condition_y      stat     p_val  significant\n",
       "0              mhc  mhc_tcr_contact  2.391609  0.017935        False\n",
       "1              mhc          peptide -3.203906  0.001638         True\n",
       "2  mhc_tcr_contact          peptide -4.201672  0.000044         True"
      ]
     },
     "execution_count": 23,
     "metadata": {},
     "output_type": "execute_result"
    }
   ],
   "source": [
    "combos = list(itertools.combinations(conditions.items(), 2))\n",
    "\n",
    "significane_level = 0.05 / len(combos)\n",
    "\n",
    "ad_hoc_results = {'condition_x': [], 'condition_y': [], 'stat': [], 'p_val': []}\n",
    "for (condition_x_name, condition_x), (condition_y_name, condition_y) in combos:\n",
    "    ad_hoc_results['condition_x'].append(condition_x_name)\n",
    "    ad_hoc_results['condition_y'].append(condition_y_name)\n",
    "\n",
    "    stat, p_val = scipy.stats.ttest_ind(condition_x, condition_y)\n",
    "\n",
    "    ad_hoc_results['stat'].append(stat)\n",
    "    ad_hoc_results['p_val'].append(p_val)\n",
    "\n",
    "ad_hoc_results = pd.DataFrame(ad_hoc_results)\n",
    "\n",
    "ad_hoc_results['significant'] = ad_hoc_results['p_val'] < significane_level\n",
    "\n",
    "ad_hoc_results"
   ]
  },
  {
   "cell_type": "markdown",
   "id": "f2781d50",
   "metadata": {},
   "source": [
    "Based on these results it seems that the peptide undergoes conformational change but not the MHC molecule- either TCR-contacting or not."
   ]
  },
  {
   "cell_type": "markdown",
   "id": "a2c2985b",
   "metadata": {},
   "source": [
    "## Comparing the differences in binding between movement types"
   ]
  },
  {
   "cell_type": "code",
   "execution_count": 24,
   "id": "78d467d0",
   "metadata": {},
   "outputs": [
    {
     "data": {
      "text/plain": [
       "<seaborn.axisgrid.FacetGrid at 0x7f263ee23370>"
      ]
     },
     "execution_count": 24,
     "metadata": {},
     "output_type": "execute_result"
    },
    {
     "data": {
      "image/png": "[encoded data removed]",
      "text/plain": [
       "<Figure size 1511.11x500 with 3 Axes>"
      ]
     },
     "metadata": {},
     "output_type": "display_data"
    }
   ],
   "source": [
    "sns.catplot(results,\n",
    "            x='comparison', y='rmsd',\n",
    "            col='domain',\n",
    "            kind='box')"
   ]
  },
  {
   "cell_type": "code",
   "execution_count": 25,
   "id": "fb7a1d0a",
   "metadata": {},
   "outputs": [
    {
     "data": {
      "text/plain": [
       "<seaborn.axisgrid.FacetGrid at 0x7f263ee23fa0>"
      ]
     },
     "execution_count": 25,
     "metadata": {},
     "output_type": "execute_result"
    },
    {
     "data": {
      "image/png": "[encoded data removed]",
      "text/plain": [
       "<Figure size 1614.38x500 with 3 Axes>"
      ]
     },
     "metadata": {},
     "output_type": "display_data"
    }
   ],
   "source": [
    "sns.displot(results,\n",
    "            hue='comparison', x='rmsd',\n",
    "            col='domain',\n",
    "            kind='kde')"
   ]
  },
  {
   "cell_type": "code",
   "execution_count": 26,
   "id": "97de8d03",
   "metadata": {},
   "outputs": [
    {
     "name": "stdout",
     "output_type": "stream",
     "text": [
      "KruskalResult(statistic=114.03107622089692, pvalue=5.640784471619738e-21)\n"
     ]
    }
   ],
   "source": [
    "treatment_options = ['comparison', 'domain']\n",
    "treatments = [(group, df['rmsd'].to_numpy()) for group, df in results.groupby(treatment_options)]\n",
    "treatments\n",
    "print(scipy.stats.kruskal(*[values for _, values in treatments]))"
   ]
  },
  {
   "cell_type": "code",
   "execution_count": 27,
   "id": "3fc99044",
   "metadata": {},
   "outputs": [
    {
     "name": "stdout",
     "output_type": "stream",
     "text": [
      "0.005555555555555556\n"
     ]
    },
    {
     "data": {
      "text/html": [
       "<div>\n",
       "<style scoped>\n",
       "    .dataframe tbody tr th:only-of-type {\n",
       "        vertical-align: middle;\n",
       "    }\n",
       "\n",
       "    .dataframe tbody tr th {\n",
       "        vertical-align: top;\n",
       "    }\n",
       "\n",
       "    .dataframe thead th {\n",
       "        text-align: right;\n",
       "    }\n",
       "</style>\n",
       "<table border=\"1\" class=\"dataframe\">\n",
       "  <thead>\n",
       "    <tr style=\"text-align: right;\">\n",
       "      <th></th>\n",
       "      <th>comparison_x</th>\n",
       "      <th>domain_x</th>\n",
       "      <th>comparison_y</th>\n",
       "      <th>domain_y</th>\n",
       "      <th>statistic</th>\n",
       "      <th>p_val</th>\n",
       "      <th>significant</th>\n",
       "    </tr>\n",
       "  </thead>\n",
       "  <tbody>\n",
       "    <tr>\n",
       "      <th>0</th>\n",
       "      <td>apo-apo</td>\n",
       "      <td>mhc</td>\n",
       "      <td>apo-holo</td>\n",
       "      <td>mhc</td>\n",
       "      <td>-5.543219</td>\n",
       "      <td>2.97e-08</td>\n",
       "      <td>True</td>\n",
       "    </tr>\n",
       "    <tr>\n",
       "      <th>1</th>\n",
       "      <td>apo-apo</td>\n",
       "      <td>mhc</td>\n",
       "      <td>holo-holo</td>\n",
       "      <td>mhc</td>\n",
       "      <td>-3.284693</td>\n",
       "      <td>1.02e-03</td>\n",
       "      <td>True</td>\n",
       "    </tr>\n",
       "    <tr>\n",
       "      <th>2</th>\n",
       "      <td>apo-apo</td>\n",
       "      <td>mhc_tcr_contact</td>\n",
       "      <td>apo-holo</td>\n",
       "      <td>mhc_tcr_contact</td>\n",
       "      <td>-6.324955</td>\n",
       "      <td>2.53e-10</td>\n",
       "      <td>True</td>\n",
       "    </tr>\n",
       "    <tr>\n",
       "      <th>3</th>\n",
       "      <td>apo-apo</td>\n",
       "      <td>mhc_tcr_contact</td>\n",
       "      <td>holo-holo</td>\n",
       "      <td>mhc_tcr_contact</td>\n",
       "      <td>-4.029224</td>\n",
       "      <td>5.60e-05</td>\n",
       "      <td>True</td>\n",
       "    </tr>\n",
       "    <tr>\n",
       "      <th>4</th>\n",
       "      <td>apo-apo</td>\n",
       "      <td>peptide</td>\n",
       "      <td>apo-holo</td>\n",
       "      <td>peptide</td>\n",
       "      <td>-5.153956</td>\n",
       "      <td>2.55e-07</td>\n",
       "      <td>True</td>\n",
       "    </tr>\n",
       "    <tr>\n",
       "      <th>5</th>\n",
       "      <td>apo-apo</td>\n",
       "      <td>peptide</td>\n",
       "      <td>holo-holo</td>\n",
       "      <td>peptide</td>\n",
       "      <td>-3.624112</td>\n",
       "      <td>2.90e-04</td>\n",
       "      <td>True</td>\n",
       "    </tr>\n",
       "    <tr>\n",
       "      <th>6</th>\n",
       "      <td>apo-holo</td>\n",
       "      <td>mhc</td>\n",
       "      <td>holo-holo</td>\n",
       "      <td>mhc</td>\n",
       "      <td>0.602876</td>\n",
       "      <td>5.47e-01</td>\n",
       "      <td>False</td>\n",
       "    </tr>\n",
       "    <tr>\n",
       "      <th>7</th>\n",
       "      <td>apo-holo</td>\n",
       "      <td>mhc_tcr_contact</td>\n",
       "      <td>holo-holo</td>\n",
       "      <td>mhc_tcr_contact</td>\n",
       "      <td>1.496293</td>\n",
       "      <td>1.35e-01</td>\n",
       "      <td>False</td>\n",
       "    </tr>\n",
       "    <tr>\n",
       "      <th>8</th>\n",
       "      <td>apo-holo</td>\n",
       "      <td>peptide</td>\n",
       "      <td>holo-holo</td>\n",
       "      <td>peptide</td>\n",
       "      <td>-0.102800</td>\n",
       "      <td>9.18e-01</td>\n",
       "      <td>False</td>\n",
       "    </tr>\n",
       "  </tbody>\n",
       "</table>\n",
       "</div>"
      ],
      "text/plain": [
       "  comparison_x         domain_x comparison_y         domain_y  statistic  \\\n",
       "0      apo-apo              mhc     apo-holo              mhc  -5.543219   \n",
       "1      apo-apo              mhc    holo-holo              mhc  -3.284693   \n",
       "2      apo-apo  mhc_tcr_contact     apo-holo  mhc_tcr_contact  -6.324955   \n",
       "3      apo-apo  mhc_tcr_contact    holo-holo  mhc_tcr_contact  -4.029224   \n",
       "4      apo-apo          peptide     apo-holo          peptide  -5.153956   \n",
       "5      apo-apo          peptide    holo-holo          peptide  -3.624112   \n",
       "6     apo-holo              mhc    holo-holo              mhc   0.602876   \n",
       "7     apo-holo  mhc_tcr_contact    holo-holo  mhc_tcr_contact   1.496293   \n",
       "8     apo-holo          peptide    holo-holo          peptide  -0.102800   \n",
       "\n",
       "      p_val  significant  \n",
       "0  2.97e-08         True  \n",
       "1  1.02e-03         True  \n",
       "2  2.53e-10         True  \n",
       "3  5.60e-05         True  \n",
       "4  2.55e-07         True  \n",
       "5  2.90e-04         True  \n",
       "6  5.47e-01        False  \n",
       "7  1.35e-01        False  \n",
       "8  9.18e-01        False  "
      ]
     },
     "execution_count": 27,
     "metadata": {},
     "output_type": "execute_result"
    }
   ],
   "source": [
    "combos = []\n",
    "for pairing in list(itertools.combinations(treatments, 2)):\n",
    "    domain_x = pairing[0][0][1]\n",
    "    domain_y = pairing[1][0][1]\n",
    "\n",
    "    if domain_x == domain_y:\n",
    "        combos.append(pairing)\n",
    "\n",
    "significance_level = 0.05 / len(combos)\n",
    "print(significance_level)\n",
    "statistics = []\n",
    "p_vals = []\n",
    "\n",
    "for ((comparison_x, domain_x), sample_x), ((comparison_y, domain_y), sample_y) in combos:\n",
    "    stat, p_val = scipy.stats.ranksums(sample_x, sample_y)\n",
    "\n",
    "    statistics.append(stat)\n",
    "    p_vals.append(p_val)\n",
    "\n",
    "momvement_type_statistics = pd.DataFrame({\n",
    "    'comparison_x': [name for ((name, _,), _), _ in combos],\n",
    "    'domain_x': [name for ((_, name), _), _ in combos],\n",
    "    'comparison_y': [name for _, ((name, _), _) in combos],\n",
    "    'domain_y': [name for _, ((_, name), _) in combos],\n",
    "    'statistic': statistics,\n",
    "    'p_val': p_vals,\n",
    "    'significant': [p_val < significance_level for p_val in p_vals],\n",
    "})\n",
    "\n",
    "momvement_type_statistics['p_val'] = momvement_type_statistics['p_val'].map(lambda num: f'{num:.2e}')\n",
    "\n",
    "momvement_type_statistics"
   ]
  },
  {
   "cell_type": "markdown",
   "id": "d1a72f9b",
   "metadata": {},
   "source": [
    "## Conclusion\n",
    "\n",
    "This analysis reveals that the peptide undergoes the most change from *apo* to *holo* states and the MHC molecule has little change between these states. It does not matter whether it is the TCR contacting portion of the MHC or not. The statistical analysis comparing the differences between comparion types gives inconclusive results."
   ]
  }
 ],
 "metadata": {
  "kernelspec": {
   "display_name": "Python 3 (ipykernel)",
   "language": "python",
   "name": "python3"
  },
  "language_info": {
   "codemirror_mode": {
    "name": "ipython",
    "version": 3
   },
   "file_extension": ".py",
   "mimetype": "text/x-python",
   "name": "python",
   "nbconvert_exporter": "python",
   "pygments_lexer": "ipython3",
   "version": "3.10.14"
  }
 },
 "nbformat": 4,
 "nbformat_minor": 5
}
