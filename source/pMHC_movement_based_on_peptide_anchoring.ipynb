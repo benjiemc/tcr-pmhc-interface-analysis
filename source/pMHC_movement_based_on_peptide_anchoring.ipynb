{
 "cells": [
  {
   "cell_type": "markdown",
   "id": "b15395b0",
   "metadata": {},
   "source": [
    "# pMHC movement based on peptide anchoring"
   ]
  },
  {
   "cell_type": "markdown",
   "id": "f0d5a0e3",
   "metadata": {},
   "source": [
    "## Introduction\n",
    "\n",
    "In this notebook, *apo*-*holo* comparisons between different anchoring patterns of MHC alleles plotted next to each other. The anchoring patterns were determined by finding the peptide motifs of each MHC allele from the [MHCMotifAtlas](http://mhcmotifatlas.org/home) and using these strong motifs as anchors for the peptide.\n"
   ]
  },
  {
   "cell_type": "code",
   "execution_count": 1,
   "id": "91fe0fa0",
   "metadata": {
    "execution": {
     "iopub.execute_input": "2024-05-09T14:30:05.459410Z",
     "iopub.status.busy": "2024-05-09T14:30:05.459138Z",
     "iopub.status.idle": "2024-05-09T14:30:25.851697Z",
     "shell.execute_reply": "2024-05-09T14:30:25.850740Z"
    }
   },
   "outputs": [],
   "source": [
    "import matplotlib.pyplot as plt\n",
    "import numpy as np\n",
    "import pandas as pd\n",
    "import seaborn as sns\n",
    "from python_pdb.formats.residue import THREE_TO_ONE_CODE"
   ]
  },
  {
   "cell_type": "code",
   "execution_count": null,
   "id": "719f5e03",
   "metadata": {
    "execution": {
     "iopub.execute_input": "2024-05-09T14:30:25.866602Z",
     "iopub.status.busy": "2024-05-09T14:30:25.865343Z",
     "iopub.status.idle": "2024-05-09T14:30:26.209921Z",
     "shell.execute_reply": "2024-05-09T14:30:26.209285Z"
    }
   },
   "outputs": [
    {
     "data": {
      "text/html": [
       "<div>\n",
       "<style scoped>\n",
       "    .dataframe tbody tr th:only-of-type {\n",
       "        vertical-align: middle;\n",
       "    }\n",
       "\n",
       "    .dataframe tbody tr th {\n",
       "        vertical-align: top;\n",
       "    }\n",
       "\n",
       "    .dataframe thead th {\n",
       "        text-align: right;\n",
       "    }\n",
       "</style>\n",
       "<table border=\"1\" class=\"dataframe\">\n",
       "  <thead>\n",
       "    <tr style=\"text-align: right;\">\n",
       "      <th></th>\n",
       "      <th>allele_slug</th>\n",
       "      <th>position</th>\n",
       "      <th>amino_acid</th>\n",
       "      <th>peptide_length</th>\n",
       "    </tr>\n",
       "  </thead>\n",
       "  <tbody>\n",
       "    <tr>\n",
       "      <th>0</th>\n",
       "      <td>hla_a_01_01</td>\n",
       "      <td>2</td>\n",
       "      <td>T</td>\n",
       "      <td>9</td>\n",
       "    </tr>\n",
       "    <tr>\n",
       "      <th>1</th>\n",
       "      <td>hla_a_01_01</td>\n",
       "      <td>3</td>\n",
       "      <td>D</td>\n",
       "      <td>9</td>\n",
       "    </tr>\n",
       "    <tr>\n",
       "      <th>2</th>\n",
       "      <td>hla_a_01_01</td>\n",
       "      <td>9</td>\n",
       "      <td>Y</td>\n",
       "      <td>9</td>\n",
       "    </tr>\n",
       "    <tr>\n",
       "      <th>3</th>\n",
       "      <td>hla_a_02_01</td>\n",
       "      <td>2</td>\n",
       "      <td>L</td>\n",
       "      <td>9</td>\n",
       "    </tr>\n",
       "    <tr>\n",
       "      <th>4</th>\n",
       "      <td>hla_a_02_01</td>\n",
       "      <td>9</td>\n",
       "      <td>L</td>\n",
       "      <td>9</td>\n",
       "    </tr>\n",
       "    <tr>\n",
       "      <th>...</th>\n",
       "      <td>...</td>\n",
       "      <td>...</td>\n",
       "      <td>...</td>\n",
       "      <td>...</td>\n",
       "    </tr>\n",
       "    <tr>\n",
       "      <th>319</th>\n",
       "      <td>hla_g_01_03</td>\n",
       "      <td>1</td>\n",
       "      <td>K</td>\n",
       "      <td>9</td>\n",
       "    </tr>\n",
       "    <tr>\n",
       "      <th>320</th>\n",
       "      <td>hla_g_01_04</td>\n",
       "      <td>1</td>\n",
       "      <td>R</td>\n",
       "      <td>9</td>\n",
       "    </tr>\n",
       "    <tr>\n",
       "      <th>321</th>\n",
       "      <td>hla_g_01_04</td>\n",
       "      <td>3</td>\n",
       "      <td>P</td>\n",
       "      <td>9</td>\n",
       "    </tr>\n",
       "    <tr>\n",
       "      <th>322</th>\n",
       "      <td>hla_g_01_04</td>\n",
       "      <td>1</td>\n",
       "      <td>K</td>\n",
       "      <td>9</td>\n",
       "    </tr>\n",
       "    <tr>\n",
       "      <th>323</th>\n",
       "      <td>hla_g_01_04</td>\n",
       "      <td>9</td>\n",
       "      <td>L</td>\n",
       "      <td>9</td>\n",
       "    </tr>\n",
       "  </tbody>\n",
       "</table>\n",
       "<p>324 rows × 4 columns</p>\n",
       "</div>"
      ],
      "text/plain": [
       "     allele_slug  position amino_acid  peptide_length\n",
       "0    hla_a_01_01         2          T               9\n",
       "1    hla_a_01_01         3          D               9\n",
       "2    hla_a_01_01         9          Y               9\n",
       "3    hla_a_02_01         2          L               9\n",
       "4    hla_a_02_01         9          L               9\n",
       "..           ...       ...        ...             ...\n",
       "319  hla_g_01_03         1          K               9\n",
       "320  hla_g_01_04         1          R               9\n",
       "321  hla_g_01_04         3          P               9\n",
       "322  hla_g_01_04         1          K               9\n",
       "323  hla_g_01_04         9          L               9\n",
       "\n",
       "[324 rows x 4 columns]"
      ]
     },
     "execution_count": 2,
     "metadata": {},
     "output_type": "execute_result"
    }
   ],
   "source": [
    "mhc_anchor_position_df = pd.read_csv('../data/external/mhc_motif_atlas.csv')\n",
    "mhc_anchor_position_df = mhc_anchor_position_df.query(\"grade in ('high', 'dominant')\")\n",
    "mhc_anchor_position_df = mhc_anchor_position_df.sort_values('allele_slug')\n",
    "mhc_anchor_position_df = mhc_anchor_position_df[['allele_slug', 'position', 'amino_acid', 'peptide_length']]\n",
    "mhc_anchor_position_df = mhc_anchor_position_df.reset_index(drop=True)\n",
    "\n",
    "mhc_anchor_position_df"
   ]
  },
  {
   "cell_type": "markdown",
   "id": "1ca64e89",
   "metadata": {},
   "source": [
    "## Load *apo*-*holo* comparisons"
   ]
  },
  {
   "cell_type": "code",
   "execution_count": 3,
   "id": "1c30eb3f",
   "metadata": {
    "execution": {
     "iopub.execute_input": "2024-05-09T14:30:26.215054Z",
     "iopub.status.busy": "2024-05-09T14:30:26.213831Z",
     "iopub.status.idle": "2024-05-09T14:30:26.837859Z",
     "shell.execute_reply": "2024-05-09T14:30:26.837206Z"
    }
   },
   "outputs": [
    {
     "data": {
      "text/html": [
       "<div>\n",
       "<style scoped>\n",
       "    .dataframe tbody tr th:only-of-type {\n",
       "        vertical-align: middle;\n",
       "    }\n",
       "\n",
       "    .dataframe tbody tr th {\n",
       "        vertical-align: top;\n",
       "    }\n",
       "\n",
       "    .dataframe thead th {\n",
       "        text-align: right;\n",
       "    }\n",
       "</style>\n",
       "<table border=\"1\" class=\"dataframe\">\n",
       "  <thead>\n",
       "    <tr style=\"text-align: right;\">\n",
       "      <th></th>\n",
       "      <th>complex_id</th>\n",
       "      <th>structure_x_name</th>\n",
       "      <th>structure_y_name</th>\n",
       "      <th>chain_type</th>\n",
       "      <th>residue_name</th>\n",
       "      <th>residue_seq_id</th>\n",
       "      <th>residue_insert_code</th>\n",
       "      <th>rmsd</th>\n",
       "      <th>ca_distance</th>\n",
       "      <th>chi_angle_change</th>\n",
       "      <th>com_distance</th>\n",
       "    </tr>\n",
       "  </thead>\n",
       "  <tbody>\n",
       "    <tr>\n",
       "      <th>181</th>\n",
       "      <td>5c0a_D-E-C-A-B_tcr_pmhc</td>\n",
       "      <td>5c0a_D-E-C-A-B_tcr_pmhc.pdb</td>\n",
       "      <td>5n1y_C-A-B_pmhc.pdb</td>\n",
       "      <td>antigen_chain</td>\n",
       "      <td>MET</td>\n",
       "      <td>1</td>\n",
       "      <td>NaN</td>\n",
       "      <td>0.700531</td>\n",
       "      <td>0.237162</td>\n",
       "      <td>1.570636</td>\n",
       "      <td>0.364628</td>\n",
       "    </tr>\n",
       "    <tr>\n",
       "      <th>182</th>\n",
       "      <td>5c0a_D-E-C-A-B_tcr_pmhc</td>\n",
       "      <td>5c0a_D-E-C-A-B_tcr_pmhc.pdb</td>\n",
       "      <td>5n1y_C-A-B_pmhc.pdb</td>\n",
       "      <td>antigen_chain</td>\n",
       "      <td>VAL</td>\n",
       "      <td>2</td>\n",
       "      <td>NaN</td>\n",
       "      <td>0.114569</td>\n",
       "      <td>0.089359</td>\n",
       "      <td>0.009407</td>\n",
       "      <td>0.043732</td>\n",
       "    </tr>\n",
       "    <tr>\n",
       "      <th>183</th>\n",
       "      <td>5c0a_D-E-C-A-B_tcr_pmhc</td>\n",
       "      <td>5c0a_D-E-C-A-B_tcr_pmhc.pdb</td>\n",
       "      <td>5n1y_C-A-B_pmhc.pdb</td>\n",
       "      <td>antigen_chain</td>\n",
       "      <td>TRP</td>\n",
       "      <td>3</td>\n",
       "      <td>NaN</td>\n",
       "      <td>0.400840</td>\n",
       "      <td>0.233532</td>\n",
       "      <td>-0.019115</td>\n",
       "      <td>0.363989</td>\n",
       "    </tr>\n",
       "    <tr>\n",
       "      <th>184</th>\n",
       "      <td>5c0a_D-E-C-A-B_tcr_pmhc</td>\n",
       "      <td>5c0a_D-E-C-A-B_tcr_pmhc.pdb</td>\n",
       "      <td>5n1y_C-A-B_pmhc.pdb</td>\n",
       "      <td>antigen_chain</td>\n",
       "      <td>GLY</td>\n",
       "      <td>4</td>\n",
       "      <td>NaN</td>\n",
       "      <td>0.495618</td>\n",
       "      <td>0.262271</td>\n",
       "      <td>NaN</td>\n",
       "      <td>0.448252</td>\n",
       "    </tr>\n",
       "    <tr>\n",
       "      <th>185</th>\n",
       "      <td>5c0a_D-E-C-A-B_tcr_pmhc</td>\n",
       "      <td>5c0a_D-E-C-A-B_tcr_pmhc.pdb</td>\n",
       "      <td>5n1y_C-A-B_pmhc.pdb</td>\n",
       "      <td>antigen_chain</td>\n",
       "      <td>PRO</td>\n",
       "      <td>5</td>\n",
       "      <td>NaN</td>\n",
       "      <td>0.734430</td>\n",
       "      <td>0.486409</td>\n",
       "      <td>-0.842595</td>\n",
       "      <td>0.536198</td>\n",
       "    </tr>\n",
       "    <tr>\n",
       "      <th>...</th>\n",
       "      <td>...</td>\n",
       "      <td>...</td>\n",
       "      <td>...</td>\n",
       "      <td>...</td>\n",
       "      <td>...</td>\n",
       "      <td>...</td>\n",
       "      <td>...</td>\n",
       "      <td>...</td>\n",
       "      <td>...</td>\n",
       "      <td>...</td>\n",
       "      <td>...</td>\n",
       "    </tr>\n",
       "    <tr>\n",
       "      <th>209372</th>\n",
       "      <td>7rtr_D-E-C-A-B_tcr_pmhc</td>\n",
       "      <td>7rtd_C-A-B_pmhc.pdb</td>\n",
       "      <td>7rtr_D-E-C-A-B_tcr_pmhc.pdb</td>\n",
       "      <td>antigen_chain</td>\n",
       "      <td>ARG</td>\n",
       "      <td>5</td>\n",
       "      <td>NaN</td>\n",
       "      <td>1.064663</td>\n",
       "      <td>0.157924</td>\n",
       "      <td>0.364432</td>\n",
       "      <td>0.705033</td>\n",
       "    </tr>\n",
       "    <tr>\n",
       "      <th>209373</th>\n",
       "      <td>7rtr_D-E-C-A-B_tcr_pmhc</td>\n",
       "      <td>7rtd_C-A-B_pmhc.pdb</td>\n",
       "      <td>7rtr_D-E-C-A-B_tcr_pmhc.pdb</td>\n",
       "      <td>antigen_chain</td>\n",
       "      <td>THR</td>\n",
       "      <td>6</td>\n",
       "      <td>NaN</td>\n",
       "      <td>0.421897</td>\n",
       "      <td>0.345439</td>\n",
       "      <td>0.097701</td>\n",
       "      <td>0.344074</td>\n",
       "    </tr>\n",
       "    <tr>\n",
       "      <th>209374</th>\n",
       "      <td>7rtr_D-E-C-A-B_tcr_pmhc</td>\n",
       "      <td>7rtd_C-A-B_pmhc.pdb</td>\n",
       "      <td>7rtr_D-E-C-A-B_tcr_pmhc.pdb</td>\n",
       "      <td>antigen_chain</td>\n",
       "      <td>PHE</td>\n",
       "      <td>7</td>\n",
       "      <td>NaN</td>\n",
       "      <td>1.225982</td>\n",
       "      <td>0.317819</td>\n",
       "      <td>-0.347835</td>\n",
       "      <td>0.883236</td>\n",
       "    </tr>\n",
       "    <tr>\n",
       "      <th>209375</th>\n",
       "      <td>7rtr_D-E-C-A-B_tcr_pmhc</td>\n",
       "      <td>7rtd_C-A-B_pmhc.pdb</td>\n",
       "      <td>7rtr_D-E-C-A-B_tcr_pmhc.pdb</td>\n",
       "      <td>antigen_chain</td>\n",
       "      <td>LEU</td>\n",
       "      <td>8</td>\n",
       "      <td>NaN</td>\n",
       "      <td>1.323615</td>\n",
       "      <td>0.310356</td>\n",
       "      <td>0.612672</td>\n",
       "      <td>0.270049</td>\n",
       "    </tr>\n",
       "    <tr>\n",
       "      <th>209376</th>\n",
       "      <td>7rtr_D-E-C-A-B_tcr_pmhc</td>\n",
       "      <td>7rtd_C-A-B_pmhc.pdb</td>\n",
       "      <td>7rtr_D-E-C-A-B_tcr_pmhc.pdb</td>\n",
       "      <td>antigen_chain</td>\n",
       "      <td>LEU</td>\n",
       "      <td>9</td>\n",
       "      <td>NaN</td>\n",
       "      <td>1.599917</td>\n",
       "      <td>0.192969</td>\n",
       "      <td>0.885323</td>\n",
       "      <td>0.175807</td>\n",
       "    </tr>\n",
       "  </tbody>\n",
       "</table>\n",
       "<p>9857 rows × 11 columns</p>\n",
       "</div>"
      ],
      "text/plain": [
       "                     complex_id             structure_x_name  \\\n",
       "181     5c0a_D-E-C-A-B_tcr_pmhc  5c0a_D-E-C-A-B_tcr_pmhc.pdb   \n",
       "182     5c0a_D-E-C-A-B_tcr_pmhc  5c0a_D-E-C-A-B_tcr_pmhc.pdb   \n",
       "183     5c0a_D-E-C-A-B_tcr_pmhc  5c0a_D-E-C-A-B_tcr_pmhc.pdb   \n",
       "184     5c0a_D-E-C-A-B_tcr_pmhc  5c0a_D-E-C-A-B_tcr_pmhc.pdb   \n",
       "185     5c0a_D-E-C-A-B_tcr_pmhc  5c0a_D-E-C-A-B_tcr_pmhc.pdb   \n",
       "...                         ...                          ...   \n",
       "209372  7rtr_D-E-C-A-B_tcr_pmhc          7rtd_C-A-B_pmhc.pdb   \n",
       "209373  7rtr_D-E-C-A-B_tcr_pmhc          7rtd_C-A-B_pmhc.pdb   \n",
       "209374  7rtr_D-E-C-A-B_tcr_pmhc          7rtd_C-A-B_pmhc.pdb   \n",
       "209375  7rtr_D-E-C-A-B_tcr_pmhc          7rtd_C-A-B_pmhc.pdb   \n",
       "209376  7rtr_D-E-C-A-B_tcr_pmhc          7rtd_C-A-B_pmhc.pdb   \n",
       "\n",
       "                   structure_y_name     chain_type residue_name  \\\n",
       "181             5n1y_C-A-B_pmhc.pdb  antigen_chain          MET   \n",
       "182             5n1y_C-A-B_pmhc.pdb  antigen_chain          VAL   \n",
       "183             5n1y_C-A-B_pmhc.pdb  antigen_chain          TRP   \n",
       "184             5n1y_C-A-B_pmhc.pdb  antigen_chain          GLY   \n",
       "185             5n1y_C-A-B_pmhc.pdb  antigen_chain          PRO   \n",
       "...                             ...            ...          ...   \n",
       "209372  7rtr_D-E-C-A-B_tcr_pmhc.pdb  antigen_chain          ARG   \n",
       "209373  7rtr_D-E-C-A-B_tcr_pmhc.pdb  antigen_chain          THR   \n",
       "209374  7rtr_D-E-C-A-B_tcr_pmhc.pdb  antigen_chain          PHE   \n",
       "209375  7rtr_D-E-C-A-B_tcr_pmhc.pdb  antigen_chain          LEU   \n",
       "209376  7rtr_D-E-C-A-B_tcr_pmhc.pdb  antigen_chain          LEU   \n",
       "\n",
       "        residue_seq_id residue_insert_code      rmsd  ca_distance  \\\n",
       "181                  1                 NaN  0.700531     0.237162   \n",
       "182                  2                 NaN  0.114569     0.089359   \n",
       "183                  3                 NaN  0.400840     0.233532   \n",
       "184                  4                 NaN  0.495618     0.262271   \n",
       "185                  5                 NaN  0.734430     0.486409   \n",
       "...                ...                 ...       ...          ...   \n",
       "209372               5                 NaN  1.064663     0.157924   \n",
       "209373               6                 NaN  0.421897     0.345439   \n",
       "209374               7                 NaN  1.225982     0.317819   \n",
       "209375               8                 NaN  1.323615     0.310356   \n",
       "209376               9                 NaN  1.599917     0.192969   \n",
       "\n",
       "        chi_angle_change  com_distance  \n",
       "181             1.570636      0.364628  \n",
       "182             0.009407      0.043732  \n",
       "183            -0.019115      0.363989  \n",
       "184                  NaN      0.448252  \n",
       "185            -0.842595      0.536198  \n",
       "...                  ...           ...  \n",
       "209372          0.364432      0.705033  \n",
       "209373          0.097701      0.344074  \n",
       "209374         -0.347835      0.883236  \n",
       "209375          0.612672      0.270049  \n",
       "209376          0.885323      0.175807  \n",
       "\n",
       "[9857 rows x 11 columns]"
      ]
     },
     "execution_count": 3,
     "metadata": {},
     "output_type": "execute_result"
    }
   ],
   "source": [
    "apo_holo_comparison = pd.read_csv('../data/processed/apo-holo-tcr-pmhc-class-I-comparisons/pmhc_per_res_apo_holo.csv')\n",
    "\n",
    "peptide_apo_holo_comparison = apo_holo_comparison.query(\"chain_type == 'antigen_chain'\").copy()\n",
    "peptide_apo_holo_comparison"
   ]
  },
  {
   "cell_type": "code",
   "execution_count": 4,
   "id": "3c0def20",
   "metadata": {
    "execution": {
     "iopub.execute_input": "2024-05-09T14:30:26.842941Z",
     "iopub.status.busy": "2024-05-09T14:30:26.841694Z",
     "iopub.status.idle": "2024-05-09T14:30:26.874125Z",
     "shell.execute_reply": "2024-05-09T14:30:26.873483Z"
    }
   },
   "outputs": [],
   "source": [
    "peptide_apo_holo_comparison['peptide_length'] = \\\n",
    "    peptide_apo_holo_comparison.groupby(['complex_id',\n",
    "                                         'structure_x_name',\n",
    "                                         'structure_y_name']).transform('size')"
   ]
  },
  {
   "cell_type": "code",
   "execution_count": 5,
   "id": "65e48572",
   "metadata": {
    "execution": {
     "iopub.execute_input": "2024-05-09T14:30:26.879077Z",
     "iopub.status.busy": "2024-05-09T14:30:26.877679Z",
     "iopub.status.idle": "2024-05-09T14:30:26.884920Z",
     "shell.execute_reply": "2024-05-09T14:30:26.884335Z"
    }
   },
   "outputs": [],
   "source": [
    "peptide_apo_holo_comparison['amino_acid'] = peptide_apo_holo_comparison['residue_name'].map(THREE_TO_ONE_CODE)"
   ]
  },
  {
   "cell_type": "markdown",
   "id": "53e586f5",
   "metadata": {},
   "source": [
    "## Load summary data"
   ]
  },
  {
   "cell_type": "code",
   "execution_count": 6,
   "id": "92f435d2",
   "metadata": {
    "execution": {
     "iopub.execute_input": "2024-05-09T14:30:26.889830Z",
     "iopub.status.busy": "2024-05-09T14:30:26.888595Z",
     "iopub.status.idle": "2024-05-09T14:30:26.917441Z",
     "shell.execute_reply": "2024-05-09T14:30:26.916825Z"
    }
   },
   "outputs": [
    {
     "name": "stderr",
     "output_type": "stream",
     "text": [
      "/var/scratch/bmcmaste/2178229/ipykernel_2204500/1956598565.py:2: FutureWarning: The default value of regex will change from True to False in a future version.\n",
      "  summary_df['group_name'] = summary_df['file_name'].str.replace('.pdb', '')\n"
     ]
    },
    {
     "data": {
      "text/html": [
       "<div>\n",
       "<style scoped>\n",
       "    .dataframe tbody tr th:only-of-type {\n",
       "        vertical-align: middle;\n",
       "    }\n",
       "\n",
       "    .dataframe tbody tr th {\n",
       "        vertical-align: top;\n",
       "    }\n",
       "\n",
       "    .dataframe thead th {\n",
       "        text-align: right;\n",
       "    }\n",
       "</style>\n",
       "<table border=\"1\" class=\"dataframe\">\n",
       "  <thead>\n",
       "    <tr style=\"text-align: right;\">\n",
       "      <th></th>\n",
       "      <th>file_name</th>\n",
       "      <th>pdb_id</th>\n",
       "      <th>structure_type</th>\n",
       "      <th>state</th>\n",
       "      <th>alpha_chain</th>\n",
       "      <th>beta_chain</th>\n",
       "      <th>antigen_chain</th>\n",
       "      <th>mhc_chain1</th>\n",
       "      <th>mhc_chain2</th>\n",
       "      <th>cdr_sequences_collated</th>\n",
       "      <th>peptide_sequence</th>\n",
       "      <th>mhc_slug</th>\n",
       "      <th>group_name</th>\n",
       "    </tr>\n",
       "  </thead>\n",
       "  <tbody>\n",
       "    <tr>\n",
       "      <th>0</th>\n",
       "      <td>1ao7_D-E-C-A-B_tcr_pmhc.pdb</td>\n",
       "      <td>1ao7</td>\n",
       "      <td>tcr_pmhc</td>\n",
       "      <td>holo</td>\n",
       "      <td>D</td>\n",
       "      <td>E</td>\n",
       "      <td>C</td>\n",
       "      <td>A</td>\n",
       "      <td>B</td>\n",
       "      <td>DRGSQS-IYSNGD-AVTTDSWGKLQ-MNHEY-SVGAGI-ASRPGLA...</td>\n",
       "      <td>LLFGYPVYV</td>\n",
       "      <td>hla_a_02_01</td>\n",
       "      <td>1ao7_D-E-C-A-B_tcr_pmhc</td>\n",
       "    </tr>\n",
       "    <tr>\n",
       "      <th>1</th>\n",
       "      <td>1b0g_C-A-B_pmhc.pdb</td>\n",
       "      <td>1b0g</td>\n",
       "      <td>pmhc</td>\n",
       "      <td>apo</td>\n",
       "      <td>NaN</td>\n",
       "      <td>NaN</td>\n",
       "      <td>C</td>\n",
       "      <td>A</td>\n",
       "      <td>B</td>\n",
       "      <td>NaN</td>\n",
       "      <td>ALWGFFPVL</td>\n",
       "      <td>hla_a_02_01</td>\n",
       "      <td>1b0g_C-A-B_pmhc</td>\n",
       "    </tr>\n",
       "    <tr>\n",
       "      <th>2</th>\n",
       "      <td>1b0g_F-D-E_pmhc.pdb</td>\n",
       "      <td>1b0g</td>\n",
       "      <td>pmhc</td>\n",
       "      <td>apo</td>\n",
       "      <td>NaN</td>\n",
       "      <td>NaN</td>\n",
       "      <td>F</td>\n",
       "      <td>D</td>\n",
       "      <td>E</td>\n",
       "      <td>NaN</td>\n",
       "      <td>ALWGFFPVL</td>\n",
       "      <td>hla_a_02_01</td>\n",
       "      <td>1b0g_F-D-E_pmhc</td>\n",
       "    </tr>\n",
       "    <tr>\n",
       "      <th>3</th>\n",
       "      <td>1bd2_D-E-C-A-B_tcr_pmhc.pdb</td>\n",
       "      <td>1bd2</td>\n",
       "      <td>tcr_pmhc</td>\n",
       "      <td>holo</td>\n",
       "      <td>D</td>\n",
       "      <td>E</td>\n",
       "      <td>C</td>\n",
       "      <td>A</td>\n",
       "      <td>B</td>\n",
       "      <td>NSMFDY-ISSIKDK-AAMEGAQKLV-MNHEY-SVGAGI-ASSYPGG...</td>\n",
       "      <td>LLFGYPVYV</td>\n",
       "      <td>hla_a_02_01</td>\n",
       "      <td>1bd2_D-E-C-A-B_tcr_pmhc</td>\n",
       "    </tr>\n",
       "    <tr>\n",
       "      <th>4</th>\n",
       "      <td>1bii_P-A-B_pmhc.pdb</td>\n",
       "      <td>1bii</td>\n",
       "      <td>pmhc</td>\n",
       "      <td>apo</td>\n",
       "      <td>NaN</td>\n",
       "      <td>NaN</td>\n",
       "      <td>P</td>\n",
       "      <td>A</td>\n",
       "      <td>B</td>\n",
       "      <td>NaN</td>\n",
       "      <td>RGPGRAFVTI</td>\n",
       "      <td>h2_dd</td>\n",
       "      <td>1bii_P-A-B_pmhc</td>\n",
       "    </tr>\n",
       "    <tr>\n",
       "      <th>...</th>\n",
       "      <td>...</td>\n",
       "      <td>...</td>\n",
       "      <td>...</td>\n",
       "      <td>...</td>\n",
       "      <td>...</td>\n",
       "      <td>...</td>\n",
       "      <td>...</td>\n",
       "      <td>...</td>\n",
       "      <td>...</td>\n",
       "      <td>...</td>\n",
       "      <td>...</td>\n",
       "      <td>...</td>\n",
       "      <td>...</td>\n",
       "    </tr>\n",
       "    <tr>\n",
       "      <th>386</th>\n",
       "      <td>7rtd_C-A-B_pmhc.pdb</td>\n",
       "      <td>7rtd</td>\n",
       "      <td>pmhc</td>\n",
       "      <td>apo</td>\n",
       "      <td>NaN</td>\n",
       "      <td>NaN</td>\n",
       "      <td>C</td>\n",
       "      <td>A</td>\n",
       "      <td>B</td>\n",
       "      <td>NaN</td>\n",
       "      <td>YLQPRTFLL</td>\n",
       "      <td>hla_a_02_01</td>\n",
       "      <td>7rtd_C-A-B_pmhc</td>\n",
       "    </tr>\n",
       "    <tr>\n",
       "      <th>387</th>\n",
       "      <td>7rtr_D-E-C-A-B_tcr_pmhc.pdb</td>\n",
       "      <td>7rtr</td>\n",
       "      <td>tcr_pmhc</td>\n",
       "      <td>holo</td>\n",
       "      <td>D</td>\n",
       "      <td>E</td>\n",
       "      <td>C</td>\n",
       "      <td>A</td>\n",
       "      <td>B</td>\n",
       "      <td>DRGSQS-IYSNGD-AVNRDDKII-SEHNR-FQNEAQ-ASSPDIEQY</td>\n",
       "      <td>YLQPRTFLL</td>\n",
       "      <td>hla_a_02_01</td>\n",
       "      <td>7rtr_D-E-C-A-B_tcr_pmhc</td>\n",
       "    </tr>\n",
       "    <tr>\n",
       "      <th>388</th>\n",
       "      <td>8gvb_A-B-P-H-L_tcr_pmhc.pdb</td>\n",
       "      <td>8gvb</td>\n",
       "      <td>tcr_pmhc</td>\n",
       "      <td>holo</td>\n",
       "      <td>A</td>\n",
       "      <td>B</td>\n",
       "      <td>P</td>\n",
       "      <td>H</td>\n",
       "      <td>L</td>\n",
       "      <td>YGATPY-YFSGDTLV-AVGFTGGGNKLT-SEHNR-FQNEAQ-ASSD...</td>\n",
       "      <td>RYPLTFGW</td>\n",
       "      <td>hla_a_24_02</td>\n",
       "      <td>8gvb_A-B-P-H-L_tcr_pmhc</td>\n",
       "    </tr>\n",
       "    <tr>\n",
       "      <th>389</th>\n",
       "      <td>8gvg_A-B-P-H-L_tcr_pmhc.pdb</td>\n",
       "      <td>8gvg</td>\n",
       "      <td>tcr_pmhc</td>\n",
       "      <td>holo</td>\n",
       "      <td>A</td>\n",
       "      <td>B</td>\n",
       "      <td>P</td>\n",
       "      <td>H</td>\n",
       "      <td>L</td>\n",
       "      <td>YGATPY-YFSGDTLV-AVGFTGGGNKLT-SEHNR-FQNEAQ-ASSD...</td>\n",
       "      <td>RFPLTFGW</td>\n",
       "      <td>hla_a_24_02</td>\n",
       "      <td>8gvg_A-B-P-H-L_tcr_pmhc</td>\n",
       "    </tr>\n",
       "    <tr>\n",
       "      <th>390</th>\n",
       "      <td>8gvi_A-B-P-H-L_tcr_pmhc.pdb</td>\n",
       "      <td>8gvi</td>\n",
       "      <td>tcr_pmhc</td>\n",
       "      <td>holo</td>\n",
       "      <td>A</td>\n",
       "      <td>B</td>\n",
       "      <td>P</td>\n",
       "      <td>H</td>\n",
       "      <td>L</td>\n",
       "      <td>YGATPY-YFSGDTLV-AVVFTGGGNKLT-SEHNR-FQNEAQ-ASSL...</td>\n",
       "      <td>RYPLTFGW</td>\n",
       "      <td>hla_a_24_02</td>\n",
       "      <td>8gvi_A-B-P-H-L_tcr_pmhc</td>\n",
       "    </tr>\n",
       "  </tbody>\n",
       "</table>\n",
       "<p>391 rows × 13 columns</p>\n",
       "</div>"
      ],
      "text/plain": [
       "                       file_name pdb_id structure_type state alpha_chain  \\\n",
       "0    1ao7_D-E-C-A-B_tcr_pmhc.pdb   1ao7       tcr_pmhc  holo           D   \n",
       "1            1b0g_C-A-B_pmhc.pdb   1b0g           pmhc   apo         NaN   \n",
       "2            1b0g_F-D-E_pmhc.pdb   1b0g           pmhc   apo         NaN   \n",
       "3    1bd2_D-E-C-A-B_tcr_pmhc.pdb   1bd2       tcr_pmhc  holo           D   \n",
       "4            1bii_P-A-B_pmhc.pdb   1bii           pmhc   apo         NaN   \n",
       "..                           ...    ...            ...   ...         ...   \n",
       "386          7rtd_C-A-B_pmhc.pdb   7rtd           pmhc   apo         NaN   \n",
       "387  7rtr_D-E-C-A-B_tcr_pmhc.pdb   7rtr       tcr_pmhc  holo           D   \n",
       "388  8gvb_A-B-P-H-L_tcr_pmhc.pdb   8gvb       tcr_pmhc  holo           A   \n",
       "389  8gvg_A-B-P-H-L_tcr_pmhc.pdb   8gvg       tcr_pmhc  holo           A   \n",
       "390  8gvi_A-B-P-H-L_tcr_pmhc.pdb   8gvi       tcr_pmhc  holo           A   \n",
       "\n",
       "    beta_chain antigen_chain mhc_chain1 mhc_chain2  \\\n",
       "0            E             C          A          B   \n",
       "1          NaN             C          A          B   \n",
       "2          NaN             F          D          E   \n",
       "3            E             C          A          B   \n",
       "4          NaN             P          A          B   \n",
       "..         ...           ...        ...        ...   \n",
       "386        NaN             C          A          B   \n",
       "387          E             C          A          B   \n",
       "388          B             P          H          L   \n",
       "389          B             P          H          L   \n",
       "390          B             P          H          L   \n",
       "\n",
       "                                cdr_sequences_collated peptide_sequence  \\\n",
       "0    DRGSQS-IYSNGD-AVTTDSWGKLQ-MNHEY-SVGAGI-ASRPGLA...        LLFGYPVYV   \n",
       "1                                                  NaN        ALWGFFPVL   \n",
       "2                                                  NaN        ALWGFFPVL   \n",
       "3    NSMFDY-ISSIKDK-AAMEGAQKLV-MNHEY-SVGAGI-ASSYPGG...        LLFGYPVYV   \n",
       "4                                                  NaN       RGPGRAFVTI   \n",
       "..                                                 ...              ...   \n",
       "386                                                NaN        YLQPRTFLL   \n",
       "387     DRGSQS-IYSNGD-AVNRDDKII-SEHNR-FQNEAQ-ASSPDIEQY        YLQPRTFLL   \n",
       "388  YGATPY-YFSGDTLV-AVGFTGGGNKLT-SEHNR-FQNEAQ-ASSD...         RYPLTFGW   \n",
       "389  YGATPY-YFSGDTLV-AVGFTGGGNKLT-SEHNR-FQNEAQ-ASSD...         RFPLTFGW   \n",
       "390  YGATPY-YFSGDTLV-AVVFTGGGNKLT-SEHNR-FQNEAQ-ASSL...         RYPLTFGW   \n",
       "\n",
       "        mhc_slug               group_name  \n",
       "0    hla_a_02_01  1ao7_D-E-C-A-B_tcr_pmhc  \n",
       "1    hla_a_02_01          1b0g_C-A-B_pmhc  \n",
       "2    hla_a_02_01          1b0g_F-D-E_pmhc  \n",
       "3    hla_a_02_01  1bd2_D-E-C-A-B_tcr_pmhc  \n",
       "4          h2_dd          1bii_P-A-B_pmhc  \n",
       "..           ...                      ...  \n",
       "386  hla_a_02_01          7rtd_C-A-B_pmhc  \n",
       "387  hla_a_02_01  7rtr_D-E-C-A-B_tcr_pmhc  \n",
       "388  hla_a_24_02  8gvb_A-B-P-H-L_tcr_pmhc  \n",
       "389  hla_a_24_02  8gvg_A-B-P-H-L_tcr_pmhc  \n",
       "390  hla_a_24_02  8gvi_A-B-P-H-L_tcr_pmhc  \n",
       "\n",
       "[391 rows x 13 columns]"
      ]
     },
     "execution_count": 6,
     "metadata": {},
     "output_type": "execute_result"
    }
   ],
   "source": [
    "summary_df = pd.read_csv('../data/processed/apo-holo-tcr-pmhc-class-I/apo_holo_summary.csv')\n",
    "summary_df['group_name'] = summary_df['file_name'].str.replace('.pdb', '')\n",
    "\n",
    "summary_df"
   ]
  },
  {
   "cell_type": "markdown",
   "id": "d430a281",
   "metadata": {},
   "source": [
    "## Annotate *apo*-*holo* data with allele information"
   ]
  },
  {
   "cell_type": "code",
   "execution_count": 7,
   "id": "9950a2a1",
   "metadata": {
    "execution": {
     "iopub.execute_input": "2024-05-09T14:30:26.925466Z",
     "iopub.status.busy": "2024-05-09T14:30:26.924209Z",
     "iopub.status.idle": "2024-05-09T14:30:26.959265Z",
     "shell.execute_reply": "2024-05-09T14:30:26.958637Z"
    }
   },
   "outputs": [
    {
     "data": {
      "text/html": [
       "<div>\n",
       "<style scoped>\n",
       "    .dataframe tbody tr th:only-of-type {\n",
       "        vertical-align: middle;\n",
       "    }\n",
       "\n",
       "    .dataframe tbody tr th {\n",
       "        vertical-align: top;\n",
       "    }\n",
       "\n",
       "    .dataframe thead th {\n",
       "        text-align: right;\n",
       "    }\n",
       "</style>\n",
       "<table border=\"1\" class=\"dataframe\">\n",
       "  <thead>\n",
       "    <tr style=\"text-align: right;\">\n",
       "      <th></th>\n",
       "      <th>complex_id</th>\n",
       "      <th>structure_x_name</th>\n",
       "      <th>structure_y_name</th>\n",
       "      <th>chain_type</th>\n",
       "      <th>residue_name</th>\n",
       "      <th>residue_seq_id</th>\n",
       "      <th>residue_insert_code</th>\n",
       "      <th>rmsd</th>\n",
       "      <th>ca_distance</th>\n",
       "      <th>chi_angle_change</th>\n",
       "      <th>...</th>\n",
       "      <th>state</th>\n",
       "      <th>alpha_chain</th>\n",
       "      <th>beta_chain</th>\n",
       "      <th>antigen_chain</th>\n",
       "      <th>mhc_chain1</th>\n",
       "      <th>mhc_chain2</th>\n",
       "      <th>cdr_sequences_collated</th>\n",
       "      <th>peptide_sequence</th>\n",
       "      <th>mhc_slug</th>\n",
       "      <th>group_name</th>\n",
       "    </tr>\n",
       "  </thead>\n",
       "  <tbody>\n",
       "    <tr>\n",
       "      <th>0</th>\n",
       "      <td>5c0a_D-E-C-A-B_tcr_pmhc</td>\n",
       "      <td>5c0a_D-E-C-A-B_tcr_pmhc.pdb</td>\n",
       "      <td>5n1y_C-A-B_pmhc.pdb</td>\n",
       "      <td>antigen_chain</td>\n",
       "      <td>MET</td>\n",
       "      <td>1</td>\n",
       "      <td>NaN</td>\n",
       "      <td>0.700531</td>\n",
       "      <td>0.237162</td>\n",
       "      <td>1.570636</td>\n",
       "      <td>...</td>\n",
       "      <td>holo</td>\n",
       "      <td>D</td>\n",
       "      <td>E</td>\n",
       "      <td>C</td>\n",
       "      <td>A</td>\n",
       "      <td>B</td>\n",
       "      <td>NSAFQY-TYSSGN-AMRGDSSYKLI-SGHDY-FNNNVP-ASSLWEK...</td>\n",
       "      <td>MVWGPDPLYV</td>\n",
       "      <td>hla_a_02_01</td>\n",
       "      <td>5c0a_D-E-C-A-B_tcr_pmhc</td>\n",
       "    </tr>\n",
       "    <tr>\n",
       "      <th>1</th>\n",
       "      <td>5c0a_D-E-C-A-B_tcr_pmhc</td>\n",
       "      <td>5c0a_D-E-C-A-B_tcr_pmhc.pdb</td>\n",
       "      <td>5n1y_C-A-B_pmhc.pdb</td>\n",
       "      <td>antigen_chain</td>\n",
       "      <td>VAL</td>\n",
       "      <td>2</td>\n",
       "      <td>NaN</td>\n",
       "      <td>0.114569</td>\n",
       "      <td>0.089359</td>\n",
       "      <td>0.009407</td>\n",
       "      <td>...</td>\n",
       "      <td>holo</td>\n",
       "      <td>D</td>\n",
       "      <td>E</td>\n",
       "      <td>C</td>\n",
       "      <td>A</td>\n",
       "      <td>B</td>\n",
       "      <td>NSAFQY-TYSSGN-AMRGDSSYKLI-SGHDY-FNNNVP-ASSLWEK...</td>\n",
       "      <td>MVWGPDPLYV</td>\n",
       "      <td>hla_a_02_01</td>\n",
       "      <td>5c0a_D-E-C-A-B_tcr_pmhc</td>\n",
       "    </tr>\n",
       "    <tr>\n",
       "      <th>2</th>\n",
       "      <td>5c0a_D-E-C-A-B_tcr_pmhc</td>\n",
       "      <td>5c0a_D-E-C-A-B_tcr_pmhc.pdb</td>\n",
       "      <td>5n1y_C-A-B_pmhc.pdb</td>\n",
       "      <td>antigen_chain</td>\n",
       "      <td>TRP</td>\n",
       "      <td>3</td>\n",
       "      <td>NaN</td>\n",
       "      <td>0.400840</td>\n",
       "      <td>0.233532</td>\n",
       "      <td>-0.019115</td>\n",
       "      <td>...</td>\n",
       "      <td>holo</td>\n",
       "      <td>D</td>\n",
       "      <td>E</td>\n",
       "      <td>C</td>\n",
       "      <td>A</td>\n",
       "      <td>B</td>\n",
       "      <td>NSAFQY-TYSSGN-AMRGDSSYKLI-SGHDY-FNNNVP-ASSLWEK...</td>\n",
       "      <td>MVWGPDPLYV</td>\n",
       "      <td>hla_a_02_01</td>\n",
       "      <td>5c0a_D-E-C-A-B_tcr_pmhc</td>\n",
       "    </tr>\n",
       "    <tr>\n",
       "      <th>3</th>\n",
       "      <td>5c0a_D-E-C-A-B_tcr_pmhc</td>\n",
       "      <td>5c0a_D-E-C-A-B_tcr_pmhc.pdb</td>\n",
       "      <td>5n1y_C-A-B_pmhc.pdb</td>\n",
       "      <td>antigen_chain</td>\n",
       "      <td>GLY</td>\n",
       "      <td>4</td>\n",
       "      <td>NaN</td>\n",
       "      <td>0.495618</td>\n",
       "      <td>0.262271</td>\n",
       "      <td>NaN</td>\n",
       "      <td>...</td>\n",
       "      <td>holo</td>\n",
       "      <td>D</td>\n",
       "      <td>E</td>\n",
       "      <td>C</td>\n",
       "      <td>A</td>\n",
       "      <td>B</td>\n",
       "      <td>NSAFQY-TYSSGN-AMRGDSSYKLI-SGHDY-FNNNVP-ASSLWEK...</td>\n",
       "      <td>MVWGPDPLYV</td>\n",
       "      <td>hla_a_02_01</td>\n",
       "      <td>5c0a_D-E-C-A-B_tcr_pmhc</td>\n",
       "    </tr>\n",
       "    <tr>\n",
       "      <th>4</th>\n",
       "      <td>5c0a_D-E-C-A-B_tcr_pmhc</td>\n",
       "      <td>5c0a_D-E-C-A-B_tcr_pmhc.pdb</td>\n",
       "      <td>5n1y_C-A-B_pmhc.pdb</td>\n",
       "      <td>antigen_chain</td>\n",
       "      <td>PRO</td>\n",
       "      <td>5</td>\n",
       "      <td>NaN</td>\n",
       "      <td>0.734430</td>\n",
       "      <td>0.486409</td>\n",
       "      <td>-0.842595</td>\n",
       "      <td>...</td>\n",
       "      <td>holo</td>\n",
       "      <td>D</td>\n",
       "      <td>E</td>\n",
       "      <td>C</td>\n",
       "      <td>A</td>\n",
       "      <td>B</td>\n",
       "      <td>NSAFQY-TYSSGN-AMRGDSSYKLI-SGHDY-FNNNVP-ASSLWEK...</td>\n",
       "      <td>MVWGPDPLYV</td>\n",
       "      <td>hla_a_02_01</td>\n",
       "      <td>5c0a_D-E-C-A-B_tcr_pmhc</td>\n",
       "    </tr>\n",
       "    <tr>\n",
       "      <th>...</th>\n",
       "      <td>...</td>\n",
       "      <td>...</td>\n",
       "      <td>...</td>\n",
       "      <td>...</td>\n",
       "      <td>...</td>\n",
       "      <td>...</td>\n",
       "      <td>...</td>\n",
       "      <td>...</td>\n",
       "      <td>...</td>\n",
       "      <td>...</td>\n",
       "      <td>...</td>\n",
       "      <td>...</td>\n",
       "      <td>...</td>\n",
       "      <td>...</td>\n",
       "      <td>...</td>\n",
       "      <td>...</td>\n",
       "      <td>...</td>\n",
       "      <td>...</td>\n",
       "      <td>...</td>\n",
       "      <td>...</td>\n",
       "      <td>...</td>\n",
       "    </tr>\n",
       "    <tr>\n",
       "      <th>9852</th>\n",
       "      <td>7rtr_D-E-C-A-B_tcr_pmhc</td>\n",
       "      <td>7rtd_C-A-B_pmhc.pdb</td>\n",
       "      <td>7rtr_D-E-C-A-B_tcr_pmhc.pdb</td>\n",
       "      <td>antigen_chain</td>\n",
       "      <td>ARG</td>\n",
       "      <td>5</td>\n",
       "      <td>NaN</td>\n",
       "      <td>1.064663</td>\n",
       "      <td>0.157924</td>\n",
       "      <td>0.364432</td>\n",
       "      <td>...</td>\n",
       "      <td>holo</td>\n",
       "      <td>D</td>\n",
       "      <td>E</td>\n",
       "      <td>C</td>\n",
       "      <td>A</td>\n",
       "      <td>B</td>\n",
       "      <td>DRGSQS-IYSNGD-AVNRDDKII-SEHNR-FQNEAQ-ASSPDIEQY</td>\n",
       "      <td>YLQPRTFLL</td>\n",
       "      <td>hla_a_02_01</td>\n",
       "      <td>7rtr_D-E-C-A-B_tcr_pmhc</td>\n",
       "    </tr>\n",
       "    <tr>\n",
       "      <th>9853</th>\n",
       "      <td>7rtr_D-E-C-A-B_tcr_pmhc</td>\n",
       "      <td>7rtd_C-A-B_pmhc.pdb</td>\n",
       "      <td>7rtr_D-E-C-A-B_tcr_pmhc.pdb</td>\n",
       "      <td>antigen_chain</td>\n",
       "      <td>THR</td>\n",
       "      <td>6</td>\n",
       "      <td>NaN</td>\n",
       "      <td>0.421897</td>\n",
       "      <td>0.345439</td>\n",
       "      <td>0.097701</td>\n",
       "      <td>...</td>\n",
       "      <td>holo</td>\n",
       "      <td>D</td>\n",
       "      <td>E</td>\n",
       "      <td>C</td>\n",
       "      <td>A</td>\n",
       "      <td>B</td>\n",
       "      <td>DRGSQS-IYSNGD-AVNRDDKII-SEHNR-FQNEAQ-ASSPDIEQY</td>\n",
       "      <td>YLQPRTFLL</td>\n",
       "      <td>hla_a_02_01</td>\n",
       "      <td>7rtr_D-E-C-A-B_tcr_pmhc</td>\n",
       "    </tr>\n",
       "    <tr>\n",
       "      <th>9854</th>\n",
       "      <td>7rtr_D-E-C-A-B_tcr_pmhc</td>\n",
       "      <td>7rtd_C-A-B_pmhc.pdb</td>\n",
       "      <td>7rtr_D-E-C-A-B_tcr_pmhc.pdb</td>\n",
       "      <td>antigen_chain</td>\n",
       "      <td>PHE</td>\n",
       "      <td>7</td>\n",
       "      <td>NaN</td>\n",
       "      <td>1.225982</td>\n",
       "      <td>0.317819</td>\n",
       "      <td>-0.347835</td>\n",
       "      <td>...</td>\n",
       "      <td>holo</td>\n",
       "      <td>D</td>\n",
       "      <td>E</td>\n",
       "      <td>C</td>\n",
       "      <td>A</td>\n",
       "      <td>B</td>\n",
       "      <td>DRGSQS-IYSNGD-AVNRDDKII-SEHNR-FQNEAQ-ASSPDIEQY</td>\n",
       "      <td>YLQPRTFLL</td>\n",
       "      <td>hla_a_02_01</td>\n",
       "      <td>7rtr_D-E-C-A-B_tcr_pmhc</td>\n",
       "    </tr>\n",
       "    <tr>\n",
       "      <th>9855</th>\n",
       "      <td>7rtr_D-E-C-A-B_tcr_pmhc</td>\n",
       "      <td>7rtd_C-A-B_pmhc.pdb</td>\n",
       "      <td>7rtr_D-E-C-A-B_tcr_pmhc.pdb</td>\n",
       "      <td>antigen_chain</td>\n",
       "      <td>LEU</td>\n",
       "      <td>8</td>\n",
       "      <td>NaN</td>\n",
       "      <td>1.323615</td>\n",
       "      <td>0.310356</td>\n",
       "      <td>0.612672</td>\n",
       "      <td>...</td>\n",
       "      <td>holo</td>\n",
       "      <td>D</td>\n",
       "      <td>E</td>\n",
       "      <td>C</td>\n",
       "      <td>A</td>\n",
       "      <td>B</td>\n",
       "      <td>DRGSQS-IYSNGD-AVNRDDKII-SEHNR-FQNEAQ-ASSPDIEQY</td>\n",
       "      <td>YLQPRTFLL</td>\n",
       "      <td>hla_a_02_01</td>\n",
       "      <td>7rtr_D-E-C-A-B_tcr_pmhc</td>\n",
       "    </tr>\n",
       "    <tr>\n",
       "      <th>9856</th>\n",
       "      <td>7rtr_D-E-C-A-B_tcr_pmhc</td>\n",
       "      <td>7rtd_C-A-B_pmhc.pdb</td>\n",
       "      <td>7rtr_D-E-C-A-B_tcr_pmhc.pdb</td>\n",
       "      <td>antigen_chain</td>\n",
       "      <td>LEU</td>\n",
       "      <td>9</td>\n",
       "      <td>NaN</td>\n",
       "      <td>1.599917</td>\n",
       "      <td>0.192969</td>\n",
       "      <td>0.885323</td>\n",
       "      <td>...</td>\n",
       "      <td>holo</td>\n",
       "      <td>D</td>\n",
       "      <td>E</td>\n",
       "      <td>C</td>\n",
       "      <td>A</td>\n",
       "      <td>B</td>\n",
       "      <td>DRGSQS-IYSNGD-AVNRDDKII-SEHNR-FQNEAQ-ASSPDIEQY</td>\n",
       "      <td>YLQPRTFLL</td>\n",
       "      <td>hla_a_02_01</td>\n",
       "      <td>7rtr_D-E-C-A-B_tcr_pmhc</td>\n",
       "    </tr>\n",
       "  </tbody>\n",
       "</table>\n",
       "<p>9857 rows × 26 columns</p>\n",
       "</div>"
      ],
      "text/plain": [
       "                   complex_id             structure_x_name  \\\n",
       "0     5c0a_D-E-C-A-B_tcr_pmhc  5c0a_D-E-C-A-B_tcr_pmhc.pdb   \n",
       "1     5c0a_D-E-C-A-B_tcr_pmhc  5c0a_D-E-C-A-B_tcr_pmhc.pdb   \n",
       "2     5c0a_D-E-C-A-B_tcr_pmhc  5c0a_D-E-C-A-B_tcr_pmhc.pdb   \n",
       "3     5c0a_D-E-C-A-B_tcr_pmhc  5c0a_D-E-C-A-B_tcr_pmhc.pdb   \n",
       "4     5c0a_D-E-C-A-B_tcr_pmhc  5c0a_D-E-C-A-B_tcr_pmhc.pdb   \n",
       "...                       ...                          ...   \n",
       "9852  7rtr_D-E-C-A-B_tcr_pmhc          7rtd_C-A-B_pmhc.pdb   \n",
       "9853  7rtr_D-E-C-A-B_tcr_pmhc          7rtd_C-A-B_pmhc.pdb   \n",
       "9854  7rtr_D-E-C-A-B_tcr_pmhc          7rtd_C-A-B_pmhc.pdb   \n",
       "9855  7rtr_D-E-C-A-B_tcr_pmhc          7rtd_C-A-B_pmhc.pdb   \n",
       "9856  7rtr_D-E-C-A-B_tcr_pmhc          7rtd_C-A-B_pmhc.pdb   \n",
       "\n",
       "                 structure_y_name     chain_type residue_name  residue_seq_id  \\\n",
       "0             5n1y_C-A-B_pmhc.pdb  antigen_chain          MET               1   \n",
       "1             5n1y_C-A-B_pmhc.pdb  antigen_chain          VAL               2   \n",
       "2             5n1y_C-A-B_pmhc.pdb  antigen_chain          TRP               3   \n",
       "3             5n1y_C-A-B_pmhc.pdb  antigen_chain          GLY               4   \n",
       "4             5n1y_C-A-B_pmhc.pdb  antigen_chain          PRO               5   \n",
       "...                           ...            ...          ...             ...   \n",
       "9852  7rtr_D-E-C-A-B_tcr_pmhc.pdb  antigen_chain          ARG               5   \n",
       "9853  7rtr_D-E-C-A-B_tcr_pmhc.pdb  antigen_chain          THR               6   \n",
       "9854  7rtr_D-E-C-A-B_tcr_pmhc.pdb  antigen_chain          PHE               7   \n",
       "9855  7rtr_D-E-C-A-B_tcr_pmhc.pdb  antigen_chain          LEU               8   \n",
       "9856  7rtr_D-E-C-A-B_tcr_pmhc.pdb  antigen_chain          LEU               9   \n",
       "\n",
       "     residue_insert_code      rmsd  ca_distance  chi_angle_change  ...  state  \\\n",
       "0                    NaN  0.700531     0.237162          1.570636  ...   holo   \n",
       "1                    NaN  0.114569     0.089359          0.009407  ...   holo   \n",
       "2                    NaN  0.400840     0.233532         -0.019115  ...   holo   \n",
       "3                    NaN  0.495618     0.262271               NaN  ...   holo   \n",
       "4                    NaN  0.734430     0.486409         -0.842595  ...   holo   \n",
       "...                  ...       ...          ...               ...  ...    ...   \n",
       "9852                 NaN  1.064663     0.157924          0.364432  ...   holo   \n",
       "9853                 NaN  0.421897     0.345439          0.097701  ...   holo   \n",
       "9854                 NaN  1.225982     0.317819         -0.347835  ...   holo   \n",
       "9855                 NaN  1.323615     0.310356          0.612672  ...   holo   \n",
       "9856                 NaN  1.599917     0.192969          0.885323  ...   holo   \n",
       "\n",
       "      alpha_chain beta_chain antigen_chain mhc_chain1 mhc_chain2  \\\n",
       "0               D          E             C          A          B   \n",
       "1               D          E             C          A          B   \n",
       "2               D          E             C          A          B   \n",
       "3               D          E             C          A          B   \n",
       "4               D          E             C          A          B   \n",
       "...           ...        ...           ...        ...        ...   \n",
       "9852            D          E             C          A          B   \n",
       "9853            D          E             C          A          B   \n",
       "9854            D          E             C          A          B   \n",
       "9855            D          E             C          A          B   \n",
       "9856            D          E             C          A          B   \n",
       "\n",
       "                                 cdr_sequences_collated peptide_sequence  \\\n",
       "0     NSAFQY-TYSSGN-AMRGDSSYKLI-SGHDY-FNNNVP-ASSLWEK...       MVWGPDPLYV   \n",
       "1     NSAFQY-TYSSGN-AMRGDSSYKLI-SGHDY-FNNNVP-ASSLWEK...       MVWGPDPLYV   \n",
       "2     NSAFQY-TYSSGN-AMRGDSSYKLI-SGHDY-FNNNVP-ASSLWEK...       MVWGPDPLYV   \n",
       "3     NSAFQY-TYSSGN-AMRGDSSYKLI-SGHDY-FNNNVP-ASSLWEK...       MVWGPDPLYV   \n",
       "4     NSAFQY-TYSSGN-AMRGDSSYKLI-SGHDY-FNNNVP-ASSLWEK...       MVWGPDPLYV   \n",
       "...                                                 ...              ...   \n",
       "9852     DRGSQS-IYSNGD-AVNRDDKII-SEHNR-FQNEAQ-ASSPDIEQY        YLQPRTFLL   \n",
       "9853     DRGSQS-IYSNGD-AVNRDDKII-SEHNR-FQNEAQ-ASSPDIEQY        YLQPRTFLL   \n",
       "9854     DRGSQS-IYSNGD-AVNRDDKII-SEHNR-FQNEAQ-ASSPDIEQY        YLQPRTFLL   \n",
       "9855     DRGSQS-IYSNGD-AVNRDDKII-SEHNR-FQNEAQ-ASSPDIEQY        YLQPRTFLL   \n",
       "9856     DRGSQS-IYSNGD-AVNRDDKII-SEHNR-FQNEAQ-ASSPDIEQY        YLQPRTFLL   \n",
       "\n",
       "         mhc_slug               group_name  \n",
       "0     hla_a_02_01  5c0a_D-E-C-A-B_tcr_pmhc  \n",
       "1     hla_a_02_01  5c0a_D-E-C-A-B_tcr_pmhc  \n",
       "2     hla_a_02_01  5c0a_D-E-C-A-B_tcr_pmhc  \n",
       "3     hla_a_02_01  5c0a_D-E-C-A-B_tcr_pmhc  \n",
       "4     hla_a_02_01  5c0a_D-E-C-A-B_tcr_pmhc  \n",
       "...           ...                      ...  \n",
       "9852  hla_a_02_01  7rtr_D-E-C-A-B_tcr_pmhc  \n",
       "9853  hla_a_02_01  7rtr_D-E-C-A-B_tcr_pmhc  \n",
       "9854  hla_a_02_01  7rtr_D-E-C-A-B_tcr_pmhc  \n",
       "9855  hla_a_02_01  7rtr_D-E-C-A-B_tcr_pmhc  \n",
       "9856  hla_a_02_01  7rtr_D-E-C-A-B_tcr_pmhc  \n",
       "\n",
       "[9857 rows x 26 columns]"
      ]
     },
     "execution_count": 7,
     "metadata": {},
     "output_type": "execute_result"
    }
   ],
   "source": [
    "peptide_apo_holo_comparison = peptide_apo_holo_comparison.merge(summary_df, how='left', left_on='complex_id', right_on='group_name')\n",
    "peptide_apo_holo_comparison"
   ]
  },
  {
   "cell_type": "markdown",
   "id": "850a1234",
   "metadata": {},
   "source": [
    "## Combine anchoring information with *apo*-*holo* comparisons"
   ]
  },
  {
   "cell_type": "code",
   "execution_count": 8,
   "id": "a0029bc7",
   "metadata": {
    "execution": {
     "iopub.execute_input": "2024-05-09T14:30:26.964270Z",
     "iopub.status.busy": "2024-05-09T14:30:26.963038Z",
     "iopub.status.idle": "2024-05-09T14:30:26.968222Z",
     "shell.execute_reply": "2024-05-09T14:30:26.967612Z"
    }
   },
   "outputs": [],
   "source": [
    "mhc_anchor_position_df['anchor'] = True"
   ]
  },
  {
   "cell_type": "code",
   "execution_count": 9,
   "id": "62a7fca9",
   "metadata": {
    "execution": {
     "iopub.execute_input": "2024-05-09T14:30:26.973602Z",
     "iopub.status.busy": "2024-05-09T14:30:26.972358Z",
     "iopub.status.idle": "2024-05-09T14:30:26.986452Z",
     "shell.execute_reply": "2024-05-09T14:30:26.985827Z"
    }
   },
   "outputs": [],
   "source": [
    "peptide_apo_holo_comparison = peptide_apo_holo_comparison.merge(\n",
    "    mhc_anchor_position_df,\n",
    "    how='left',\n",
    "    left_on=['mhc_slug', 'residue_seq_id', 'amino_acid', 'peptide_length'],\n",
    "    right_on=['allele_slug', 'position', 'amino_acid', 'peptide_length'],\n",
    ")"
   ]
  },
  {
   "cell_type": "code",
   "execution_count": 10,
   "id": "f7376871",
   "metadata": {
    "execution": {
     "iopub.execute_input": "2024-05-09T14:30:26.991184Z",
     "iopub.status.busy": "2024-05-09T14:30:26.989947Z",
     "iopub.status.idle": "2024-05-09T14:30:27.427566Z",
     "shell.execute_reply": "2024-05-09T14:30:27.426859Z"
    }
   },
   "outputs": [],
   "source": [
    "def collate_anchors(group: pd.DataFrame) -> list[int]:\n",
    "    return sorted(group[group['anchor'] == True]['residue_seq_id'].unique().tolist())\n",
    "\n",
    "anchoring_strategies = peptide_apo_holo_comparison.groupby(['structure_x_name', 'structure_y_name']).apply(collate_anchors)\n",
    "anchoring_strategies.name = 'anchoring_strategy'\n",
    "anchoring_strategies = anchoring_strategies.reset_index()\n",
    "\n",
    "peptide_apo_holo_comparison = peptide_apo_holo_comparison.merge(anchoring_strategies, how='left', on=['structure_x_name', 'structure_y_name'])"
   ]
  },
  {
   "cell_type": "code",
   "execution_count": 11,
   "id": "fa7e9fe8",
   "metadata": {
    "execution": {
     "iopub.execute_input": "2024-05-09T14:30:27.433533Z",
     "iopub.status.busy": "2024-05-09T14:30:27.432249Z",
     "iopub.status.idle": "2024-05-09T14:30:27.445293Z",
     "shell.execute_reply": "2024-05-09T14:30:27.444708Z"
    }
   },
   "outputs": [],
   "source": [
    "def markup_anchor(anchors: list[int]) -> str:\n",
    "    anchors = [f'p{anchor}' for anchor in anchors]\n",
    "    return '-'.join(anchors)\n",
    "    \n",
    "peptide_apo_holo_comparison['anchoring_strategy_str'] = peptide_apo_holo_comparison['anchoring_strategy'].map(markup_anchor)"
   ]
  },
  {
   "cell_type": "code",
   "execution_count": 12,
   "id": "93015461",
   "metadata": {
    "execution": {
     "iopub.execute_input": "2024-05-09T14:30:27.450149Z",
     "iopub.status.busy": "2024-05-09T14:30:27.448930Z",
     "iopub.status.idle": "2024-05-09T14:30:27.473585Z",
     "shell.execute_reply": "2024-05-09T14:30:27.472981Z"
    }
   },
   "outputs": [],
   "source": [
    "def find_dominant_anchor(group: pd.DataFrame) -> str:\n",
    "    anchor_types = group['anchoring_strategy_str'].unique()\n",
    "    lengths = np.array([len(anchor) for anchor in anchor_types])\n",
    "    index = np.argmax(lengths)\n",
    "    \n",
    "    return anchor_types[index]\n",
    "\n",
    "dominant_anchors = peptide_apo_holo_comparison.groupby('mhc_slug').apply(find_dominant_anchor)\n",
    "dominant_anchors.name = 'dominant_anchor'\n",
    "dominant_anchors = dominant_anchors.reset_index()\n",
    "\n",
    "peptide_apo_holo_comparison = peptide_apo_holo_comparison.merge(dominant_anchors, how='left', on='mhc_slug')"
   ]
  },
  {
   "cell_type": "markdown",
   "id": "789e6b14",
   "metadata": {},
   "source": [
    "The below correction is applied as it is assumed that those peptide marked as solely 'p2' or 'p9' anchors are most likely still anchored by something at either end that is not necessarily the high or dominant motif."
   ]
  },
  {
   "cell_type": "code",
   "execution_count": 13,
   "id": "73d9f07c",
   "metadata": {},
   "outputs": [],
   "source": [
    "peptide_apo_holo_comparison['dominant_anchor'] = peptide_apo_holo_comparison['dominant_anchor'].map(\n",
    "    lambda strategy: 'p2-p9' if strategy in ('p2', 'p9') else strategy\n",
    ")"
   ]
  },
  {
   "cell_type": "code",
   "execution_count": 14,
   "id": "8fc31a01",
   "metadata": {},
   "outputs": [],
   "source": [
    "peptide_apo_holo_comparison_with_anchor = peptide_apo_holo_comparison.query(\"anchoring_strategy_str != ''\")"
   ]
  },
  {
   "cell_type": "markdown",
   "id": "84e45300",
   "metadata": {},
   "source": [
    "## Visualising the results"
   ]
  },
  {
   "cell_type": "code",
   "execution_count": 15,
   "id": "a8812f9c",
   "metadata": {
    "execution": {
     "iopub.execute_input": "2024-05-09T14:30:27.478678Z",
     "iopub.status.busy": "2024-05-09T14:30:27.477454Z",
     "iopub.status.idle": "2024-05-09T14:30:30.679102Z",
     "shell.execute_reply": "2024-05-09T14:30:30.678439Z"
    }
   },
   "outputs": [
    {
     "data": {
      "text/plain": [
       "<seaborn.axisgrid.FacetGrid at 0x7f6443502380>"
      ]
     },
     "execution_count": 15,
     "metadata": {},
     "output_type": "execute_result"
    },
    {
     "data": {
      "image/png": "[encoded data removed]",
      "text/plain": [
       "<Figure size 1011.11x500 with 2 Axes>"
      ]
     },
     "metadata": {},
     "output_type": "display_data"
    }
   ],
   "source": [
    "g = sns.catplot(peptide_apo_holo_comparison_with_anchor,\n",
    "                col='dominant_anchor',\n",
    "                x='residue_seq_id', y='rmsd',\n",
    "                sharex=False,\n",
    "                color='salmon',\n",
    "                kind='bar')\n",
    "\n",
    "def annotate(data, **kws):\n",
    "    groups = data.groupby(['mhc_slug', 'peptide_sequence'])\n",
    "    ax = plt.gca()\n",
    "    ax.text(0.45, 0.9, f'n={len(groups)}', fontsize=16, transform=ax.transAxes)\n",
    "\n",
    "g.map_dataframe(annotate)"
   ]
  },
  {
   "cell_type": "code",
   "execution_count": 16,
   "id": "7d5be643",
   "metadata": {
    "execution": {
     "iopub.execute_input": "2024-05-09T14:30:30.683741Z",
     "iopub.status.busy": "2024-05-09T14:30:30.682713Z",
     "iopub.status.idle": "2024-05-09T14:30:34.593874Z",
     "shell.execute_reply": "2024-05-09T14:30:34.593204Z"
    }
   },
   "outputs": [
    {
     "name": "stdout",
     "output_type": "stream",
     "text": [
      "hla_a_02_01\n",
      "p2-p9\n"
     ]
    },
    {
     "data": {
      "image/png": "[encoded data removed]",
      "text/plain": [
       "<Figure size 640x480 with 1 Axes>"
      ]
     },
     "metadata": {},
     "output_type": "display_data"
    },
    {
     "name": "stdout",
     "output_type": "stream",
     "text": [
      "hla_a_24_02\n",
      "p2-p9\n"
     ]
    },
    {
     "data": {
      "image/png": "[encoded data removed]",
      "text/plain": [
       "<Figure size 640x480 with 1 Axes>"
      ]
     },
     "metadata": {},
     "output_type": "display_data"
    },
    {
     "name": "stdout",
     "output_type": "stream",
     "text": [
      "hla_b_07_02\n",
      "p2-p9\n"
     ]
    },
    {
     "data": {
      "image/png": "[encoded data removed]",
      "text/plain": [
       "<Figure size 640x480 with 1 Axes>"
      ]
     },
     "metadata": {},
     "output_type": "display_data"
    },
    {
     "name": "stdout",
     "output_type": "stream",
     "text": [
      "hla_b_08_01\n",
      "p2-p5-p9\n"
     ]
    },
    {
     "data": {
      "image/png": "[encoded data removed]",
      "text/plain": [
       "<Figure size 640x480 with 1 Axes>"
      ]
     },
     "metadata": {},
     "output_type": "display_data"
    },
    {
     "name": "stdout",
     "output_type": "stream",
     "text": [
      "hla_b_35_01\n",
      "p2-p9\n"
     ]
    },
    {
     "data": {
      "image/png": "[encoded data removed]",
      "text/plain": [
       "<Figure size 640x480 with 1 Axes>"
      ]
     },
     "metadata": {},
     "output_type": "display_data"
    },
    {
     "name": "stdout",
     "output_type": "stream",
     "text": [
      "hla_b_37_01\n",
      "p2-p5-p9\n"
     ]
    },
    {
     "data": {
      "image/png": "[encoded data removed]",
      "text/plain": [
       "<Figure size 640x480 with 1 Axes>"
      ]
     },
     "metadata": {},
     "output_type": "display_data"
    },
    {
     "name": "stdout",
     "output_type": "stream",
     "text": [
      "hla_b_42_01\n",
      "p2-p9\n"
     ]
    },
    {
     "data": {
      "image/png": "[encoded data removed]",
      "text/plain": [
       "<Figure size 640x480 with 1 Axes>"
      ]
     },
     "metadata": {},
     "output_type": "display_data"
    },
    {
     "name": "stdout",
     "output_type": "stream",
     "text": [
      "hla_b_44_05\n",
      "p2-p9\n"
     ]
    },
    {
     "data": {
      "image/png": "[encoded data removed]",
      "text/plain": [
       "<Figure size 640x480 with 1 Axes>"
      ]
     },
     "metadata": {},
     "output_type": "display_data"
    },
    {
     "name": "stdout",
     "output_type": "stream",
     "text": [
      "hla_b_53_01\n",
      "p2-p9\n"
     ]
    },
    {
     "data": {
      "image/png": "[encoded data removed]",
      "text/plain": [
       "<Figure size 640x480 with 1 Axes>"
      ]
     },
     "metadata": {},
     "output_type": "display_data"
    },
    {
     "name": "stdout",
     "output_type": "stream",
     "text": [
      "hla_b_81_01\n",
      "p2-p9\n"
     ]
    },
    {
     "data": {
      "image/png": "[encoded data removed]",
      "text/plain": [
       "<Figure size 640x480 with 1 Axes>"
      ]
     },
     "metadata": {},
     "output_type": "display_data"
    },
    {
     "name": "stdout",
     "output_type": "stream",
     "text": [
      "hla_e_01_03\n",
      "p2-p9\n"
     ]
    },
    {
     "data": {
      "image/png": "[encoded data removed]",
      "text/plain": [
       "<Figure size 640x480 with 1 Axes>"
      ]
     },
     "metadata": {},
     "output_type": "display_data"
    }
   ],
   "source": [
    "max_rmsd = peptide_apo_holo_comparison_with_anchor['rmsd'].max()\n",
    "\n",
    "for mhc_slug, group in peptide_apo_holo_comparison_with_anchor.groupby('mhc_slug'):\n",
    "    print(mhc_slug)\n",
    "    print(group['dominant_anchor'].unique()[0])\n",
    "    plot = sns.barplot(group, x='residue_seq_id', y='rmsd', color='salmon')\n",
    "    plot.set_ylim((0, np.ceil(max_rmsd)))\n",
    "    plt.show()"
   ]
  },
  {
   "cell_type": "code",
   "execution_count": 17,
   "id": "211644fe",
   "metadata": {},
   "outputs": [
    {
     "data": {
      "text/plain": [
       "<AxesSubplot: xlabel='residue_seq_id', ylabel='rmsd'>"
      ]
     },
     "execution_count": 17,
     "metadata": {},
     "output_type": "execute_result"
    },
    {
     "data": {
      "image/png": "[encoded data removed]",
      "text/plain": [
       "<Figure size 640x480 with 1 Axes>"
      ]
     },
     "metadata": {},
     "output_type": "display_data"
    }
   ],
   "source": [
    "sns.barplot(peptide_apo_holo_comparison_with_anchor,\n",
    "            hue='dominant_anchor',\n",
    "            x='residue_seq_id', y='rmsd')"
   ]
  },
  {
   "cell_type": "code",
   "execution_count": null,
   "id": "23406418",
   "metadata": {},
   "outputs": [
    {
     "data": {
      "text/html": [
       "<div>\n",
       "<style scoped>\n",
       "    .dataframe tbody tr th:only-of-type {\n",
       "        vertical-align: middle;\n",
       "    }\n",
       "\n",
       "    .dataframe tbody tr th {\n",
       "        vertical-align: top;\n",
       "    }\n",
       "\n",
       "    .dataframe thead th {\n",
       "        text-align: right;\n",
       "    }\n",
       "</style>\n",
       "<table border=\"1\" class=\"dataframe\">\n",
       "  <thead>\n",
       "    <tr style=\"text-align: right;\">\n",
       "      <th></th>\n",
       "      <th>dominant_anchor</th>\n",
       "      <th>mhc_slug</th>\n",
       "    </tr>\n",
       "  </thead>\n",
       "  <tbody>\n",
       "    <tr>\n",
       "      <th>0</th>\n",
       "      <td>p2-p5-p9</td>\n",
       "      <td>hla_b_08_01</td>\n",
       "    </tr>\n",
       "    <tr>\n",
       "      <th>1</th>\n",
       "      <td>p2-p9</td>\n",
       "      <td>hla_e_01_03</td>\n",
       "    </tr>\n",
       "  </tbody>\n",
       "</table>\n",
       "</div>"
      ],
      "text/plain": [
       "  dominant_anchor     mhc_slug\n",
       "0        p2-p5-p9  hla_b_08_01\n",
       "1           p2-p9  hla_e_01_03"
      ]
     },
     "execution_count": 18,
     "metadata": {},
     "output_type": "execute_result"
    }
   ],
   "source": [
    "representative_alleles = (peptide_apo_holo_comparison_with_anchor.groupby('dominant_anchor')[['dominant_anchor', 'mhc_slug']]\n",
    "                                                                 .sample(1, random_state=1)\n",
    "                                                                 .reset_index(drop=True))\n",
    "representative_alleles"
   ]
  },
  {
   "cell_type": "code",
   "execution_count": 19,
   "id": "59d68b41",
   "metadata": {},
   "outputs": [
    {
     "data": {
      "text/plain": [
       "<AxesSubplot: xlabel='residue_seq_id', ylabel='rmsd'>"
      ]
     },
     "execution_count": 19,
     "metadata": {},
     "output_type": "execute_result"
    },
    {
     "data": {
      "image/png": "[encoded data removed]",
      "text/plain": [
       "<Figure size 640x480 with 1 Axes>"
      ]
     },
     "metadata": {},
     "output_type": "display_data"
    }
   ],
   "source": [
    "sns.barplot(peptide_apo_holo_comparison_with_anchor.query(\"mhc_slug.isin(@representative_alleles['mhc_slug'])\"),\n",
    "            hue='mhc_slug',\n",
    "            x='residue_seq_id', y='rmsd')"
   ]
  },
  {
   "cell_type": "markdown",
   "id": "21828333",
   "metadata": {},
   "source": [
    "## Conclusion\n",
    "\n",
    "From the visualisations it is clear that the profile of peptide conformational changes depends on the mhc allele and how the peptides are anchored by the allele."
   ]
  }
 ],
 "metadata": {
  "kernelspec": {
   "display_name": "Python 3 (ipykernel)",
   "language": "python",
   "name": "python3"
  },
  "language_info": {
   "codemirror_mode": {
    "name": "ipython",
    "version": 3
   },
   "file_extension": ".py",
   "mimetype": "text/x-python",
   "name": "python",
   "nbconvert_exporter": "python",
   "pygments_lexer": "ipython3",
   "version": "3.10.14"
  }
 },
 "nbformat": 4,
 "nbformat_minor": 5
}
