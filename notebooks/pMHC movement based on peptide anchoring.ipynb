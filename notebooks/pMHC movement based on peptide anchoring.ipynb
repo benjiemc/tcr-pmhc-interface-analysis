{
 "cells": [
  {
   "cell_type": "markdown",
   "id": "f0d5a0e3",
   "metadata": {},
   "source": [
    "# Introduction\n",
    "\n",
    "In this notebook, *apo*-*holo* comparisons between different anchoring patterns of MHC alleles plotted next to each other. From the visualisations it is clear that the profile of peptide conformational changes depends on the mhc allele.\n"
   ]
  },
  {
   "cell_type": "code",
   "execution_count": 1,
   "id": "91fe0fa0",
   "metadata": {
    "execution": {
     "iopub.execute_input": "2024-05-09T13:26:58.581448Z",
     "iopub.status.busy": "2024-05-09T13:26:58.580974Z",
     "iopub.status.idle": "2024-05-09T13:27:30.978885Z",
     "shell.execute_reply": "2024-05-09T13:27:30.977940Z"
    }
   },
   "outputs": [],
   "source": [
    "import sqlite3\n",
    "\n",
    "import matplotlib.pyplot as plt\n",
    "import numpy as np\n",
    "import pandas as pd\n",
    "import seaborn as sns\n",
    "from python_pdb.formats.residue import THREE_TO_ONE_CODE"
   ]
  },
  {
   "cell_type": "code",
   "execution_count": 2,
   "id": "35660d1e",
   "metadata": {
    "execution": {
     "iopub.execute_input": "2024-05-09T13:27:30.987192Z",
     "iopub.status.busy": "2024-05-09T13:27:30.985165Z",
     "iopub.status.idle": "2024-05-09T13:27:30.990989Z",
     "shell.execute_reply": "2024-05-09T13:27:30.990413Z"
    }
   },
   "outputs": [],
   "source": [
    "DATABASE = '../data/external/histo.db'"
   ]
  },
  {
   "cell_type": "code",
   "execution_count": 3,
   "id": "719f5e03",
   "metadata": {
    "execution": {
     "iopub.execute_input": "2024-05-09T13:27:30.996114Z",
     "iopub.status.busy": "2024-05-09T13:27:30.994896Z",
     "iopub.status.idle": "2024-05-09T13:27:31.153084Z",
     "shell.execute_reply": "2024-05-09T13:27:31.152421Z"
    }
   },
   "outputs": [
    {
     "data": {
      "text/html": [
       "<div>\n",
       "<style scoped>\n",
       "    .dataframe tbody tr th:only-of-type {\n",
       "        vertical-align: middle;\n",
       "    }\n",
       "\n",
       "    .dataframe tbody tr th {\n",
       "        vertical-align: top;\n",
       "    }\n",
       "\n",
       "    .dataframe thead th {\n",
       "        text-align: right;\n",
       "    }\n",
       "</style>\n",
       "<table border=\"1\" class=\"dataframe\">\n",
       "  <thead>\n",
       "    <tr style=\"text-align: right;\">\n",
       "      <th></th>\n",
       "      <th>allele_slug</th>\n",
       "      <th>position</th>\n",
       "      <th>amino_acid</th>\n",
       "      <th>peptide_length</th>\n",
       "    </tr>\n",
       "  </thead>\n",
       "  <tbody>\n",
       "    <tr>\n",
       "      <th>0</th>\n",
       "      <td>hla_a_01_01</td>\n",
       "      <td>2</td>\n",
       "      <td>T</td>\n",
       "      <td>9</td>\n",
       "    </tr>\n",
       "    <tr>\n",
       "      <th>1</th>\n",
       "      <td>hla_a_01_01</td>\n",
       "      <td>3</td>\n",
       "      <td>D</td>\n",
       "      <td>9</td>\n",
       "    </tr>\n",
       "    <tr>\n",
       "      <th>2</th>\n",
       "      <td>hla_a_01_01</td>\n",
       "      <td>9</td>\n",
       "      <td>Y</td>\n",
       "      <td>9</td>\n",
       "    </tr>\n",
       "    <tr>\n",
       "      <th>3</th>\n",
       "      <td>hla_a_02_01</td>\n",
       "      <td>2</td>\n",
       "      <td>L</td>\n",
       "      <td>9</td>\n",
       "    </tr>\n",
       "    <tr>\n",
       "      <th>4</th>\n",
       "      <td>hla_a_02_01</td>\n",
       "      <td>9</td>\n",
       "      <td>L</td>\n",
       "      <td>9</td>\n",
       "    </tr>\n",
       "    <tr>\n",
       "      <th>...</th>\n",
       "      <td>...</td>\n",
       "      <td>...</td>\n",
       "      <td>...</td>\n",
       "      <td>...</td>\n",
       "    </tr>\n",
       "    <tr>\n",
       "      <th>319</th>\n",
       "      <td>hla_g_01_03</td>\n",
       "      <td>9</td>\n",
       "      <td>L</td>\n",
       "      <td>9</td>\n",
       "    </tr>\n",
       "    <tr>\n",
       "      <th>320</th>\n",
       "      <td>hla_g_01_04</td>\n",
       "      <td>1</td>\n",
       "      <td>K</td>\n",
       "      <td>9</td>\n",
       "    </tr>\n",
       "    <tr>\n",
       "      <th>321</th>\n",
       "      <td>hla_g_01_04</td>\n",
       "      <td>1</td>\n",
       "      <td>R</td>\n",
       "      <td>9</td>\n",
       "    </tr>\n",
       "    <tr>\n",
       "      <th>322</th>\n",
       "      <td>hla_g_01_04</td>\n",
       "      <td>3</td>\n",
       "      <td>P</td>\n",
       "      <td>9</td>\n",
       "    </tr>\n",
       "    <tr>\n",
       "      <th>323</th>\n",
       "      <td>hla_g_01_04</td>\n",
       "      <td>9</td>\n",
       "      <td>L</td>\n",
       "      <td>9</td>\n",
       "    </tr>\n",
       "  </tbody>\n",
       "</table>\n",
       "<p>324 rows × 4 columns</p>\n",
       "</div>"
      ],
      "text/plain": [
       "     allele_slug  position amino_acid  peptide_length\n",
       "0    hla_a_01_01         2          T               9\n",
       "1    hla_a_01_01         3          D               9\n",
       "2    hla_a_01_01         9          Y               9\n",
       "3    hla_a_02_01         2          L               9\n",
       "4    hla_a_02_01         9          L               9\n",
       "..           ...       ...        ...             ...\n",
       "319  hla_g_01_03         9          L               9\n",
       "320  hla_g_01_04         1          K               9\n",
       "321  hla_g_01_04         1          R               9\n",
       "322  hla_g_01_04         3          P               9\n",
       "323  hla_g_01_04         9          L               9\n",
       "\n",
       "[324 rows x 4 columns]"
      ]
     },
     "execution_count": 3,
     "metadata": {},
     "output_type": "execute_result"
    }
   ],
   "source": [
    "mhc_anchor_position_query = '''\n",
    "SELECT allele_slug,\n",
    "       position,\n",
    "       amino_acid,\n",
    "       peptide_length\n",
    "FROM motifs\n",
    "WHERE motifs.grade in ('high', 'dominant')\n",
    "ORDER BY motifs.allele_slug\n",
    "'''\n",
    "with sqlite3.connect(DATABASE) as conn:\n",
    "    mhc_anchor_position_df = pd.read_sql_query(mhc_anchor_position_query, conn)\n",
    "\n",
    "mhc_anchor_position_df"
   ]
  },
  {
   "cell_type": "markdown",
   "id": "1ca64e89",
   "metadata": {},
   "source": [
    "# Load *apo*-*holo* comparisons"
   ]
  },
  {
   "cell_type": "code",
   "execution_count": 4,
   "id": "1c30eb3f",
   "metadata": {
    "execution": {
     "iopub.execute_input": "2024-05-09T13:27:31.158440Z",
     "iopub.status.busy": "2024-05-09T13:27:31.157218Z",
     "iopub.status.idle": "2024-05-09T13:27:31.768993Z",
     "shell.execute_reply": "2024-05-09T13:27:31.768334Z"
    }
   },
   "outputs": [
    {
     "data": {
      "text/html": [
       "<div>\n",
       "<style scoped>\n",
       "    .dataframe tbody tr th:only-of-type {\n",
       "        vertical-align: middle;\n",
       "    }\n",
       "\n",
       "    .dataframe tbody tr th {\n",
       "        vertical-align: top;\n",
       "    }\n",
       "\n",
       "    .dataframe thead th {\n",
       "        text-align: right;\n",
       "    }\n",
       "</style>\n",
       "<table border=\"1\" class=\"dataframe\">\n",
       "  <thead>\n",
       "    <tr style=\"text-align: right;\">\n",
       "      <th></th>\n",
       "      <th>complex_id</th>\n",
       "      <th>structure_x_name</th>\n",
       "      <th>structure_y_name</th>\n",
       "      <th>chain_type</th>\n",
       "      <th>residue_name</th>\n",
       "      <th>residue_seq_id</th>\n",
       "      <th>residue_insert_code</th>\n",
       "      <th>rmsd</th>\n",
       "      <th>ca_distance</th>\n",
       "      <th>chi_angle_change</th>\n",
       "      <th>com_distance</th>\n",
       "    </tr>\n",
       "  </thead>\n",
       "  <tbody>\n",
       "    <tr>\n",
       "      <th>362</th>\n",
       "      <td>7ow6_D-E-C-A-B_tcr_pmhc</td>\n",
       "      <td>7ow4_A-B-C_pmhc.pdb</td>\n",
       "      <td>7ow4_D-E-F_pmhc.pdb</td>\n",
       "      <td>antigen_chain</td>\n",
       "      <td>VAL</td>\n",
       "      <td>1</td>\n",
       "      <td>NaN</td>\n",
       "      <td>0.354933</td>\n",
       "      <td>0.330887</td>\n",
       "      <td>0.200330</td>\n",
       "      <td>0.316020</td>\n",
       "    </tr>\n",
       "    <tr>\n",
       "      <th>363</th>\n",
       "      <td>7ow6_D-E-C-A-B_tcr_pmhc</td>\n",
       "      <td>7ow4_A-B-C_pmhc.pdb</td>\n",
       "      <td>7ow4_D-E-F_pmhc.pdb</td>\n",
       "      <td>antigen_chain</td>\n",
       "      <td>VAL</td>\n",
       "      <td>2</td>\n",
       "      <td>NaN</td>\n",
       "      <td>0.262440</td>\n",
       "      <td>0.073709</td>\n",
       "      <td>0.030793</td>\n",
       "      <td>0.085332</td>\n",
       "    </tr>\n",
       "    <tr>\n",
       "      <th>364</th>\n",
       "      <td>7ow6_D-E-C-A-B_tcr_pmhc</td>\n",
       "      <td>7ow4_A-B-C_pmhc.pdb</td>\n",
       "      <td>7ow4_D-E-F_pmhc.pdb</td>\n",
       "      <td>antigen_chain</td>\n",
       "      <td>VAL</td>\n",
       "      <td>3</td>\n",
       "      <td>NaN</td>\n",
       "      <td>0.256739</td>\n",
       "      <td>0.248310</td>\n",
       "      <td>-0.007898</td>\n",
       "      <td>0.215858</td>\n",
       "    </tr>\n",
       "    <tr>\n",
       "      <th>365</th>\n",
       "      <td>7ow6_D-E-C-A-B_tcr_pmhc</td>\n",
       "      <td>7ow4_A-B-C_pmhc.pdb</td>\n",
       "      <td>7ow4_D-E-F_pmhc.pdb</td>\n",
       "      <td>antigen_chain</td>\n",
       "      <td>GLY</td>\n",
       "      <td>4</td>\n",
       "      <td>NaN</td>\n",
       "      <td>0.568505</td>\n",
       "      <td>0.622876</td>\n",
       "      <td>NaN</td>\n",
       "      <td>0.318856</td>\n",
       "    </tr>\n",
       "    <tr>\n",
       "      <th>366</th>\n",
       "      <td>7ow6_D-E-C-A-B_tcr_pmhc</td>\n",
       "      <td>7ow4_A-B-C_pmhc.pdb</td>\n",
       "      <td>7ow4_D-E-F_pmhc.pdb</td>\n",
       "      <td>antigen_chain</td>\n",
       "      <td>GLY</td>\n",
       "      <td>7</td>\n",
       "      <td>NaN</td>\n",
       "      <td>0.346240</td>\n",
       "      <td>0.192317</td>\n",
       "      <td>NaN</td>\n",
       "      <td>0.324260</td>\n",
       "    </tr>\n",
       "    <tr>\n",
       "      <th>...</th>\n",
       "      <td>...</td>\n",
       "      <td>...</td>\n",
       "      <td>...</td>\n",
       "      <td>...</td>\n",
       "      <td>...</td>\n",
       "      <td>...</td>\n",
       "      <td>...</td>\n",
       "      <td>...</td>\n",
       "      <td>...</td>\n",
       "      <td>...</td>\n",
       "      <td>...</td>\n",
       "    </tr>\n",
       "    <tr>\n",
       "      <th>252484</th>\n",
       "      <td>7rtr_D-E-C-A-B_tcr_pmhc</td>\n",
       "      <td>7mkb_A-B-C_pmhc.pdb</td>\n",
       "      <td>7n6d_M-N-O_pmhc.pdb</td>\n",
       "      <td>antigen_chain</td>\n",
       "      <td>ARG</td>\n",
       "      <td>5</td>\n",
       "      <td>NaN</td>\n",
       "      <td>1.085121</td>\n",
       "      <td>0.606346</td>\n",
       "      <td>-0.506604</td>\n",
       "      <td>0.698434</td>\n",
       "    </tr>\n",
       "    <tr>\n",
       "      <th>252485</th>\n",
       "      <td>7rtr_D-E-C-A-B_tcr_pmhc</td>\n",
       "      <td>7mkb_A-B-C_pmhc.pdb</td>\n",
       "      <td>7n6d_M-N-O_pmhc.pdb</td>\n",
       "      <td>antigen_chain</td>\n",
       "      <td>THR</td>\n",
       "      <td>6</td>\n",
       "      <td>NaN</td>\n",
       "      <td>0.872620</td>\n",
       "      <td>0.693754</td>\n",
       "      <td>0.351050</td>\n",
       "      <td>0.792142</td>\n",
       "    </tr>\n",
       "    <tr>\n",
       "      <th>252486</th>\n",
       "      <td>7rtr_D-E-C-A-B_tcr_pmhc</td>\n",
       "      <td>7mkb_A-B-C_pmhc.pdb</td>\n",
       "      <td>7n6d_M-N-O_pmhc.pdb</td>\n",
       "      <td>antigen_chain</td>\n",
       "      <td>PHE</td>\n",
       "      <td>7</td>\n",
       "      <td>NaN</td>\n",
       "      <td>0.398921</td>\n",
       "      <td>0.160938</td>\n",
       "      <td>-0.035465</td>\n",
       "      <td>0.240779</td>\n",
       "    </tr>\n",
       "    <tr>\n",
       "      <th>252487</th>\n",
       "      <td>7rtr_D-E-C-A-B_tcr_pmhc</td>\n",
       "      <td>7mkb_A-B-C_pmhc.pdb</td>\n",
       "      <td>7n6d_M-N-O_pmhc.pdb</td>\n",
       "      <td>antigen_chain</td>\n",
       "      <td>LEU</td>\n",
       "      <td>8</td>\n",
       "      <td>NaN</td>\n",
       "      <td>0.410068</td>\n",
       "      <td>0.308081</td>\n",
       "      <td>-0.027848</td>\n",
       "      <td>0.296089</td>\n",
       "    </tr>\n",
       "    <tr>\n",
       "      <th>252488</th>\n",
       "      <td>7rtr_D-E-C-A-B_tcr_pmhc</td>\n",
       "      <td>7mkb_A-B-C_pmhc.pdb</td>\n",
       "      <td>7n6d_M-N-O_pmhc.pdb</td>\n",
       "      <td>antigen_chain</td>\n",
       "      <td>LEU</td>\n",
       "      <td>9</td>\n",
       "      <td>NaN</td>\n",
       "      <td>1.024724</td>\n",
       "      <td>0.210518</td>\n",
       "      <td>-0.108161</td>\n",
       "      <td>0.226389</td>\n",
       "    </tr>\n",
       "  </tbody>\n",
       "</table>\n",
       "<p>11676 rows × 11 columns</p>\n",
       "</div>"
      ],
      "text/plain": [
       "                     complex_id     structure_x_name     structure_y_name  \\\n",
       "362     7ow6_D-E-C-A-B_tcr_pmhc  7ow4_A-B-C_pmhc.pdb  7ow4_D-E-F_pmhc.pdb   \n",
       "363     7ow6_D-E-C-A-B_tcr_pmhc  7ow4_A-B-C_pmhc.pdb  7ow4_D-E-F_pmhc.pdb   \n",
       "364     7ow6_D-E-C-A-B_tcr_pmhc  7ow4_A-B-C_pmhc.pdb  7ow4_D-E-F_pmhc.pdb   \n",
       "365     7ow6_D-E-C-A-B_tcr_pmhc  7ow4_A-B-C_pmhc.pdb  7ow4_D-E-F_pmhc.pdb   \n",
       "366     7ow6_D-E-C-A-B_tcr_pmhc  7ow4_A-B-C_pmhc.pdb  7ow4_D-E-F_pmhc.pdb   \n",
       "...                         ...                  ...                  ...   \n",
       "252484  7rtr_D-E-C-A-B_tcr_pmhc  7mkb_A-B-C_pmhc.pdb  7n6d_M-N-O_pmhc.pdb   \n",
       "252485  7rtr_D-E-C-A-B_tcr_pmhc  7mkb_A-B-C_pmhc.pdb  7n6d_M-N-O_pmhc.pdb   \n",
       "252486  7rtr_D-E-C-A-B_tcr_pmhc  7mkb_A-B-C_pmhc.pdb  7n6d_M-N-O_pmhc.pdb   \n",
       "252487  7rtr_D-E-C-A-B_tcr_pmhc  7mkb_A-B-C_pmhc.pdb  7n6d_M-N-O_pmhc.pdb   \n",
       "252488  7rtr_D-E-C-A-B_tcr_pmhc  7mkb_A-B-C_pmhc.pdb  7n6d_M-N-O_pmhc.pdb   \n",
       "\n",
       "           chain_type residue_name  residue_seq_id residue_insert_code  \\\n",
       "362     antigen_chain          VAL               1                 NaN   \n",
       "363     antigen_chain          VAL               2                 NaN   \n",
       "364     antigen_chain          VAL               3                 NaN   \n",
       "365     antigen_chain          GLY               4                 NaN   \n",
       "366     antigen_chain          GLY               7                 NaN   \n",
       "...               ...          ...             ...                 ...   \n",
       "252484  antigen_chain          ARG               5                 NaN   \n",
       "252485  antigen_chain          THR               6                 NaN   \n",
       "252486  antigen_chain          PHE               7                 NaN   \n",
       "252487  antigen_chain          LEU               8                 NaN   \n",
       "252488  antigen_chain          LEU               9                 NaN   \n",
       "\n",
       "            rmsd  ca_distance  chi_angle_change  com_distance  \n",
       "362     0.354933     0.330887          0.200330      0.316020  \n",
       "363     0.262440     0.073709          0.030793      0.085332  \n",
       "364     0.256739     0.248310         -0.007898      0.215858  \n",
       "365     0.568505     0.622876               NaN      0.318856  \n",
       "366     0.346240     0.192317               NaN      0.324260  \n",
       "...          ...          ...               ...           ...  \n",
       "252484  1.085121     0.606346         -0.506604      0.698434  \n",
       "252485  0.872620     0.693754          0.351050      0.792142  \n",
       "252486  0.398921     0.160938         -0.035465      0.240779  \n",
       "252487  0.410068     0.308081         -0.027848      0.296089  \n",
       "252488  1.024724     0.210518         -0.108161      0.226389  \n",
       "\n",
       "[11676 rows x 11 columns]"
      ]
     },
     "execution_count": 4,
     "metadata": {},
     "output_type": "execute_result"
    }
   ],
   "source": [
    "apo_holo_comparison = pd.read_csv('../data/processed/apo-holo-tcr-pmhc-class-I-comparisons/pmhc_per_res_apo_holo.csv')\n",
    "\n",
    "peptide_apo_holo_comparison = apo_holo_comparison.query(\"chain_type == 'antigen_chain'\").copy()\n",
    "peptide_apo_holo_comparison"
   ]
  },
  {
   "cell_type": "code",
   "execution_count": 5,
   "id": "3c0def20",
   "metadata": {
    "execution": {
     "iopub.execute_input": "2024-05-09T13:27:31.774227Z",
     "iopub.status.busy": "2024-05-09T13:27:31.772948Z",
     "iopub.status.idle": "2024-05-09T13:27:31.784671Z",
     "shell.execute_reply": "2024-05-09T13:27:31.784077Z"
    }
   },
   "outputs": [],
   "source": [
    "peptide_apo_holo_comparison['peptide_length'] = \\\n",
    "    peptide_apo_holo_comparison.groupby(['complex_id',\n",
    "                                         'structure_x_name',\n",
    "                                         'structure_y_name']).transform('size')"
   ]
  },
  {
   "cell_type": "code",
   "execution_count": 6,
   "id": "65e48572",
   "metadata": {
    "execution": {
     "iopub.execute_input": "2024-05-09T13:27:31.789520Z",
     "iopub.status.busy": "2024-05-09T13:27:31.788298Z",
     "iopub.status.idle": "2024-05-09T13:27:31.795253Z",
     "shell.execute_reply": "2024-05-09T13:27:31.794675Z"
    }
   },
   "outputs": [],
   "source": [
    "peptide_apo_holo_comparison['amino_acid'] = peptide_apo_holo_comparison['residue_name'].map(THREE_TO_ONE_CODE)"
   ]
  },
  {
   "cell_type": "markdown",
   "id": "53e586f5",
   "metadata": {},
   "source": [
    "# Load summary data"
   ]
  },
  {
   "cell_type": "code",
   "execution_count": 7,
   "id": "92f435d2",
   "metadata": {
    "execution": {
     "iopub.execute_input": "2024-05-09T13:27:31.800213Z",
     "iopub.status.busy": "2024-05-09T13:27:31.798977Z",
     "iopub.status.idle": "2024-05-09T13:27:32.050447Z",
     "shell.execute_reply": "2024-05-09T13:27:32.049764Z"
    }
   },
   "outputs": [
    {
     "name": "stderr",
     "output_type": "stream",
     "text": [
      "/var/scratch/bmcmaste/1340739/ipykernel_1458151/1956598565.py:2: FutureWarning: The default value of regex will change from True to False in a future version.\n",
      "  summary_df['group_name'] = summary_df['file_name'].str.replace('.pdb', '')\n"
     ]
    },
    {
     "data": {
      "text/html": [
       "<div>\n",
       "<style scoped>\n",
       "    .dataframe tbody tr th:only-of-type {\n",
       "        vertical-align: middle;\n",
       "    }\n",
       "\n",
       "    .dataframe tbody tr th {\n",
       "        vertical-align: top;\n",
       "    }\n",
       "\n",
       "    .dataframe thead th {\n",
       "        text-align: right;\n",
       "    }\n",
       "</style>\n",
       "<table border=\"1\" class=\"dataframe\">\n",
       "  <thead>\n",
       "    <tr style=\"text-align: right;\">\n",
       "      <th></th>\n",
       "      <th>file_name</th>\n",
       "      <th>pdb_id</th>\n",
       "      <th>structure_type</th>\n",
       "      <th>state</th>\n",
       "      <th>alpha_chain</th>\n",
       "      <th>beta_chain</th>\n",
       "      <th>antigen_chain</th>\n",
       "      <th>mhc_chain1</th>\n",
       "      <th>mhc_chain2</th>\n",
       "      <th>cdr_sequences_collated</th>\n",
       "      <th>peptide_sequence</th>\n",
       "      <th>mhc_slug</th>\n",
       "      <th>group_name</th>\n",
       "    </tr>\n",
       "  </thead>\n",
       "  <tbody>\n",
       "    <tr>\n",
       "      <th>0</th>\n",
       "      <td>1ao7_D-E-C-A-B_tcr_pmhc.pdb</td>\n",
       "      <td>1ao7</td>\n",
       "      <td>tcr_pmhc</td>\n",
       "      <td>holo</td>\n",
       "      <td>D</td>\n",
       "      <td>E</td>\n",
       "      <td>C</td>\n",
       "      <td>A</td>\n",
       "      <td>B</td>\n",
       "      <td>DRGSQS-IYSNGD-AVTTDSWGKLQ-MNHEY-SVGAGI-ASRPGLA...</td>\n",
       "      <td>LLFGYPVYV</td>\n",
       "      <td>hla_a_02_01</td>\n",
       "      <td>1ao7_D-E-C-A-B_tcr_pmhc</td>\n",
       "    </tr>\n",
       "    <tr>\n",
       "      <th>1</th>\n",
       "      <td>1bd2_D-E-C-A-B_tcr_pmhc.pdb</td>\n",
       "      <td>1bd2</td>\n",
       "      <td>tcr_pmhc</td>\n",
       "      <td>holo</td>\n",
       "      <td>D</td>\n",
       "      <td>E</td>\n",
       "      <td>C</td>\n",
       "      <td>A</td>\n",
       "      <td>B</td>\n",
       "      <td>NSMFDY-ISSIKDK-AAMEGAQKLV-MNHEY-SVGAGI-ASSYPGG...</td>\n",
       "      <td>LLFGYPVYV</td>\n",
       "      <td>hla_a_02_01</td>\n",
       "      <td>1bd2_D-E-C-A-B_tcr_pmhc</td>\n",
       "    </tr>\n",
       "    <tr>\n",
       "      <th>2</th>\n",
       "      <td>1bii_A-B-P_pmhc.pdb</td>\n",
       "      <td>1bii</td>\n",
       "      <td>pmhc</td>\n",
       "      <td>apo</td>\n",
       "      <td>NaN</td>\n",
       "      <td>NaN</td>\n",
       "      <td>P</td>\n",
       "      <td>A</td>\n",
       "      <td>B</td>\n",
       "      <td>NaN</td>\n",
       "      <td>RGPGRAFVTI</td>\n",
       "      <td>h2_dd</td>\n",
       "      <td>1bii_A-B-P_pmhc</td>\n",
       "    </tr>\n",
       "    <tr>\n",
       "      <th>3</th>\n",
       "      <td>1ddh_A-B-P_pmhc.pdb</td>\n",
       "      <td>1ddh</td>\n",
       "      <td>pmhc</td>\n",
       "      <td>apo</td>\n",
       "      <td>NaN</td>\n",
       "      <td>NaN</td>\n",
       "      <td>P</td>\n",
       "      <td>A</td>\n",
       "      <td>B</td>\n",
       "      <td>NaN</td>\n",
       "      <td>RGPGRAFVTI</td>\n",
       "      <td>h2_dd</td>\n",
       "      <td>1ddh_A-B-P_pmhc</td>\n",
       "    </tr>\n",
       "    <tr>\n",
       "      <th>4</th>\n",
       "      <td>1duz_A-B-C_pmhc.pdb</td>\n",
       "      <td>1duz</td>\n",
       "      <td>pmhc</td>\n",
       "      <td>apo</td>\n",
       "      <td>NaN</td>\n",
       "      <td>NaN</td>\n",
       "      <td>C</td>\n",
       "      <td>A</td>\n",
       "      <td>B</td>\n",
       "      <td>NaN</td>\n",
       "      <td>LLFGYPVYV</td>\n",
       "      <td>hla_a_02_01</td>\n",
       "      <td>1duz_A-B-C_pmhc</td>\n",
       "    </tr>\n",
       "    <tr>\n",
       "      <th>...</th>\n",
       "      <td>...</td>\n",
       "      <td>...</td>\n",
       "      <td>...</td>\n",
       "      <td>...</td>\n",
       "      <td>...</td>\n",
       "      <td>...</td>\n",
       "      <td>...</td>\n",
       "      <td>...</td>\n",
       "      <td>...</td>\n",
       "      <td>...</td>\n",
       "      <td>...</td>\n",
       "      <td>...</td>\n",
       "      <td>...</td>\n",
       "    </tr>\n",
       "    <tr>\n",
       "      <th>353</th>\n",
       "      <td>8gon_D-E-C-A-B_tcr_pmhc.pdb</td>\n",
       "      <td>8gon</td>\n",
       "      <td>tcr_pmhc</td>\n",
       "      <td>holo</td>\n",
       "      <td>D</td>\n",
       "      <td>E</td>\n",
       "      <td>C</td>\n",
       "      <td>A</td>\n",
       "      <td>B</td>\n",
       "      <td>TSESDYY-QEAYKQQN-ASSGNTPLV-SGHNS-FNNNVP-ASTWGR...</td>\n",
       "      <td>NaN</td>\n",
       "      <td>NaN</td>\n",
       "      <td>8gon_D-E-C-A-B_tcr_pmhc</td>\n",
       "    </tr>\n",
       "    <tr>\n",
       "      <th>354</th>\n",
       "      <td>8gop_A-B_tcr.pdb</td>\n",
       "      <td>8gop</td>\n",
       "      <td>tcr</td>\n",
       "      <td>apo</td>\n",
       "      <td>A</td>\n",
       "      <td>B</td>\n",
       "      <td>NaN</td>\n",
       "      <td>NaN</td>\n",
       "      <td>NaN</td>\n",
       "      <td>TSESDYY-QEAYKQQN-ASSGNTPLV-SGHNS-FNNNVP-ASTWGR...</td>\n",
       "      <td>NaN</td>\n",
       "      <td>NaN</td>\n",
       "      <td>8gop_A-B_tcr</td>\n",
       "    </tr>\n",
       "    <tr>\n",
       "      <th>355</th>\n",
       "      <td>8gvb_A-B-P-H-L_tcr_pmhc.pdb</td>\n",
       "      <td>8gvb</td>\n",
       "      <td>tcr_pmhc</td>\n",
       "      <td>holo</td>\n",
       "      <td>A</td>\n",
       "      <td>B</td>\n",
       "      <td>P</td>\n",
       "      <td>H</td>\n",
       "      <td>L</td>\n",
       "      <td>YGATPY-YFSGDTLV-AVGFTGGGNKLT-SEHNR-FQNEAQ-ASSD...</td>\n",
       "      <td>RYPLTFGW</td>\n",
       "      <td>hla_a_24_02</td>\n",
       "      <td>8gvb_A-B-P-H-L_tcr_pmhc</td>\n",
       "    </tr>\n",
       "    <tr>\n",
       "      <th>356</th>\n",
       "      <td>8gvg_A-B-P-H-L_tcr_pmhc.pdb</td>\n",
       "      <td>8gvg</td>\n",
       "      <td>tcr_pmhc</td>\n",
       "      <td>holo</td>\n",
       "      <td>A</td>\n",
       "      <td>B</td>\n",
       "      <td>P</td>\n",
       "      <td>H</td>\n",
       "      <td>L</td>\n",
       "      <td>YGATPY-YFSGDTLV-AVGFTGGGNKLT-SEHNR-FQNEAQ-ASSD...</td>\n",
       "      <td>RFPLTFGW</td>\n",
       "      <td>hla_a_24_02</td>\n",
       "      <td>8gvg_A-B-P-H-L_tcr_pmhc</td>\n",
       "    </tr>\n",
       "    <tr>\n",
       "      <th>357</th>\n",
       "      <td>8gvi_A-B-P-H-L_tcr_pmhc.pdb</td>\n",
       "      <td>8gvi</td>\n",
       "      <td>tcr_pmhc</td>\n",
       "      <td>holo</td>\n",
       "      <td>A</td>\n",
       "      <td>B</td>\n",
       "      <td>P</td>\n",
       "      <td>H</td>\n",
       "      <td>L</td>\n",
       "      <td>YGATPY-YFSGDTLV-AVVFTGGGNKLT-SEHNR-FQNEAQ-ASSL...</td>\n",
       "      <td>RYPLTFGW</td>\n",
       "      <td>hla_a_24_02</td>\n",
       "      <td>8gvi_A-B-P-H-L_tcr_pmhc</td>\n",
       "    </tr>\n",
       "  </tbody>\n",
       "</table>\n",
       "<p>358 rows × 13 columns</p>\n",
       "</div>"
      ],
      "text/plain": [
       "                       file_name pdb_id structure_type state alpha_chain  \\\n",
       "0    1ao7_D-E-C-A-B_tcr_pmhc.pdb   1ao7       tcr_pmhc  holo           D   \n",
       "1    1bd2_D-E-C-A-B_tcr_pmhc.pdb   1bd2       tcr_pmhc  holo           D   \n",
       "2            1bii_A-B-P_pmhc.pdb   1bii           pmhc   apo         NaN   \n",
       "3            1ddh_A-B-P_pmhc.pdb   1ddh           pmhc   apo         NaN   \n",
       "4            1duz_A-B-C_pmhc.pdb   1duz           pmhc   apo         NaN   \n",
       "..                           ...    ...            ...   ...         ...   \n",
       "353  8gon_D-E-C-A-B_tcr_pmhc.pdb   8gon       tcr_pmhc  holo           D   \n",
       "354             8gop_A-B_tcr.pdb   8gop            tcr   apo           A   \n",
       "355  8gvb_A-B-P-H-L_tcr_pmhc.pdb   8gvb       tcr_pmhc  holo           A   \n",
       "356  8gvg_A-B-P-H-L_tcr_pmhc.pdb   8gvg       tcr_pmhc  holo           A   \n",
       "357  8gvi_A-B-P-H-L_tcr_pmhc.pdb   8gvi       tcr_pmhc  holo           A   \n",
       "\n",
       "    beta_chain antigen_chain mhc_chain1 mhc_chain2  \\\n",
       "0            E             C          A          B   \n",
       "1            E             C          A          B   \n",
       "2          NaN             P          A          B   \n",
       "3          NaN             P          A          B   \n",
       "4          NaN             C          A          B   \n",
       "..         ...           ...        ...        ...   \n",
       "353          E             C          A          B   \n",
       "354          B           NaN        NaN        NaN   \n",
       "355          B             P          H          L   \n",
       "356          B             P          H          L   \n",
       "357          B             P          H          L   \n",
       "\n",
       "                                cdr_sequences_collated peptide_sequence  \\\n",
       "0    DRGSQS-IYSNGD-AVTTDSWGKLQ-MNHEY-SVGAGI-ASRPGLA...        LLFGYPVYV   \n",
       "1    NSMFDY-ISSIKDK-AAMEGAQKLV-MNHEY-SVGAGI-ASSYPGG...        LLFGYPVYV   \n",
       "2                                                  NaN       RGPGRAFVTI   \n",
       "3                                                  NaN       RGPGRAFVTI   \n",
       "4                                                  NaN        LLFGYPVYV   \n",
       "..                                                 ...              ...   \n",
       "353  TSESDYY-QEAYKQQN-ASSGNTPLV-SGHNS-FNNNVP-ASTWGR...              NaN   \n",
       "354  TSESDYY-QEAYKQQN-ASSGNTPLV-SGHNS-FNNNVP-ASTWGR...              NaN   \n",
       "355  YGATPY-YFSGDTLV-AVGFTGGGNKLT-SEHNR-FQNEAQ-ASSD...         RYPLTFGW   \n",
       "356  YGATPY-YFSGDTLV-AVGFTGGGNKLT-SEHNR-FQNEAQ-ASSD...         RFPLTFGW   \n",
       "357  YGATPY-YFSGDTLV-AVVFTGGGNKLT-SEHNR-FQNEAQ-ASSL...         RYPLTFGW   \n",
       "\n",
       "        mhc_slug               group_name  \n",
       "0    hla_a_02_01  1ao7_D-E-C-A-B_tcr_pmhc  \n",
       "1    hla_a_02_01  1bd2_D-E-C-A-B_tcr_pmhc  \n",
       "2          h2_dd          1bii_A-B-P_pmhc  \n",
       "3          h2_dd          1ddh_A-B-P_pmhc  \n",
       "4    hla_a_02_01          1duz_A-B-C_pmhc  \n",
       "..           ...                      ...  \n",
       "353          NaN  8gon_D-E-C-A-B_tcr_pmhc  \n",
       "354          NaN             8gop_A-B_tcr  \n",
       "355  hla_a_24_02  8gvb_A-B-P-H-L_tcr_pmhc  \n",
       "356  hla_a_24_02  8gvg_A-B-P-H-L_tcr_pmhc  \n",
       "357  hla_a_24_02  8gvi_A-B-P-H-L_tcr_pmhc  \n",
       "\n",
       "[358 rows x 13 columns]"
      ]
     },
     "execution_count": 7,
     "metadata": {},
     "output_type": "execute_result"
    }
   ],
   "source": [
    "summary_df = pd.read_csv('../data/processed/apo-holo-tcr-pmhc-class-I/apo_holo_summary.csv')\n",
    "summary_df['group_name'] = summary_df['file_name'].str.replace('.pdb', '')\n",
    "\n",
    "summary_df"
   ]
  },
  {
   "cell_type": "markdown",
   "id": "d430a281",
   "metadata": {},
   "source": [
    "# Annotate *apo*-*holo* data with allele information"
   ]
  },
  {
   "cell_type": "code",
   "execution_count": 8,
   "id": "9950a2a1",
   "metadata": {
    "execution": {
     "iopub.execute_input": "2024-05-09T13:27:32.055795Z",
     "iopub.status.busy": "2024-05-09T13:27:32.054527Z",
     "iopub.status.idle": "2024-05-09T13:27:32.090422Z",
     "shell.execute_reply": "2024-05-09T13:27:32.089749Z"
    }
   },
   "outputs": [
    {
     "data": {
      "text/html": [
       "<div>\n",
       "<style scoped>\n",
       "    .dataframe tbody tr th:only-of-type {\n",
       "        vertical-align: middle;\n",
       "    }\n",
       "\n",
       "    .dataframe tbody tr th {\n",
       "        vertical-align: top;\n",
       "    }\n",
       "\n",
       "    .dataframe thead th {\n",
       "        text-align: right;\n",
       "    }\n",
       "</style>\n",
       "<table border=\"1\" class=\"dataframe\">\n",
       "  <thead>\n",
       "    <tr style=\"text-align: right;\">\n",
       "      <th></th>\n",
       "      <th>complex_id</th>\n",
       "      <th>structure_x_name</th>\n",
       "      <th>structure_y_name</th>\n",
       "      <th>chain_type</th>\n",
       "      <th>residue_name</th>\n",
       "      <th>residue_seq_id</th>\n",
       "      <th>residue_insert_code</th>\n",
       "      <th>rmsd</th>\n",
       "      <th>ca_distance</th>\n",
       "      <th>chi_angle_change</th>\n",
       "      <th>...</th>\n",
       "      <th>state</th>\n",
       "      <th>alpha_chain</th>\n",
       "      <th>beta_chain</th>\n",
       "      <th>antigen_chain</th>\n",
       "      <th>mhc_chain1</th>\n",
       "      <th>mhc_chain2</th>\n",
       "      <th>cdr_sequences_collated</th>\n",
       "      <th>peptide_sequence</th>\n",
       "      <th>mhc_slug</th>\n",
       "      <th>group_name</th>\n",
       "    </tr>\n",
       "  </thead>\n",
       "  <tbody>\n",
       "    <tr>\n",
       "      <th>0</th>\n",
       "      <td>7ow6_D-E-C-A-B_tcr_pmhc</td>\n",
       "      <td>7ow4_A-B-C_pmhc.pdb</td>\n",
       "      <td>7ow4_D-E-F_pmhc.pdb</td>\n",
       "      <td>antigen_chain</td>\n",
       "      <td>VAL</td>\n",
       "      <td>1</td>\n",
       "      <td>NaN</td>\n",
       "      <td>0.354933</td>\n",
       "      <td>0.330887</td>\n",
       "      <td>0.200330</td>\n",
       "      <td>...</td>\n",
       "      <td>holo</td>\n",
       "      <td>D</td>\n",
       "      <td>E</td>\n",
       "      <td>C</td>\n",
       "      <td>A</td>\n",
       "      <td>B</td>\n",
       "      <td>TRDTAYY-QPWWGEQN-AMSVPSGDGSYQFT-MNHEY-SVGEGT-A...</td>\n",
       "      <td>VVVGADGVGK</td>\n",
       "      <td>hla_a_11_01</td>\n",
       "      <td>7ow6_D-E-C-A-B_tcr_pmhc</td>\n",
       "    </tr>\n",
       "    <tr>\n",
       "      <th>1</th>\n",
       "      <td>7ow6_D-E-C-A-B_tcr_pmhc</td>\n",
       "      <td>7ow4_A-B-C_pmhc.pdb</td>\n",
       "      <td>7ow4_D-E-F_pmhc.pdb</td>\n",
       "      <td>antigen_chain</td>\n",
       "      <td>VAL</td>\n",
       "      <td>2</td>\n",
       "      <td>NaN</td>\n",
       "      <td>0.262440</td>\n",
       "      <td>0.073709</td>\n",
       "      <td>0.030793</td>\n",
       "      <td>...</td>\n",
       "      <td>holo</td>\n",
       "      <td>D</td>\n",
       "      <td>E</td>\n",
       "      <td>C</td>\n",
       "      <td>A</td>\n",
       "      <td>B</td>\n",
       "      <td>TRDTAYY-QPWWGEQN-AMSVPSGDGSYQFT-MNHEY-SVGEGT-A...</td>\n",
       "      <td>VVVGADGVGK</td>\n",
       "      <td>hla_a_11_01</td>\n",
       "      <td>7ow6_D-E-C-A-B_tcr_pmhc</td>\n",
       "    </tr>\n",
       "    <tr>\n",
       "      <th>2</th>\n",
       "      <td>7ow6_D-E-C-A-B_tcr_pmhc</td>\n",
       "      <td>7ow4_A-B-C_pmhc.pdb</td>\n",
       "      <td>7ow4_D-E-F_pmhc.pdb</td>\n",
       "      <td>antigen_chain</td>\n",
       "      <td>VAL</td>\n",
       "      <td>3</td>\n",
       "      <td>NaN</td>\n",
       "      <td>0.256739</td>\n",
       "      <td>0.248310</td>\n",
       "      <td>-0.007898</td>\n",
       "      <td>...</td>\n",
       "      <td>holo</td>\n",
       "      <td>D</td>\n",
       "      <td>E</td>\n",
       "      <td>C</td>\n",
       "      <td>A</td>\n",
       "      <td>B</td>\n",
       "      <td>TRDTAYY-QPWWGEQN-AMSVPSGDGSYQFT-MNHEY-SVGEGT-A...</td>\n",
       "      <td>VVVGADGVGK</td>\n",
       "      <td>hla_a_11_01</td>\n",
       "      <td>7ow6_D-E-C-A-B_tcr_pmhc</td>\n",
       "    </tr>\n",
       "    <tr>\n",
       "      <th>3</th>\n",
       "      <td>7ow6_D-E-C-A-B_tcr_pmhc</td>\n",
       "      <td>7ow4_A-B-C_pmhc.pdb</td>\n",
       "      <td>7ow4_D-E-F_pmhc.pdb</td>\n",
       "      <td>antigen_chain</td>\n",
       "      <td>GLY</td>\n",
       "      <td>4</td>\n",
       "      <td>NaN</td>\n",
       "      <td>0.568505</td>\n",
       "      <td>0.622876</td>\n",
       "      <td>NaN</td>\n",
       "      <td>...</td>\n",
       "      <td>holo</td>\n",
       "      <td>D</td>\n",
       "      <td>E</td>\n",
       "      <td>C</td>\n",
       "      <td>A</td>\n",
       "      <td>B</td>\n",
       "      <td>TRDTAYY-QPWWGEQN-AMSVPSGDGSYQFT-MNHEY-SVGEGT-A...</td>\n",
       "      <td>VVVGADGVGK</td>\n",
       "      <td>hla_a_11_01</td>\n",
       "      <td>7ow6_D-E-C-A-B_tcr_pmhc</td>\n",
       "    </tr>\n",
       "    <tr>\n",
       "      <th>4</th>\n",
       "      <td>7ow6_D-E-C-A-B_tcr_pmhc</td>\n",
       "      <td>7ow4_A-B-C_pmhc.pdb</td>\n",
       "      <td>7ow4_D-E-F_pmhc.pdb</td>\n",
       "      <td>antigen_chain</td>\n",
       "      <td>GLY</td>\n",
       "      <td>7</td>\n",
       "      <td>NaN</td>\n",
       "      <td>0.346240</td>\n",
       "      <td>0.192317</td>\n",
       "      <td>NaN</td>\n",
       "      <td>...</td>\n",
       "      <td>holo</td>\n",
       "      <td>D</td>\n",
       "      <td>E</td>\n",
       "      <td>C</td>\n",
       "      <td>A</td>\n",
       "      <td>B</td>\n",
       "      <td>TRDTAYY-QPWWGEQN-AMSVPSGDGSYQFT-MNHEY-SVGEGT-A...</td>\n",
       "      <td>VVVGADGVGK</td>\n",
       "      <td>hla_a_11_01</td>\n",
       "      <td>7ow6_D-E-C-A-B_tcr_pmhc</td>\n",
       "    </tr>\n",
       "    <tr>\n",
       "      <th>...</th>\n",
       "      <td>...</td>\n",
       "      <td>...</td>\n",
       "      <td>...</td>\n",
       "      <td>...</td>\n",
       "      <td>...</td>\n",
       "      <td>...</td>\n",
       "      <td>...</td>\n",
       "      <td>...</td>\n",
       "      <td>...</td>\n",
       "      <td>...</td>\n",
       "      <td>...</td>\n",
       "      <td>...</td>\n",
       "      <td>...</td>\n",
       "      <td>...</td>\n",
       "      <td>...</td>\n",
       "      <td>...</td>\n",
       "      <td>...</td>\n",
       "      <td>...</td>\n",
       "      <td>...</td>\n",
       "      <td>...</td>\n",
       "      <td>...</td>\n",
       "    </tr>\n",
       "    <tr>\n",
       "      <th>11671</th>\n",
       "      <td>7rtr_D-E-C-A-B_tcr_pmhc</td>\n",
       "      <td>7mkb_A-B-C_pmhc.pdb</td>\n",
       "      <td>7n6d_M-N-O_pmhc.pdb</td>\n",
       "      <td>antigen_chain</td>\n",
       "      <td>ARG</td>\n",
       "      <td>5</td>\n",
       "      <td>NaN</td>\n",
       "      <td>1.085121</td>\n",
       "      <td>0.606346</td>\n",
       "      <td>-0.506604</td>\n",
       "      <td>...</td>\n",
       "      <td>holo</td>\n",
       "      <td>D</td>\n",
       "      <td>E</td>\n",
       "      <td>C</td>\n",
       "      <td>A</td>\n",
       "      <td>B</td>\n",
       "      <td>DRGSQS-IYSNGD-AVNRDDKII-SEHNR-FQNEAQ-ASSPDIEQY</td>\n",
       "      <td>YLQPRTFLL</td>\n",
       "      <td>hla_a_02_01</td>\n",
       "      <td>7rtr_D-E-C-A-B_tcr_pmhc</td>\n",
       "    </tr>\n",
       "    <tr>\n",
       "      <th>11672</th>\n",
       "      <td>7rtr_D-E-C-A-B_tcr_pmhc</td>\n",
       "      <td>7mkb_A-B-C_pmhc.pdb</td>\n",
       "      <td>7n6d_M-N-O_pmhc.pdb</td>\n",
       "      <td>antigen_chain</td>\n",
       "      <td>THR</td>\n",
       "      <td>6</td>\n",
       "      <td>NaN</td>\n",
       "      <td>0.872620</td>\n",
       "      <td>0.693754</td>\n",
       "      <td>0.351050</td>\n",
       "      <td>...</td>\n",
       "      <td>holo</td>\n",
       "      <td>D</td>\n",
       "      <td>E</td>\n",
       "      <td>C</td>\n",
       "      <td>A</td>\n",
       "      <td>B</td>\n",
       "      <td>DRGSQS-IYSNGD-AVNRDDKII-SEHNR-FQNEAQ-ASSPDIEQY</td>\n",
       "      <td>YLQPRTFLL</td>\n",
       "      <td>hla_a_02_01</td>\n",
       "      <td>7rtr_D-E-C-A-B_tcr_pmhc</td>\n",
       "    </tr>\n",
       "    <tr>\n",
       "      <th>11673</th>\n",
       "      <td>7rtr_D-E-C-A-B_tcr_pmhc</td>\n",
       "      <td>7mkb_A-B-C_pmhc.pdb</td>\n",
       "      <td>7n6d_M-N-O_pmhc.pdb</td>\n",
       "      <td>antigen_chain</td>\n",
       "      <td>PHE</td>\n",
       "      <td>7</td>\n",
       "      <td>NaN</td>\n",
       "      <td>0.398921</td>\n",
       "      <td>0.160938</td>\n",
       "      <td>-0.035465</td>\n",
       "      <td>...</td>\n",
       "      <td>holo</td>\n",
       "      <td>D</td>\n",
       "      <td>E</td>\n",
       "      <td>C</td>\n",
       "      <td>A</td>\n",
       "      <td>B</td>\n",
       "      <td>DRGSQS-IYSNGD-AVNRDDKII-SEHNR-FQNEAQ-ASSPDIEQY</td>\n",
       "      <td>YLQPRTFLL</td>\n",
       "      <td>hla_a_02_01</td>\n",
       "      <td>7rtr_D-E-C-A-B_tcr_pmhc</td>\n",
       "    </tr>\n",
       "    <tr>\n",
       "      <th>11674</th>\n",
       "      <td>7rtr_D-E-C-A-B_tcr_pmhc</td>\n",
       "      <td>7mkb_A-B-C_pmhc.pdb</td>\n",
       "      <td>7n6d_M-N-O_pmhc.pdb</td>\n",
       "      <td>antigen_chain</td>\n",
       "      <td>LEU</td>\n",
       "      <td>8</td>\n",
       "      <td>NaN</td>\n",
       "      <td>0.410068</td>\n",
       "      <td>0.308081</td>\n",
       "      <td>-0.027848</td>\n",
       "      <td>...</td>\n",
       "      <td>holo</td>\n",
       "      <td>D</td>\n",
       "      <td>E</td>\n",
       "      <td>C</td>\n",
       "      <td>A</td>\n",
       "      <td>B</td>\n",
       "      <td>DRGSQS-IYSNGD-AVNRDDKII-SEHNR-FQNEAQ-ASSPDIEQY</td>\n",
       "      <td>YLQPRTFLL</td>\n",
       "      <td>hla_a_02_01</td>\n",
       "      <td>7rtr_D-E-C-A-B_tcr_pmhc</td>\n",
       "    </tr>\n",
       "    <tr>\n",
       "      <th>11675</th>\n",
       "      <td>7rtr_D-E-C-A-B_tcr_pmhc</td>\n",
       "      <td>7mkb_A-B-C_pmhc.pdb</td>\n",
       "      <td>7n6d_M-N-O_pmhc.pdb</td>\n",
       "      <td>antigen_chain</td>\n",
       "      <td>LEU</td>\n",
       "      <td>9</td>\n",
       "      <td>NaN</td>\n",
       "      <td>1.024724</td>\n",
       "      <td>0.210518</td>\n",
       "      <td>-0.108161</td>\n",
       "      <td>...</td>\n",
       "      <td>holo</td>\n",
       "      <td>D</td>\n",
       "      <td>E</td>\n",
       "      <td>C</td>\n",
       "      <td>A</td>\n",
       "      <td>B</td>\n",
       "      <td>DRGSQS-IYSNGD-AVNRDDKII-SEHNR-FQNEAQ-ASSPDIEQY</td>\n",
       "      <td>YLQPRTFLL</td>\n",
       "      <td>hla_a_02_01</td>\n",
       "      <td>7rtr_D-E-C-A-B_tcr_pmhc</td>\n",
       "    </tr>\n",
       "  </tbody>\n",
       "</table>\n",
       "<p>11676 rows × 26 columns</p>\n",
       "</div>"
      ],
      "text/plain": [
       "                    complex_id     structure_x_name     structure_y_name  \\\n",
       "0      7ow6_D-E-C-A-B_tcr_pmhc  7ow4_A-B-C_pmhc.pdb  7ow4_D-E-F_pmhc.pdb   \n",
       "1      7ow6_D-E-C-A-B_tcr_pmhc  7ow4_A-B-C_pmhc.pdb  7ow4_D-E-F_pmhc.pdb   \n",
       "2      7ow6_D-E-C-A-B_tcr_pmhc  7ow4_A-B-C_pmhc.pdb  7ow4_D-E-F_pmhc.pdb   \n",
       "3      7ow6_D-E-C-A-B_tcr_pmhc  7ow4_A-B-C_pmhc.pdb  7ow4_D-E-F_pmhc.pdb   \n",
       "4      7ow6_D-E-C-A-B_tcr_pmhc  7ow4_A-B-C_pmhc.pdb  7ow4_D-E-F_pmhc.pdb   \n",
       "...                        ...                  ...                  ...   \n",
       "11671  7rtr_D-E-C-A-B_tcr_pmhc  7mkb_A-B-C_pmhc.pdb  7n6d_M-N-O_pmhc.pdb   \n",
       "11672  7rtr_D-E-C-A-B_tcr_pmhc  7mkb_A-B-C_pmhc.pdb  7n6d_M-N-O_pmhc.pdb   \n",
       "11673  7rtr_D-E-C-A-B_tcr_pmhc  7mkb_A-B-C_pmhc.pdb  7n6d_M-N-O_pmhc.pdb   \n",
       "11674  7rtr_D-E-C-A-B_tcr_pmhc  7mkb_A-B-C_pmhc.pdb  7n6d_M-N-O_pmhc.pdb   \n",
       "11675  7rtr_D-E-C-A-B_tcr_pmhc  7mkb_A-B-C_pmhc.pdb  7n6d_M-N-O_pmhc.pdb   \n",
       "\n",
       "          chain_type residue_name  residue_seq_id residue_insert_code  \\\n",
       "0      antigen_chain          VAL               1                 NaN   \n",
       "1      antigen_chain          VAL               2                 NaN   \n",
       "2      antigen_chain          VAL               3                 NaN   \n",
       "3      antigen_chain          GLY               4                 NaN   \n",
       "4      antigen_chain          GLY               7                 NaN   \n",
       "...              ...          ...             ...                 ...   \n",
       "11671  antigen_chain          ARG               5                 NaN   \n",
       "11672  antigen_chain          THR               6                 NaN   \n",
       "11673  antigen_chain          PHE               7                 NaN   \n",
       "11674  antigen_chain          LEU               8                 NaN   \n",
       "11675  antigen_chain          LEU               9                 NaN   \n",
       "\n",
       "           rmsd  ca_distance  chi_angle_change  ...  state  alpha_chain  \\\n",
       "0      0.354933     0.330887          0.200330  ...   holo            D   \n",
       "1      0.262440     0.073709          0.030793  ...   holo            D   \n",
       "2      0.256739     0.248310         -0.007898  ...   holo            D   \n",
       "3      0.568505     0.622876               NaN  ...   holo            D   \n",
       "4      0.346240     0.192317               NaN  ...   holo            D   \n",
       "...         ...          ...               ...  ...    ...          ...   \n",
       "11671  1.085121     0.606346         -0.506604  ...   holo            D   \n",
       "11672  0.872620     0.693754          0.351050  ...   holo            D   \n",
       "11673  0.398921     0.160938         -0.035465  ...   holo            D   \n",
       "11674  0.410068     0.308081         -0.027848  ...   holo            D   \n",
       "11675  1.024724     0.210518         -0.108161  ...   holo            D   \n",
       "\n",
       "      beta_chain antigen_chain mhc_chain1 mhc_chain2  \\\n",
       "0              E             C          A          B   \n",
       "1              E             C          A          B   \n",
       "2              E             C          A          B   \n",
       "3              E             C          A          B   \n",
       "4              E             C          A          B   \n",
       "...          ...           ...        ...        ...   \n",
       "11671          E             C          A          B   \n",
       "11672          E             C          A          B   \n",
       "11673          E             C          A          B   \n",
       "11674          E             C          A          B   \n",
       "11675          E             C          A          B   \n",
       "\n",
       "                                  cdr_sequences_collated peptide_sequence  \\\n",
       "0      TRDTAYY-QPWWGEQN-AMSVPSGDGSYQFT-MNHEY-SVGEGT-A...       VVVGADGVGK   \n",
       "1      TRDTAYY-QPWWGEQN-AMSVPSGDGSYQFT-MNHEY-SVGEGT-A...       VVVGADGVGK   \n",
       "2      TRDTAYY-QPWWGEQN-AMSVPSGDGSYQFT-MNHEY-SVGEGT-A...       VVVGADGVGK   \n",
       "3      TRDTAYY-QPWWGEQN-AMSVPSGDGSYQFT-MNHEY-SVGEGT-A...       VVVGADGVGK   \n",
       "4      TRDTAYY-QPWWGEQN-AMSVPSGDGSYQFT-MNHEY-SVGEGT-A...       VVVGADGVGK   \n",
       "...                                                  ...              ...   \n",
       "11671     DRGSQS-IYSNGD-AVNRDDKII-SEHNR-FQNEAQ-ASSPDIEQY        YLQPRTFLL   \n",
       "11672     DRGSQS-IYSNGD-AVNRDDKII-SEHNR-FQNEAQ-ASSPDIEQY        YLQPRTFLL   \n",
       "11673     DRGSQS-IYSNGD-AVNRDDKII-SEHNR-FQNEAQ-ASSPDIEQY        YLQPRTFLL   \n",
       "11674     DRGSQS-IYSNGD-AVNRDDKII-SEHNR-FQNEAQ-ASSPDIEQY        YLQPRTFLL   \n",
       "11675     DRGSQS-IYSNGD-AVNRDDKII-SEHNR-FQNEAQ-ASSPDIEQY        YLQPRTFLL   \n",
       "\n",
       "          mhc_slug               group_name  \n",
       "0      hla_a_11_01  7ow6_D-E-C-A-B_tcr_pmhc  \n",
       "1      hla_a_11_01  7ow6_D-E-C-A-B_tcr_pmhc  \n",
       "2      hla_a_11_01  7ow6_D-E-C-A-B_tcr_pmhc  \n",
       "3      hla_a_11_01  7ow6_D-E-C-A-B_tcr_pmhc  \n",
       "4      hla_a_11_01  7ow6_D-E-C-A-B_tcr_pmhc  \n",
       "...            ...                      ...  \n",
       "11671  hla_a_02_01  7rtr_D-E-C-A-B_tcr_pmhc  \n",
       "11672  hla_a_02_01  7rtr_D-E-C-A-B_tcr_pmhc  \n",
       "11673  hla_a_02_01  7rtr_D-E-C-A-B_tcr_pmhc  \n",
       "11674  hla_a_02_01  7rtr_D-E-C-A-B_tcr_pmhc  \n",
       "11675  hla_a_02_01  7rtr_D-E-C-A-B_tcr_pmhc  \n",
       "\n",
       "[11676 rows x 26 columns]"
      ]
     },
     "execution_count": 8,
     "metadata": {},
     "output_type": "execute_result"
    }
   ],
   "source": [
    "peptide_apo_holo_comparison = peptide_apo_holo_comparison.merge(summary_df, how='left', left_on='complex_id', right_on='group_name')\n",
    "peptide_apo_holo_comparison"
   ]
  },
  {
   "cell_type": "markdown",
   "id": "850a1234",
   "metadata": {},
   "source": [
    "# Combine anchoring information with *apo*-*holo* comparisons"
   ]
  },
  {
   "cell_type": "code",
   "execution_count": 9,
   "id": "a0029bc7",
   "metadata": {
    "execution": {
     "iopub.execute_input": "2024-05-09T13:27:32.095674Z",
     "iopub.status.busy": "2024-05-09T13:27:32.094410Z",
     "iopub.status.idle": "2024-05-09T13:27:32.100477Z",
     "shell.execute_reply": "2024-05-09T13:27:32.099817Z"
    }
   },
   "outputs": [],
   "source": [
    "mhc_anchor_position_df['anchor'] = True"
   ]
  },
  {
   "cell_type": "code",
   "execution_count": 10,
   "id": "62a7fca9",
   "metadata": {
    "execution": {
     "iopub.execute_input": "2024-05-09T13:27:32.105436Z",
     "iopub.status.busy": "2024-05-09T13:27:32.104170Z",
     "iopub.status.idle": "2024-05-09T13:27:32.118687Z",
     "shell.execute_reply": "2024-05-09T13:27:32.118051Z"
    }
   },
   "outputs": [],
   "source": [
    "peptide_apo_holo_comparison = peptide_apo_holo_comparison.merge(\n",
    "    mhc_anchor_position_df,\n",
    "    how='left',\n",
    "    left_on=['mhc_slug', 'residue_seq_id', 'amino_acid', 'peptide_length'],\n",
    "    right_on=['allele_slug', 'position', 'amino_acid', 'peptide_length'],\n",
    ")"
   ]
  },
  {
   "cell_type": "code",
   "execution_count": 11,
   "id": "f7376871",
   "metadata": {
    "execution": {
     "iopub.execute_input": "2024-05-09T13:27:32.123535Z",
     "iopub.status.busy": "2024-05-09T13:27:32.122305Z",
     "iopub.status.idle": "2024-05-09T13:27:32.583131Z",
     "shell.execute_reply": "2024-05-09T13:27:32.582419Z"
    }
   },
   "outputs": [],
   "source": [
    "def collate_anchors(group: pd.DataFrame) -> list[int]:\n",
    "    return sorted(group[group['anchor'] == True]['residue_seq_id'].unique().tolist())\n",
    "\n",
    "anchoring_strategies = peptide_apo_holo_comparison.groupby(['structure_x_name', 'structure_y_name']).apply(collate_anchors)\n",
    "anchoring_strategies.name = 'anchoring_strategy'\n",
    "anchoring_strategies = anchoring_strategies.reset_index()\n",
    "\n",
    "peptide_apo_holo_comparison = peptide_apo_holo_comparison.merge(anchoring_strategies, how='left', on=['structure_x_name', 'structure_y_name'])"
   ]
  },
  {
   "cell_type": "code",
   "execution_count": 12,
   "id": "fa7e9fe8",
   "metadata": {
    "execution": {
     "iopub.execute_input": "2024-05-09T13:27:32.588766Z",
     "iopub.status.busy": "2024-05-09T13:27:32.587456Z",
     "iopub.status.idle": "2024-05-09T13:27:32.600364Z",
     "shell.execute_reply": "2024-05-09T13:27:32.599756Z"
    }
   },
   "outputs": [],
   "source": [
    "def markup_anchor(anchors: list[int]) -> str:\n",
    "    anchors = [f'p{anchor}' for anchor in anchors]\n",
    "    return '-'.join(anchors)\n",
    "    \n",
    "peptide_apo_holo_comparison['anchoring_strategy_str'] = peptide_apo_holo_comparison['anchoring_strategy'].map(markup_anchor)"
   ]
  },
  {
   "cell_type": "code",
   "execution_count": 13,
   "id": "93015461",
   "metadata": {
    "execution": {
     "iopub.execute_input": "2024-05-09T13:27:32.605266Z",
     "iopub.status.busy": "2024-05-09T13:27:32.604034Z",
     "iopub.status.idle": "2024-05-09T13:27:32.629268Z",
     "shell.execute_reply": "2024-05-09T13:27:32.628672Z"
    }
   },
   "outputs": [],
   "source": [
    "def find_dominant_anchor(group: pd.DataFrame) -> str:\n",
    "    anchor_types = group['anchoring_strategy_str'].unique()\n",
    "    lengths = np.array([len(anchor) for anchor in anchor_types])\n",
    "    index = np.argmax(lengths)\n",
    "    \n",
    "    return anchor_types[index]\n",
    "\n",
    "dominant_anchors = peptide_apo_holo_comparison.groupby('mhc_slug').apply(find_dominant_anchor)\n",
    "dominant_anchors.name = 'dominant_anchor'\n",
    "dominant_anchors = dominant_anchors.reset_index()\n",
    "\n",
    "peptide_apo_holo_comparison = peptide_apo_holo_comparison.merge(dominant_anchors, how='left', on='mhc_slug')"
   ]
  },
  {
   "cell_type": "markdown",
   "id": "84e45300",
   "metadata": {},
   "source": [
    "## Visualise the results"
   ]
  },
  {
   "cell_type": "code",
   "execution_count": 14,
   "id": "a8812f9c",
   "metadata": {
    "execution": {
     "iopub.execute_input": "2024-05-09T13:27:32.634360Z",
     "iopub.status.busy": "2024-05-09T13:27:32.633144Z",
     "iopub.status.idle": "2024-05-09T13:27:35.187257Z",
     "shell.execute_reply": "2024-05-09T13:27:35.186594Z"
    }
   },
   "outputs": [
    {
     "data": {
      "text/plain": [
       "<seaborn.axisgrid.FacetGrid at 0x7fee49bd52d0>"
      ]
     },
     "execution_count": 14,
     "metadata": {},
     "output_type": "execute_result"
    },
    {
     "data": {
      "image/png": "[encoded data removed]",
      "text/plain": [
       "<Figure size 2500x500 with 5 Axes>"
      ]
     },
     "metadata": {},
     "output_type": "display_data"
    }
   ],
   "source": [
    "sns.catplot(peptide_apo_holo_comparison.query(\"anchoring_strategy_str != ''\"),\n",
    "            col='dominant_anchor',\n",
    "            x='residue_seq_id', y='rmsd',\n",
    "            sharex=False,\n",
    "            color='salmon',\n",
    "            kind='bar')"
   ]
  },
  {
   "cell_type": "code",
   "execution_count": 15,
   "id": "7d5be643",
   "metadata": {
    "execution": {
     "iopub.execute_input": "2024-05-09T13:27:35.191847Z",
     "iopub.status.busy": "2024-05-09T13:27:35.190831Z",
     "iopub.status.idle": "2024-05-09T13:27:39.043479Z",
     "shell.execute_reply": "2024-05-09T13:27:39.042759Z"
    }
   },
   "outputs": [
    {
     "name": "stdout",
     "output_type": "stream",
     "text": [
      "hla_a_02_01\n",
      "p2-p9\n"
     ]
    },
    {
     "data": {
      "image/png": "[encoded data removed]",
      "text/plain": [
       "<Figure size 640x480 with 1 Axes>"
      ]
     },
     "metadata": {},
     "output_type": "display_data"
    },
    {
     "name": "stdout",
     "output_type": "stream",
     "text": [
      "hla_a_02_06\n",
      "p9\n"
     ]
    },
    {
     "data": {
      "image/png": "[encoded data removed]",
      "text/plain": [
       "<Figure size 640x480 with 1 Axes>"
      ]
     },
     "metadata": {},
     "output_type": "display_data"
    },
    {
     "name": "stdout",
     "output_type": "stream",
     "text": [
      "hla_a_03_01\n",
      "p2-p9\n"
     ]
    },
    {
     "data": {
      "image/png": "[encoded data removed]",
      "text/plain": [
       "<Figure size 640x480 with 1 Axes>"
      ]
     },
     "metadata": {},
     "output_type": "display_data"
    },
    {
     "name": "stdout",
     "output_type": "stream",
     "text": [
      "hla_a_24_02\n",
      "p9\n"
     ]
    },
    {
     "data": {
      "image/png": "[encoded data removed]",
      "text/plain": [
       "<Figure size 640x480 with 1 Axes>"
      ]
     },
     "metadata": {},
     "output_type": "display_data"
    },
    {
     "name": "stdout",
     "output_type": "stream",
     "text": [
      "hla_b_08_01\n",
      "p2-p5-p9\n"
     ]
    },
    {
     "data": {
      "image/png": "[encoded data removed]",
      "text/plain": [
       "<Figure size 640x480 with 1 Axes>"
      ]
     },
     "metadata": {},
     "output_type": "display_data"
    },
    {
     "name": "stdout",
     "output_type": "stream",
     "text": [
      "hla_b_35_01\n",
      "p2\n"
     ]
    },
    {
     "data": {
      "image/png": "[encoded data removed]",
      "text/plain": [
       "<Figure size 640x480 with 1 Axes>"
      ]
     },
     "metadata": {},
     "output_type": "display_data"
    },
    {
     "name": "stdout",
     "output_type": "stream",
     "text": [
      "hla_b_37_01\n",
      "p2-p5-p9\n"
     ]
    },
    {
     "data": {
      "image/png": "[encoded data removed]",
      "text/plain": [
       "<Figure size 640x480 with 1 Axes>"
      ]
     },
     "metadata": {},
     "output_type": "display_data"
    },
    {
     "name": "stdout",
     "output_type": "stream",
     "text": [
      "hla_b_42_01\n",
      "p2-p9\n"
     ]
    },
    {
     "data": {
      "image/png": "[encoded data removed]",
      "text/plain": [
       "<Figure size 640x480 with 1 Axes>"
      ]
     },
     "metadata": {},
     "output_type": "display_data"
    },
    {
     "name": "stdout",
     "output_type": "stream",
     "text": [
      "hla_b_44_05\n",
      "p2\n"
     ]
    },
    {
     "data": {
      "image/png": "[encoded data removed]",
      "text/plain": [
       "<Figure size 640x480 with 1 Axes>"
      ]
     },
     "metadata": {},
     "output_type": "display_data"
    },
    {
     "name": "stdout",
     "output_type": "stream",
     "text": [
      "hla_b_53_01\n",
      "p9\n"
     ]
    },
    {
     "data": {
      "image/png": "[encoded data removed]",
      "text/plain": [
       "<Figure size 640x480 with 1 Axes>"
      ]
     },
     "metadata": {},
     "output_type": "display_data"
    },
    {
     "name": "stdout",
     "output_type": "stream",
     "text": [
      "hla_b_81_01\n",
      "p2-p9\n"
     ]
    },
    {
     "data": {
      "image/png": "[encoded data removed]",
      "text/plain": [
       "<Figure size 640x480 with 1 Axes>"
      ]
     },
     "metadata": {},
     "output_type": "display_data"
    },
    {
     "name": "stdout",
     "output_type": "stream",
     "text": [
      "hla_c_08_02\n",
      "p2-p3\n"
     ]
    },
    {
     "data": {
      "image/png": "[encoded data removed]",
      "text/plain": [
       "<Figure size 640x480 with 1 Axes>"
      ]
     },
     "metadata": {},
     "output_type": "display_data"
    },
    {
     "name": "stdout",
     "output_type": "stream",
     "text": [
      "hla_e_01_03\n",
      "p2-p9\n"
     ]
    },
    {
     "data": {
      "image/png": "[encoded data removed]",
      "text/plain": [
       "<Figure size 640x480 with 1 Axes>"
      ]
     },
     "metadata": {},
     "output_type": "display_data"
    }
   ],
   "source": [
    "peptide_apo_holo_comparison_with_anchor = peptide_apo_holo_comparison.query(\"anchoring_strategy_str != ''\")\n",
    "max_rmsd = peptide_apo_holo_comparison_with_anchor['rmsd'].max()\n",
    "\n",
    "for mhc_slug, group in peptide_apo_holo_comparison_with_anchor.groupby('mhc_slug'):\n",
    "    print(mhc_slug)\n",
    "    print(group['dominant_anchor'].unique()[0])\n",
    "    plot = sns.barplot(group, x='residue_seq_id', y='rmsd', color='salmon')\n",
    "    plot.set_ylim((0, np.ceil(max_rmsd)))\n",
    "    plt.show()"
   ]
  }
 ],
 "metadata": {
  "kernelspec": {
   "display_name": "Python 3 (ipykernel)",
   "language": "python",
   "name": "python3"
  },
  "language_info": {
   "codemirror_mode": {
    "name": "ipython",
    "version": 3
   },
   "file_extension": ".py",
   "mimetype": "text/x-python",
   "name": "python",
   "nbconvert_exporter": "python",
   "pygments_lexer": "ipython3",
   "version": "3.10.14"
  }
 },
 "nbformat": 4,
 "nbformat_minor": 5
}
