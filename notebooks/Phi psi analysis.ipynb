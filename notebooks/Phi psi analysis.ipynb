{
 "cells": [
  {
   "cell_type": "markdown",
   "id": "8686fc7c",
   "metadata": {},
   "source": [
    "# Introduction\n",
    "\n",
    "Goals:\n",
    "\n",
    "* Assess the difference in $\\phi$-$\\psi$ movement for the CDR loops versus Fw region of TCRs in *apo* and *holo* forms\n",
    "* Determine where the \"hinge\" point might be- if any"
   ]
  },
  {
   "cell_type": "code",
   "execution_count": 91,
   "id": "071d4e6d",
   "metadata": {},
   "outputs": [],
   "source": [
    "import os\n",
    "\n",
    "import matplotlib.pyplot as plt\n",
    "import numpy as np\n",
    "import pandas as pd\n",
    "import seaborn as sns\n",
    "import scipy\n",
    "\n",
    "from python_pdb.parsers import parse_pdb_to_pandas\n",
    "from tcr_structure_tools.cdr_numbering import assign_cdr_number"
   ]
  },
  {
   "cell_type": "code",
   "execution_count": 30,
   "id": "22a12357",
   "metadata": {},
   "outputs": [],
   "source": [
    "DATA_DIR = '/project/koohylab/bmcmaste/projects/tcr-pmhc-interface-analysis/data/apo-holo-mhc-class-I_refined_aligned'"
   ]
  },
  {
   "cell_type": "markdown",
   "id": "aac35f11",
   "metadata": {},
   "source": [
    "# Calculating $\\phi$ and $\\psi$ angles"
   ]
  },
  {
   "cell_type": "markdown",
   "id": "ceaa576f",
   "metadata": {},
   "source": [
    "## Helper Functions"
   ]
  },
  {
   "cell_type": "code",
   "execution_count": 31,
   "id": "4f7ee618",
   "metadata": {},
   "outputs": [],
   "source": [
    "def get_chain_assignments(file_path):\n",
    "    chains = file_path.split('/')[-1].split('_')[1]\n",
    "    \n",
    "    return {chain: annotation \n",
    "            for chain, annotation in zip(chains, ['alpha_chain', 'beta_chain', 'antigen_chain', 'mhc_chain1', 'mhc_chain2'][:len(chains)])}"
   ]
  },
  {
   "cell_type": "code",
   "execution_count": 22,
   "id": "24ad272a",
   "metadata": {},
   "outputs": [],
   "source": [
    "def calculate_angle(v1, v2):\n",
    "    n1 = np.linalg.norm(v1)\n",
    "    n2 = np.linalg.norm(v2)\n",
    "    \n",
    "    cos_theta = np.dot(v1, v2) / (n1 * n2)\n",
    "    \n",
    "    cos_theta = min(cos_theta, 1)\n",
    "    cos_theta = max(cos_theta, -1)\n",
    "    \n",
    "    return np.arccos(cos_theta)\n",
    "\n",
    "def calculate_dihedral_angle(a, b, c, d):\n",
    "    ba = a - b\n",
    "    bc = c - b\n",
    "    cd = d - c\n",
    "    \n",
    "    u = np.cross(ba, bc)\n",
    "    v = np.cross(cd, bc)\n",
    "    \n",
    "    w = np.cross(u, v)\n",
    "    \n",
    "    angle = calculate_angle(u, v)\n",
    "    \n",
    "    if calculate_angle(bc, w) > 0.001:\n",
    "        angle = -angle\n",
    "\n",
    "    return angle\n",
    "\n",
    "def calculate_phi_psi_angles(residue: pd.DataFrame, prev_residue: pd.DataFrame, next_residue: pd.DataFrame) -> tuple[float, float]:\n",
    "    '''Calculate the dihedral (phi and psi) angles for a given residue.'''\n",
    "    c_prev_pos = prev_residue.query(\"atom_name == 'C'\")[['pos_x', 'pos_y', 'pos_z']].iloc[0]\n",
    "    \n",
    "    n_pos = residue.query(\"atom_name == 'N'\")[['pos_x', 'pos_y', 'pos_z']].iloc[0]\n",
    "    ca_pos = residue.query(\"atom_name == 'CA'\")[['pos_x', 'pos_y', 'pos_z']].iloc[0]\n",
    "    c_pos = residue.query(\"atom_name == 'C'\")[['pos_x', 'pos_y', 'pos_z']].iloc[0]\n",
    "\n",
    "    n_next_pos = next_residue.query(\"atom_name == 'N'\")[['pos_x', 'pos_y', 'pos_z']].iloc[0]\n",
    "    \n",
    "    phi_angle = calculate_dihedral_angle(c_prev_pos, n_pos, ca_pos, c_pos)\n",
    "    psi_angle = calculate_dihedral_angle(n_pos, ca_pos, c_pos, n_next_pos)\n",
    "    \n",
    "    return (phi_angle, psi_angle)"
   ]
  },
  {
   "cell_type": "markdown",
   "id": "6e7d6194",
   "metadata": {},
   "source": [
    "## Calculations"
   ]
  },
  {
   "cell_type": "code",
   "execution_count": 35,
   "id": "0fdb1e0c",
   "metadata": {},
   "outputs": [
    {
     "name": "stdout",
     "output_type": "stream",
     "text": [
      "YSGSPE-HISR-ALSGFNNAGNMLT-SGHAT-FQNNGV-ASSLGGAGGADTQY\n",
      "7n1c_DE_apo.pdb\n",
      "7n1e_DECA_holo.pdb\n",
      "NIATNDY-GYKTK-LVGEILDNFNKFY-MDHEN-SYDVKM-ASSQRQEGDTQY\n",
      "6at6_AB_apo.pdb\n",
      "6avf_ABPH_holo.pdb\n",
      "DRGSQS-IYSNGD-GTYNQGGKLI-MNHEY-SMNVEV-ASSGASHEQY\n",
      "3vxt_AB_apo.pdb\n",
      "3vxu_DECA_holo.pdb\n",
      "3w0w_DECA_holo.pdb\n",
      "NSASQS-VYSSG-VVQPGGYQKVT-MNHNS-SASEGT-ASSEGLWQVGDEQY\n",
      "6vth_DE_apo.pdb\n",
      "6vrm_DEPA_holo.pdb\n",
      "YSATPY-YYSGDPVV-AVSGFASALT-NNHNN-SYGAGS-ASGGGGTLY\n",
      "1g6r_ABPH_holo.pdb\n",
      "2ckb_CDQI_holo.pdb\n",
      "1mwa_ABPH_holo.pdb\n",
      "2oi9_BCQA_holo.pdb\n",
      "1tcr_AB_apo.pdb\n",
      "DRGSQS-IYSNGD-AVRTNSGYALN-QGHDT-YYEEEE-ASSDTVSYEQY\n",
      "5nmf_DECA_holo.pdb\n",
      "5nmd_AB_apo.pdb\n",
      "5nmg_DECA_holo.pdb\n",
      "5nme_IJHF_holo.pdb\n",
      "DRGSQS-IYSNGD-AVNRDDKII-SEHNR-FQNEAQ-ASSPDIEQY\n",
      "7n1f_DECA_holo.pdb\n",
      "7rtr_DECA_holo.pdb\n",
      "7n1d_AB_apo.pdb\n",
      "FLGSQS-TYREGD-AVNDGGRLT-GTSNPN-WGPFG-AWSETGLGMGGWQ\n",
      "4jff_DECA_holo.pdb\n",
      "4jfe_DECA_holo.pdb\n",
      "6eqb_DECA_holo.pdb\n",
      "6tmo_DECA_holo.pdb\n",
      "4jfd_DECA_holo.pdb\n",
      "4jfh_DE_apo.pdb\n",
      "SVFSS-VVTGGEV-AGAGSQGNLI-LNHDA-SQIVND-ASSSRSSYEQY\n",
      "5hhm_IJHF_holo.pdb\n",
      "2vlm_DE_apo.pdb\n",
      "1oga_DECA_holo.pdb\n",
      "2vlj_DECA_holo.pdb\n",
      "2vlk_DECA_holo.pdb\n",
      "NSAFQY-TYSSGN-AMRGDSSYKLI-SGHDY-FNNNVP-ASSLWEKLAKNIQY\n",
      "5c0b_IJHF_holo.pdb\n",
      "5hyj_DECA_holo.pdb\n",
      "3utt_DECA_holo.pdb\n",
      "5c08_DECA_holo.pdb\n",
      "5c0a_DECA_holo.pdb\n",
      "5c0c_DEHF_holo.pdb\n",
      "3utp_DE_apo.pdb\n",
      "5c07_DECA_holo.pdb\n",
      "5c09_IJHF_holo.pdb\n",
      "3uts_DECA_holo.pdb\n",
      "DSAIYN-IQSSQRE-AVRMDSSYKLI-SEHNR-FQNEAQ-ASSSWDTGELF\n",
      "3vxq_DE_apo.pdb\n",
      "3vxr_DECA_holo.pdb\n",
      "3vxs_DECA_holo.pdb\n",
      "TISGTDY-GLTSN-ILPLAGGTSYGKLT-SGHVS-FQNEAQ-ASSLGQAYEQY\n",
      "3kps_DECA_holo.pdb\n",
      "3kpr_DECA_holo.pdb\n",
      "1mi5_DECA_holo.pdb\n",
      "1kgc_DE_apo.pdb\n",
      "DRGSQS-IYSNGD-AVTTDSWGKLQ-MNHEY-SVGAGI-ASRPGLAGGRPEQY\n",
      "3d3v_DECA_holo.pdb\n",
      "3pwp_DECA_holo.pdb\n",
      "1qse_DECA_holo.pdb\n",
      "7amp_AB_apo.pdb\n",
      "1ao7_DECA_holo.pdb\n",
      "3qfj_DECA_holo.pdb\n",
      "3d39_DECA_holo.pdb\n",
      "3h9s_DECA_holo.pdb\n",
      "1qrn_DECA_holo.pdb\n",
      "1qsf_DECA_holo.pdb\n",
      "DSAIYN-IQSSQRE-AVRPTSGGSYIPT-MNHEY-SVGAGI-ASSYVGNTGELF\n",
      "2bnu_AB_apo.pdb\n",
      "2f54_DECA_holo.pdb\n",
      "6q3s_DECA_holo.pdb\n",
      "2bnq_DECA_holo.pdb\n",
      "2bnr_DECA_holo.pdb\n",
      "DSAIYN-IQSSQRE-AVRPLLDGTYIPT-MNHEY-SVGAGT-ASSYLGNTGELF\n",
      "2pyf_AB_apo.pdb\n",
      "2pye_DECA_holo.pdb\n",
      "DRGSQS-IYSNGD-AVNFGGGKLI-MRHNA-SNTAGT-ASSLSFGTEAF\n",
      "6am5_DECA_holo.pdb\n",
      "6amu_DECA_holo.pdb\n",
      "3qdj_DECA_holo.pdb\n",
      "3qeu_DE_apo.pdb\n",
      "3qdg_DECA_holo.pdb\n",
      "NSAFDY-ILSVSNK-AASASFGDNSKLI-MSHET-SYDVDS-ASSLGHTEVF\n",
      "5ivx_EFPA_holo.pdb\n",
      "5iw1_AB_apo.pdb\n",
      "DSAIYN-IQSSQRE-AQLNQAGTALI-MNHEY-SVGAGI-ASSYGTGINYGYT\n",
      "7r7z_AB_apo.pdb\n",
      "7r80_ABEC_holo.pdb\n"
     ]
    }
   ],
   "source": [
    "groups = []\n",
    "paths = []\n",
    "\n",
    "cdrs = []\n",
    "chain_types = []\n",
    "\n",
    "res_names = []\n",
    "seq_ids = []\n",
    "insert_codes = []\n",
    "\n",
    "phis = []\n",
    "psis = []\n",
    "\n",
    "for group in (dir_ for dir_ in os.listdir(DATA_DIR) if os.path.isdir(os.path.join(DATA_DIR, dir_))):\n",
    "    print(group)\n",
    "    \n",
    "    pdb_files = [file for file in os.listdir(os.path.join(DATA_DIR, group)) if file.endswith('.pdb')]\n",
    "    \n",
    "    for path in pdb_files:\n",
    "        print(path)\n",
    "        chains = get_chain_assignments(path)\n",
    "        \n",
    "        with open(os.path.join(DATA_DIR, group, path), 'r') as fh:\n",
    "            structure_df = parse_pdb_to_pandas(fh.read())\n",
    "\n",
    "        structure_df['chain_type'] = structure_df['chain_id'].map(chains)\n",
    "        \n",
    "        tcr_df = structure_df.query(\"chain_type == 'alpha_chain' or chain_type == 'beta_chain'\").copy()\n",
    "\n",
    "        tcr_var_df = tcr_df.query('residue_seq_id <= 128')\n",
    "\n",
    "        for chain_type in ('alpha_chain', 'beta_chain'):\n",
    "            chain_df = tcr_var_df.query('chain_type == @chain_type')\n",
    "\n",
    "            residues = list(chain_df.groupby(['residue_name', 'residue_seq_id', 'residue_insert_code'], dropna=False))\n",
    "            num_residues = len(residues)\n",
    "\n",
    "            for i, ((res_name, seq_id, insert_code), res) in enumerate(residues):\n",
    "                if i == 0 or i == num_residues - 1:\n",
    "                    continue\n",
    "\n",
    "                prev_res = residues[i - 1][-1]\n",
    "                next_res = residues[i + 1][-1]\n",
    "\n",
    "                phi, psi = calculate_phi_psi_angles(res, prev_res, next_res)\n",
    "                \n",
    "                groups.append(group)\n",
    "                paths.append(path)\n",
    "                \n",
    "                chain_types.append(chain_type)\n",
    "\n",
    "                res_names.append(res_name)\n",
    "                seq_ids.append(seq_id)\n",
    "                insert_codes.append(insert_code)\n",
    "\n",
    "                phis.append(phi)\n",
    "                psis.append(psi)\n",
    "\n",
    "results = pd.DataFrame({\n",
    "    'group': groups,\n",
    "    'path': paths,\n",
    "    'chain': chain_types,\n",
    "    'res_name': res_names,\n",
    "    'seq_id': seq_ids,\n",
    "    'insert_code': insert_codes,\n",
    "    'phi': phis,\n",
    "    'psi': psis,\n",
    "})"
   ]
  },
  {
   "cell_type": "code",
   "execution_count": 36,
   "id": "7d5a58de",
   "metadata": {},
   "outputs": [
    {
     "data": {
      "text/html": [
       "<div>\n",
       "<style scoped>\n",
       "    .dataframe tbody tr th:only-of-type {\n",
       "        vertical-align: middle;\n",
       "    }\n",
       "\n",
       "    .dataframe tbody tr th {\n",
       "        vertical-align: top;\n",
       "    }\n",
       "\n",
       "    .dataframe thead th {\n",
       "        text-align: right;\n",
       "    }\n",
       "</style>\n",
       "<table border=\"1\" class=\"dataframe\">\n",
       "  <thead>\n",
       "    <tr style=\"text-align: right;\">\n",
       "      <th></th>\n",
       "      <th>group</th>\n",
       "      <th>path</th>\n",
       "      <th>chain</th>\n",
       "      <th>res_name</th>\n",
       "      <th>seq_id</th>\n",
       "      <th>insert_code</th>\n",
       "      <th>phi</th>\n",
       "      <th>psi</th>\n",
       "    </tr>\n",
       "  </thead>\n",
       "  <tbody>\n",
       "    <tr>\n",
       "      <th>0</th>\n",
       "      <td>YSGSPE-HISR-ALSGFNNAGNMLT-SGHAT-FQNNGV-ASSLGGA...</td>\n",
       "      <td>7n1c_DE_apo.pdb</td>\n",
       "      <td>alpha_chain</td>\n",
       "      <td>ALA</td>\n",
       "      <td>78</td>\n",
       "      <td>NaN</td>\n",
       "      <td>-2.402166</td>\n",
       "      <td>1.126937</td>\n",
       "    </tr>\n",
       "    <tr>\n",
       "      <th>1</th>\n",
       "      <td>YSGSPE-HISR-ALSGFNNAGNMLT-SGHAT-FQNNGV-ASSLGGA...</td>\n",
       "      <td>7n1c_DE_apo.pdb</td>\n",
       "      <td>alpha_chain</td>\n",
       "      <td>ALA</td>\n",
       "      <td>94</td>\n",
       "      <td>NaN</td>\n",
       "      <td>-2.370670</td>\n",
       "      <td>3.020537</td>\n",
       "    </tr>\n",
       "    <tr>\n",
       "      <th>2</th>\n",
       "      <td>YSGSPE-HISR-ALSGFNNAGNMLT-SGHAT-FQNNGV-ASSLGGA...</td>\n",
       "      <td>7n1c_DE_apo.pdb</td>\n",
       "      <td>alpha_chain</td>\n",
       "      <td>ALA</td>\n",
       "      <td>100</td>\n",
       "      <td>NaN</td>\n",
       "      <td>1.833180</td>\n",
       "      <td>-2.091816</td>\n",
       "    </tr>\n",
       "    <tr>\n",
       "      <th>3</th>\n",
       "      <td>YSGSPE-HISR-ALSGFNNAGNMLT-SGHAT-FQNNGV-ASSLGGA...</td>\n",
       "      <td>7n1c_DE_apo.pdb</td>\n",
       "      <td>alpha_chain</td>\n",
       "      <td>ALA</td>\n",
       "      <td>105</td>\n",
       "      <td>NaN</td>\n",
       "      <td>2.871356</td>\n",
       "      <td>3.107190</td>\n",
       "    </tr>\n",
       "    <tr>\n",
       "      <th>4</th>\n",
       "      <td>YSGSPE-HISR-ALSGFNNAGNMLT-SGHAT-FQNNGV-ASSLGGA...</td>\n",
       "      <td>7n1c_DE_apo.pdb</td>\n",
       "      <td>alpha_chain</td>\n",
       "      <td>ALA</td>\n",
       "      <td>112</td>\n",
       "      <td>NaN</td>\n",
       "      <td>0.986578</td>\n",
       "      <td>-0.439727</td>\n",
       "    </tr>\n",
       "    <tr>\n",
       "      <th>...</th>\n",
       "      <td>...</td>\n",
       "      <td>...</td>\n",
       "      <td>...</td>\n",
       "      <td>...</td>\n",
       "      <td>...</td>\n",
       "      <td>...</td>\n",
       "      <td>...</td>\n",
       "      <td>...</td>\n",
       "    </tr>\n",
       "    <tr>\n",
       "      <th>16465</th>\n",
       "      <td>DSAIYN-IQSSQRE-AQLNQAGTALI-MNHEY-SVGAGI-ASSYGT...</td>\n",
       "      <td>7r80_ABEC_holo.pdb</td>\n",
       "      <td>beta_chain</td>\n",
       "      <td>VAL</td>\n",
       "      <td>57</td>\n",
       "      <td>NaN</td>\n",
       "      <td>-1.430406</td>\n",
       "      <td>0.205772</td>\n",
       "    </tr>\n",
       "    <tr>\n",
       "      <th>16466</th>\n",
       "      <td>DSAIYN-IQSSQRE-AQLNQAGTALI-MNHEY-SVGAGI-ASSYGT...</td>\n",
       "      <td>7r80_ABEC_holo.pdb</td>\n",
       "      <td>beta_chain</td>\n",
       "      <td>VAL</td>\n",
       "      <td>71</td>\n",
       "      <td>NaN</td>\n",
       "      <td>0.070138</td>\n",
       "      <td>-0.219175</td>\n",
       "    </tr>\n",
       "    <tr>\n",
       "      <th>16467</th>\n",
       "      <td>DSAIYN-IQSSQRE-AQLNQAGTALI-MNHEY-SVGAGI-ASSYGT...</td>\n",
       "      <td>7r80_ABEC_holo.pdb</td>\n",
       "      <td>beta_chain</td>\n",
       "      <td>VAL</td>\n",
       "      <td>78</td>\n",
       "      <td>NaN</td>\n",
       "      <td>2.482958</td>\n",
       "      <td>2.774214</td>\n",
       "    </tr>\n",
       "    <tr>\n",
       "      <th>16468</th>\n",
       "      <td>DSAIYN-IQSSQRE-AQLNQAGTALI-MNHEY-SVGAGI-ASSYGT...</td>\n",
       "      <td>7r80_ABEC_holo.pdb</td>\n",
       "      <td>beta_chain</td>\n",
       "      <td>VAL</td>\n",
       "      <td>101</td>\n",
       "      <td>NaN</td>\n",
       "      <td>-0.589919</td>\n",
       "      <td>0.991253</td>\n",
       "    </tr>\n",
       "    <tr>\n",
       "      <th>16469</th>\n",
       "      <td>DSAIYN-IQSSQRE-AQLNQAGTALI-MNHEY-SVGAGI-ASSYGT...</td>\n",
       "      <td>7r80_ABEC_holo.pdb</td>\n",
       "      <td>beta_chain</td>\n",
       "      <td>VAL</td>\n",
       "      <td>126</td>\n",
       "      <td>NaN</td>\n",
       "      <td>2.646850</td>\n",
       "      <td>2.255137</td>\n",
       "    </tr>\n",
       "  </tbody>\n",
       "</table>\n",
       "<p>16470 rows × 8 columns</p>\n",
       "</div>"
      ],
      "text/plain": [
       "                                                   group                path  \\\n",
       "0      YSGSPE-HISR-ALSGFNNAGNMLT-SGHAT-FQNNGV-ASSLGGA...     7n1c_DE_apo.pdb   \n",
       "1      YSGSPE-HISR-ALSGFNNAGNMLT-SGHAT-FQNNGV-ASSLGGA...     7n1c_DE_apo.pdb   \n",
       "2      YSGSPE-HISR-ALSGFNNAGNMLT-SGHAT-FQNNGV-ASSLGGA...     7n1c_DE_apo.pdb   \n",
       "3      YSGSPE-HISR-ALSGFNNAGNMLT-SGHAT-FQNNGV-ASSLGGA...     7n1c_DE_apo.pdb   \n",
       "4      YSGSPE-HISR-ALSGFNNAGNMLT-SGHAT-FQNNGV-ASSLGGA...     7n1c_DE_apo.pdb   \n",
       "...                                                  ...                 ...   \n",
       "16465  DSAIYN-IQSSQRE-AQLNQAGTALI-MNHEY-SVGAGI-ASSYGT...  7r80_ABEC_holo.pdb   \n",
       "16466  DSAIYN-IQSSQRE-AQLNQAGTALI-MNHEY-SVGAGI-ASSYGT...  7r80_ABEC_holo.pdb   \n",
       "16467  DSAIYN-IQSSQRE-AQLNQAGTALI-MNHEY-SVGAGI-ASSYGT...  7r80_ABEC_holo.pdb   \n",
       "16468  DSAIYN-IQSSQRE-AQLNQAGTALI-MNHEY-SVGAGI-ASSYGT...  7r80_ABEC_holo.pdb   \n",
       "16469  DSAIYN-IQSSQRE-AQLNQAGTALI-MNHEY-SVGAGI-ASSYGT...  7r80_ABEC_holo.pdb   \n",
       "\n",
       "             chain res_name  seq_id insert_code       phi       psi  \n",
       "0      alpha_chain      ALA      78         NaN -2.402166  1.126937  \n",
       "1      alpha_chain      ALA      94         NaN -2.370670  3.020537  \n",
       "2      alpha_chain      ALA     100         NaN  1.833180 -2.091816  \n",
       "3      alpha_chain      ALA     105         NaN  2.871356  3.107190  \n",
       "4      alpha_chain      ALA     112         NaN  0.986578 -0.439727  \n",
       "...            ...      ...     ...         ...       ...       ...  \n",
       "16465   beta_chain      VAL      57         NaN -1.430406  0.205772  \n",
       "16466   beta_chain      VAL      71         NaN  0.070138 -0.219175  \n",
       "16467   beta_chain      VAL      78         NaN  2.482958  2.774214  \n",
       "16468   beta_chain      VAL     101         NaN -0.589919  0.991253  \n",
       "16469   beta_chain      VAL     126         NaN  2.646850  2.255137  \n",
       "\n",
       "[16470 rows x 8 columns]"
      ]
     },
     "execution_count": 36,
     "metadata": {},
     "output_type": "execute_result"
    }
   ],
   "source": [
    "results"
   ]
  },
  {
   "cell_type": "code",
   "execution_count": 40,
   "id": "77b4d2b1",
   "metadata": {},
   "outputs": [],
   "source": [
    "results['state'] = results['path'].map(lambda path: path.split('_')[-1].split('.')[0])"
   ]
  },
  {
   "cell_type": "code",
   "execution_count": 45,
   "id": "c9197388",
   "metadata": {},
   "outputs": [],
   "source": [
    "apo_results = results.query(\"state == 'apo'\")\n",
    "holo_results = results.query(\"state == 'holo'\")\n",
    "\n",
    "matched_results = apo_results.merge(holo_results, on=['group', 'chain', 'res_name', 'seq_id', 'insert_code'], suffixes=('_apo', '_holo'))"
   ]
  },
  {
   "cell_type": "code",
   "execution_count": 46,
   "id": "a543fd69",
   "metadata": {},
   "outputs": [],
   "source": [
    "matched_results['phi_change'] = matched_results['phi_holo'] - matched_results['phi_apo']\n",
    "matched_results['psi_change'] = matched_results['psi_holo'] - matched_results['psi_apo']"
   ]
  },
  {
   "cell_type": "code",
   "execution_count": 52,
   "id": "bd5fac57",
   "metadata": {},
   "outputs": [],
   "source": [
    "results_norm = matched_results.groupby(\n",
    "    ['group', 'chain', 'seq_id', 'insert_code', 'res_name'], dropna=False\n",
    ").agg({'phi_change': 'mean', 'psi_change': 'mean'}).reset_index()"
   ]
  },
  {
   "cell_type": "code",
   "execution_count": 53,
   "id": "8435b404",
   "metadata": {},
   "outputs": [],
   "source": [
    "results_norm['phi_change_mag'] = results_norm['phi_change'].apply(np.abs)\n",
    "results_norm['phi_change_mag_deg'] = results_norm['phi_change_mag'].apply(np.degrees)\n",
    "\n",
    "results_norm['psi_change_mag'] = results_norm['psi_change'].apply(np.abs)\n",
    "results_norm['psi_change_mag_deg'] = results_norm['psi_change_mag'].apply(np.degrees)"
   ]
  },
  {
   "cell_type": "code",
   "execution_count": 55,
   "id": "13c49299",
   "metadata": {},
   "outputs": [],
   "source": [
    "results_norm['resi'] = results_norm['seq_id'].apply(str) + results_norm['insert_code'].fillna('')"
   ]
  },
  {
   "cell_type": "code",
   "execution_count": 66,
   "id": "4b52fdca",
   "metadata": {},
   "outputs": [],
   "source": [
    "results_norm['cdr'] = results_norm['seq_id'].map(assign_cdr_number)"
   ]
  },
  {
   "cell_type": "code",
   "execution_count": 58,
   "id": "d39c139d",
   "metadata": {},
   "outputs": [
    {
     "data": {
      "text/html": [
       "<div>\n",
       "<style scoped>\n",
       "    .dataframe tbody tr th:only-of-type {\n",
       "        vertical-align: middle;\n",
       "    }\n",
       "\n",
       "    .dataframe tbody tr th {\n",
       "        vertical-align: top;\n",
       "    }\n",
       "\n",
       "    .dataframe thead th {\n",
       "        text-align: right;\n",
       "    }\n",
       "</style>\n",
       "<table border=\"1\" class=\"dataframe\">\n",
       "  <thead>\n",
       "    <tr style=\"text-align: right;\">\n",
       "      <th></th>\n",
       "      <th>group</th>\n",
       "      <th>chain</th>\n",
       "      <th>seq_id</th>\n",
       "      <th>insert_code</th>\n",
       "      <th>res_name</th>\n",
       "      <th>phi_change</th>\n",
       "      <th>psi_change</th>\n",
       "      <th>phi_change_mag</th>\n",
       "      <th>phi_change_mag_deg</th>\n",
       "      <th>psi_change_mag</th>\n",
       "      <th>psi_change_mag_deg</th>\n",
       "      <th>resi</th>\n",
       "      <th>cdr</th>\n",
       "    </tr>\n",
       "  </thead>\n",
       "  <tbody>\n",
       "    <tr>\n",
       "      <th>0</th>\n",
       "      <td>DRGSQS-IYSNGD-AVNFGGGKLI-MRHNA-SNTAGT-ASSLSFGTEAF</td>\n",
       "      <td>alpha_chain</td>\n",
       "      <td>2</td>\n",
       "      <td>NaN</td>\n",
       "      <td>LYS</td>\n",
       "      <td>1.241257</td>\n",
       "      <td>0.172246</td>\n",
       "      <td>1.241257</td>\n",
       "      <td>71.118773</td>\n",
       "      <td>0.172246</td>\n",
       "      <td>9.868946</td>\n",
       "      <td>2</td>\n",
       "      <td>NaN</td>\n",
       "    </tr>\n",
       "    <tr>\n",
       "      <th>1</th>\n",
       "      <td>DRGSQS-IYSNGD-AVNFGGGKLI-MRHNA-SNTAGT-ASSLSFGTEAF</td>\n",
       "      <td>alpha_chain</td>\n",
       "      <td>3</td>\n",
       "      <td>NaN</td>\n",
       "      <td>GLU</td>\n",
       "      <td>-0.419158</td>\n",
       "      <td>0.587829</td>\n",
       "      <td>0.419158</td>\n",
       "      <td>24.016009</td>\n",
       "      <td>0.587829</td>\n",
       "      <td>33.680141</td>\n",
       "      <td>3</td>\n",
       "      <td>NaN</td>\n",
       "    </tr>\n",
       "    <tr>\n",
       "      <th>2</th>\n",
       "      <td>DRGSQS-IYSNGD-AVNFGGGKLI-MRHNA-SNTAGT-ASSLSFGTEAF</td>\n",
       "      <td>alpha_chain</td>\n",
       "      <td>4</td>\n",
       "      <td>NaN</td>\n",
       "      <td>VAL</td>\n",
       "      <td>0.085405</td>\n",
       "      <td>0.186847</td>\n",
       "      <td>0.085405</td>\n",
       "      <td>4.893318</td>\n",
       "      <td>0.186847</td>\n",
       "      <td>10.705561</td>\n",
       "      <td>4</td>\n",
       "      <td>NaN</td>\n",
       "    </tr>\n",
       "    <tr>\n",
       "      <th>3</th>\n",
       "      <td>DRGSQS-IYSNGD-AVNFGGGKLI-MRHNA-SNTAGT-ASSLSFGTEAF</td>\n",
       "      <td>alpha_chain</td>\n",
       "      <td>5</td>\n",
       "      <td>NaN</td>\n",
       "      <td>GLU</td>\n",
       "      <td>-1.517781</td>\n",
       "      <td>0.286408</td>\n",
       "      <td>1.517781</td>\n",
       "      <td>86.962462</td>\n",
       "      <td>0.286408</td>\n",
       "      <td>16.409998</td>\n",
       "      <td>5</td>\n",
       "      <td>NaN</td>\n",
       "    </tr>\n",
       "    <tr>\n",
       "      <th>4</th>\n",
       "      <td>DRGSQS-IYSNGD-AVNFGGGKLI-MRHNA-SNTAGT-ASSLSFGTEAF</td>\n",
       "      <td>alpha_chain</td>\n",
       "      <td>6</td>\n",
       "      <td>NaN</td>\n",
       "      <td>GLN</td>\n",
       "      <td>0.299766</td>\n",
       "      <td>1.137878</td>\n",
       "      <td>0.299766</td>\n",
       "      <td>17.175350</td>\n",
       "      <td>1.137878</td>\n",
       "      <td>65.195583</td>\n",
       "      <td>6</td>\n",
       "      <td>NaN</td>\n",
       "    </tr>\n",
       "    <tr>\n",
       "      <th>...</th>\n",
       "      <td>...</td>\n",
       "      <td>...</td>\n",
       "      <td>...</td>\n",
       "      <td>...</td>\n",
       "      <td>...</td>\n",
       "      <td>...</td>\n",
       "      <td>...</td>\n",
       "      <td>...</td>\n",
       "      <td>...</td>\n",
       "      <td>...</td>\n",
       "      <td>...</td>\n",
       "      <td>...</td>\n",
       "      <td>...</td>\n",
       "    </tr>\n",
       "    <tr>\n",
       "      <th>3941</th>\n",
       "      <td>YSGSPE-HISR-ALSGFNNAGNMLT-SGHAT-FQNNGV-ASSLGGA...</td>\n",
       "      <td>beta_chain</td>\n",
       "      <td>123</td>\n",
       "      <td>NaN</td>\n",
       "      <td>ARG</td>\n",
       "      <td>-0.052748</td>\n",
       "      <td>0.008210</td>\n",
       "      <td>0.052748</td>\n",
       "      <td>3.022231</td>\n",
       "      <td>0.008210</td>\n",
       "      <td>0.470397</td>\n",
       "      <td>123</td>\n",
       "      <td>NaN</td>\n",
       "    </tr>\n",
       "    <tr>\n",
       "      <th>3942</th>\n",
       "      <td>YSGSPE-HISR-ALSGFNNAGNMLT-SGHAT-FQNNGV-ASSLGGA...</td>\n",
       "      <td>beta_chain</td>\n",
       "      <td>124</td>\n",
       "      <td>NaN</td>\n",
       "      <td>LEU</td>\n",
       "      <td>-0.012015</td>\n",
       "      <td>0.045576</td>\n",
       "      <td>0.012015</td>\n",
       "      <td>0.688412</td>\n",
       "      <td>0.045576</td>\n",
       "      <td>2.611306</td>\n",
       "      <td>124</td>\n",
       "      <td>NaN</td>\n",
       "    </tr>\n",
       "    <tr>\n",
       "      <th>3943</th>\n",
       "      <td>YSGSPE-HISR-ALSGFNNAGNMLT-SGHAT-FQNNGV-ASSLGGA...</td>\n",
       "      <td>beta_chain</td>\n",
       "      <td>125</td>\n",
       "      <td>NaN</td>\n",
       "      <td>THR</td>\n",
       "      <td>-0.155402</td>\n",
       "      <td>-0.045042</td>\n",
       "      <td>0.155402</td>\n",
       "      <td>8.903863</td>\n",
       "      <td>0.045042</td>\n",
       "      <td>2.580728</td>\n",
       "      <td>125</td>\n",
       "      <td>NaN</td>\n",
       "    </tr>\n",
       "    <tr>\n",
       "      <th>3944</th>\n",
       "      <td>YSGSPE-HISR-ALSGFNNAGNMLT-SGHAT-FQNNGV-ASSLGGA...</td>\n",
       "      <td>beta_chain</td>\n",
       "      <td>127</td>\n",
       "      <td>NaN</td>\n",
       "      <td>LEU</td>\n",
       "      <td>-0.017923</td>\n",
       "      <td>0.000727</td>\n",
       "      <td>0.017923</td>\n",
       "      <td>1.026887</td>\n",
       "      <td>0.000727</td>\n",
       "      <td>0.041645</td>\n",
       "      <td>127</td>\n",
       "      <td>NaN</td>\n",
       "    </tr>\n",
       "    <tr>\n",
       "      <th>3945</th>\n",
       "      <td>YSGSPE-HISR-ALSGFNNAGNMLT-SGHAT-FQNNGV-ASSLGGA...</td>\n",
       "      <td>beta_chain</td>\n",
       "      <td>128</td>\n",
       "      <td>NaN</td>\n",
       "      <td>GLU</td>\n",
       "      <td>0.111987</td>\n",
       "      <td>-0.055172</td>\n",
       "      <td>0.111987</td>\n",
       "      <td>6.416392</td>\n",
       "      <td>0.055172</td>\n",
       "      <td>3.161120</td>\n",
       "      <td>128</td>\n",
       "      <td>NaN</td>\n",
       "    </tr>\n",
       "  </tbody>\n",
       "</table>\n",
       "<p>3946 rows × 13 columns</p>\n",
       "</div>"
      ],
      "text/plain": [
       "                                                  group        chain  seq_id  \\\n",
       "0     DRGSQS-IYSNGD-AVNFGGGKLI-MRHNA-SNTAGT-ASSLSFGTEAF  alpha_chain       2   \n",
       "1     DRGSQS-IYSNGD-AVNFGGGKLI-MRHNA-SNTAGT-ASSLSFGTEAF  alpha_chain       3   \n",
       "2     DRGSQS-IYSNGD-AVNFGGGKLI-MRHNA-SNTAGT-ASSLSFGTEAF  alpha_chain       4   \n",
       "3     DRGSQS-IYSNGD-AVNFGGGKLI-MRHNA-SNTAGT-ASSLSFGTEAF  alpha_chain       5   \n",
       "4     DRGSQS-IYSNGD-AVNFGGGKLI-MRHNA-SNTAGT-ASSLSFGTEAF  alpha_chain       6   \n",
       "...                                                 ...          ...     ...   \n",
       "3941  YSGSPE-HISR-ALSGFNNAGNMLT-SGHAT-FQNNGV-ASSLGGA...   beta_chain     123   \n",
       "3942  YSGSPE-HISR-ALSGFNNAGNMLT-SGHAT-FQNNGV-ASSLGGA...   beta_chain     124   \n",
       "3943  YSGSPE-HISR-ALSGFNNAGNMLT-SGHAT-FQNNGV-ASSLGGA...   beta_chain     125   \n",
       "3944  YSGSPE-HISR-ALSGFNNAGNMLT-SGHAT-FQNNGV-ASSLGGA...   beta_chain     127   \n",
       "3945  YSGSPE-HISR-ALSGFNNAGNMLT-SGHAT-FQNNGV-ASSLGGA...   beta_chain     128   \n",
       "\n",
       "     insert_code res_name  phi_change  psi_change  phi_change_mag  \\\n",
       "0            NaN      LYS    1.241257    0.172246        1.241257   \n",
       "1            NaN      GLU   -0.419158    0.587829        0.419158   \n",
       "2            NaN      VAL    0.085405    0.186847        0.085405   \n",
       "3            NaN      GLU   -1.517781    0.286408        1.517781   \n",
       "4            NaN      GLN    0.299766    1.137878        0.299766   \n",
       "...          ...      ...         ...         ...             ...   \n",
       "3941         NaN      ARG   -0.052748    0.008210        0.052748   \n",
       "3942         NaN      LEU   -0.012015    0.045576        0.012015   \n",
       "3943         NaN      THR   -0.155402   -0.045042        0.155402   \n",
       "3944         NaN      LEU   -0.017923    0.000727        0.017923   \n",
       "3945         NaN      GLU    0.111987   -0.055172        0.111987   \n",
       "\n",
       "      phi_change_mag_deg  psi_change_mag  psi_change_mag_deg resi  cdr  \n",
       "0              71.118773        0.172246            9.868946    2  NaN  \n",
       "1              24.016009        0.587829           33.680141    3  NaN  \n",
       "2               4.893318        0.186847           10.705561    4  NaN  \n",
       "3              86.962462        0.286408           16.409998    5  NaN  \n",
       "4              17.175350        1.137878           65.195583    6  NaN  \n",
       "...                  ...             ...                 ...  ...  ...  \n",
       "3941            3.022231        0.008210            0.470397  123  NaN  \n",
       "3942            0.688412        0.045576            2.611306  124  NaN  \n",
       "3943            8.903863        0.045042            2.580728  125  NaN  \n",
       "3944            1.026887        0.000727            0.041645  127  NaN  \n",
       "3945            6.416392        0.055172            3.161120  128  NaN  \n",
       "\n",
       "[3946 rows x 13 columns]"
      ]
     },
     "execution_count": 58,
     "metadata": {},
     "output_type": "execute_result"
    }
   ],
   "source": [
    "results_norm"
   ]
  },
  {
   "cell_type": "markdown",
   "id": "8e6bb70f",
   "metadata": {},
   "source": [
    "## Visualize Results"
   ]
  },
  {
   "cell_type": "code",
   "execution_count": 90,
   "id": "4716df76",
   "metadata": {},
   "outputs": [
    {
     "data": {
      "text/plain": [
       "<Axes: xlabel='cdr', ylabel='phi_change_mag_deg'>"
      ]
     },
     "execution_count": 90,
     "metadata": {},
     "output_type": "execute_result"
    },
    {
     "data": {
      "image/png": "[encoded data removed]",
      "text/plain": [
       "<Figure size 640x480 with 1 Axes>"
      ]
     },
     "metadata": {},
     "output_type": "display_data"
    }
   ],
   "source": [
    "fw_or_cdr = results_norm['cdr'].map(lambda cdr: 'Fw' if pd.isnull(cdr) else 'CDR')\n",
    "sns.boxplot(results_norm,\n",
    "            x=fw_or_cdr,\n",
    "            y='phi_change_mag_deg')"
   ]
  },
  {
   "cell_type": "code",
   "execution_count": 96,
   "id": "cfffa6b3",
   "metadata": {},
   "outputs": [
    {
     "name": "stdout",
     "output_type": "stream",
     "text": [
      "Fw phi changes mean:  14.148863630490945\n",
      "CDR phi changes mean:  27.135067067914065\n"
     ]
    },
    {
     "data": {
      "text/plain": [
       "Ttest_indResult(statistic=-7.046759072312812, pvalue=1.0758355843616078e-12)"
      ]
     },
     "execution_count": 96,
     "metadata": {},
     "output_type": "execute_result"
    }
   ],
   "source": [
    "phi_fw_changes = results_norm[fw_or_cdr == 'Fw']['phi_change_mag_deg'].to_numpy()\n",
    "phi_cdr_changes = results_norm[fw_or_cdr == 'CDR']['phi_change_mag_deg'].to_numpy()\n",
    "\n",
    "print('Fw phi changes mean: ', np.mean(phi_fw_changes))\n",
    "print('CDR phi changes mean: ', np.mean(phi_cdr_changes))\n",
    "\n",
    "scipy.stats.ttest_ind(phi_fw_changes, phi_cdr_changes, alternative='less')"
   ]
  },
  {
   "cell_type": "code",
   "execution_count": 86,
   "id": "50dc7164",
   "metadata": {},
   "outputs": [
    {
     "data": {
      "text/plain": [
       "<Axes: xlabel='cdr', ylabel='psi_change_mag_deg'>"
      ]
     },
     "execution_count": 86,
     "metadata": {},
     "output_type": "execute_result"
    },
    {
     "data": {
      "image/png": "[encoded data removed]",
      "text/plain": [
       "<Figure size 640x480 with 1 Axes>"
      ]
     },
     "metadata": {},
     "output_type": "display_data"
    }
   ],
   "source": [
    "sns.boxplot(results_norm,\n",
    "            x=fw_or_cdr,\n",
    "            y='psi_change_mag_deg')"
   ]
  },
  {
   "cell_type": "code",
   "execution_count": 97,
   "id": "d7c3d04f",
   "metadata": {},
   "outputs": [
    {
     "name": "stdout",
     "output_type": "stream",
     "text": [
      "Fw psi changes mean:  16.874530946556515\n",
      "CDR psi changes mean:  29.596532389409727\n"
     ]
    },
    {
     "data": {
      "text/plain": [
       "Ttest_indResult(statistic=-6.054755431312745, pvalue=7.687905480993475e-10)"
      ]
     },
     "execution_count": 97,
     "metadata": {},
     "output_type": "execute_result"
    }
   ],
   "source": [
    "psi_fw_changes = results_norm[fw_or_cdr == 'Fw']['psi_change_mag_deg'].to_numpy()\n",
    "psi_cdr_changes = results_norm[fw_or_cdr == 'CDR']['psi_change_mag_deg'].to_numpy()\n",
    "\n",
    "print('Fw psi changes mean: ', np.mean(psi_fw_changes))\n",
    "print('CDR psi changes mean: ', np.mean(psi_cdr_changes))\n",
    "\n",
    "scipy.stats.ttest_ind(psi_fw_changes, psi_cdr_changes, alternative='less')"
   ]
  },
  {
   "cell_type": "markdown",
   "id": "7185d4cb",
   "metadata": {},
   "source": [
    "## In progress..."
   ]
  },
  {
   "cell_type": "code",
   "execution_count": 76,
   "id": "89966124",
   "metadata": {},
   "outputs": [],
   "source": [
    "palette = results_norm['cdr'].map(lambda cdr: 'red' if cdr == 1 else 'green' if cdr == 2 else 'blue' if cdr == 3 else 'grey')"
   ]
  },
  {
   "cell_type": "code",
   "execution_count": 98,
   "id": "49fc05c7",
   "metadata": {},
   "outputs": [
    {
     "data": {
      "text/plain": [
       "<seaborn.axisgrid.FacetGrid at 0x7ff8d53aa250>"
      ]
     },
     "execution_count": 98,
     "metadata": {},
     "output_type": "execute_result"
    },
    {
     "data": {
      "image/png": "[encoded data removed]",
      "text/plain": [
       "<Figure size 1000x500 with 2 Axes>"
      ]
     },
     "metadata": {},
     "output_type": "display_data"
    }
   ],
   "source": [
    "sns.catplot(results_norm,\n",
    "            y='phi_change_mag_deg',\n",
    "            x='resi',\n",
    "            col='chain',\n",
    "            kind='bar',\n",
    "            palette=pallette)"
   ]
  },
  {
   "cell_type": "code",
   "execution_count": 100,
   "id": "5641fe36",
   "metadata": {},
   "outputs": [
    {
     "data": {
      "text/plain": [
       "<seaborn.axisgrid.FacetGrid at 0x7ff8d4d69150>"
      ]
     },
     "execution_count": 100,
     "metadata": {},
     "output_type": "execute_result"
    },
    {
     "data": {
      "image/png": "[encoded data removed]",
      "text/plain": [
       "<Figure size 1000x500 with 2 Axes>"
      ]
     },
     "metadata": {},
     "output_type": "display_data"
    }
   ],
   "source": [
    "sns.catplot(results_norm,\n",
    "            y='psi_change_mag_deg',\n",
    "            x='resi',\n",
    "            col='chain',\n",
    "            kind='bar',\n",
    "            palette=pallette)"
   ]
  }
 ],
 "metadata": {
  "kernelspec": {
   "display_name": "Python 3 (ipykernel)",
   "language": "python",
   "name": "python3"
  },
  "language_info": {
   "codemirror_mode": {
    "name": "ipython",
    "version": 3
   },
   "file_extension": ".py",
   "mimetype": "text/x-python",
   "name": "python",
   "nbconvert_exporter": "python",
   "pygments_lexer": "ipython3",
   "version": "3.11.3"
  }
 },
 "nbformat": 4,
 "nbformat_minor": 5
}
