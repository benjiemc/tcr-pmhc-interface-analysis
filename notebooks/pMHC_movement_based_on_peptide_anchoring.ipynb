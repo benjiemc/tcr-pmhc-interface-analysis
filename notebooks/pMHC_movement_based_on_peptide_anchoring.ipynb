{
 "cells": [
  {
   "cell_type": "markdown",
   "id": "f0d5a0e3",
   "metadata": {},
   "source": [
    "# Introduction\n",
    "\n",
    "In this notebook, *apo*-*holo* comparisons between different anchoring patterns of MHC alleles plotted next to each other. From the visualisations it is clear that the profile of peptide conformational changes depends on the mhc allele.\n"
   ]
  },
  {
   "cell_type": "code",
   "execution_count": 1,
   "id": "91fe0fa0",
   "metadata": {
    "execution": {
     "iopub.execute_input": "2024-05-09T14:30:05.459410Z",
     "iopub.status.busy": "2024-05-09T14:30:05.459138Z",
     "iopub.status.idle": "2024-05-09T14:30:25.851697Z",
     "shell.execute_reply": "2024-05-09T14:30:25.850740Z"
    }
   },
   "outputs": [],
   "source": [
    "import sqlite3\n",
    "\n",
    "import matplotlib.pyplot as plt\n",
    "import numpy as np\n",
    "import pandas as pd\n",
    "import seaborn as sns\n",
    "from python_pdb.formats.residue import THREE_TO_ONE_CODE"
   ]
  },
  {
   "cell_type": "code",
   "execution_count": 2,
   "id": "35660d1e",
   "metadata": {
    "execution": {
     "iopub.execute_input": "2024-05-09T14:30:25.857836Z",
     "iopub.status.busy": "2024-05-09T14:30:25.856357Z",
     "iopub.status.idle": "2024-05-09T14:30:25.861788Z",
     "shell.execute_reply": "2024-05-09T14:30:25.861202Z"
    }
   },
   "outputs": [],
   "source": [
    "DATABASE = '../data/external/histo.db'"
   ]
  },
  {
   "cell_type": "code",
   "execution_count": 3,
   "id": "719f5e03",
   "metadata": {
    "execution": {
     "iopub.execute_input": "2024-05-09T14:30:25.866602Z",
     "iopub.status.busy": "2024-05-09T14:30:25.865343Z",
     "iopub.status.idle": "2024-05-09T14:30:26.209921Z",
     "shell.execute_reply": "2024-05-09T14:30:26.209285Z"
    }
   },
   "outputs": [
    {
     "data": {
      "text/html": [
       "<div>\n",
       "<style scoped>\n",
       "    .dataframe tbody tr th:only-of-type {\n",
       "        vertical-align: middle;\n",
       "    }\n",
       "\n",
       "    .dataframe tbody tr th {\n",
       "        vertical-align: top;\n",
       "    }\n",
       "\n",
       "    .dataframe thead th {\n",
       "        text-align: right;\n",
       "    }\n",
       "</style>\n",
       "<table border=\"1\" class=\"dataframe\">\n",
       "  <thead>\n",
       "    <tr style=\"text-align: right;\">\n",
       "      <th></th>\n",
       "      <th>allele_slug</th>\n",
       "      <th>position</th>\n",
       "      <th>amino_acid</th>\n",
       "      <th>peptide_length</th>\n",
       "    </tr>\n",
       "  </thead>\n",
       "  <tbody>\n",
       "    <tr>\n",
       "      <th>0</th>\n",
       "      <td>hla_a_01_01</td>\n",
       "      <td>2</td>\n",
       "      <td>T</td>\n",
       "      <td>9</td>\n",
       "    </tr>\n",
       "    <tr>\n",
       "      <th>1</th>\n",
       "      <td>hla_a_01_01</td>\n",
       "      <td>3</td>\n",
       "      <td>D</td>\n",
       "      <td>9</td>\n",
       "    </tr>\n",
       "    <tr>\n",
       "      <th>2</th>\n",
       "      <td>hla_a_01_01</td>\n",
       "      <td>9</td>\n",
       "      <td>Y</td>\n",
       "      <td>9</td>\n",
       "    </tr>\n",
       "    <tr>\n",
       "      <th>3</th>\n",
       "      <td>hla_a_02_01</td>\n",
       "      <td>2</td>\n",
       "      <td>L</td>\n",
       "      <td>9</td>\n",
       "    </tr>\n",
       "    <tr>\n",
       "      <th>4</th>\n",
       "      <td>hla_a_02_01</td>\n",
       "      <td>9</td>\n",
       "      <td>L</td>\n",
       "      <td>9</td>\n",
       "    </tr>\n",
       "    <tr>\n",
       "      <th>...</th>\n",
       "      <td>...</td>\n",
       "      <td>...</td>\n",
       "      <td>...</td>\n",
       "      <td>...</td>\n",
       "    </tr>\n",
       "    <tr>\n",
       "      <th>319</th>\n",
       "      <td>hla_g_01_03</td>\n",
       "      <td>9</td>\n",
       "      <td>L</td>\n",
       "      <td>9</td>\n",
       "    </tr>\n",
       "    <tr>\n",
       "      <th>320</th>\n",
       "      <td>hla_g_01_04</td>\n",
       "      <td>1</td>\n",
       "      <td>K</td>\n",
       "      <td>9</td>\n",
       "    </tr>\n",
       "    <tr>\n",
       "      <th>321</th>\n",
       "      <td>hla_g_01_04</td>\n",
       "      <td>1</td>\n",
       "      <td>R</td>\n",
       "      <td>9</td>\n",
       "    </tr>\n",
       "    <tr>\n",
       "      <th>322</th>\n",
       "      <td>hla_g_01_04</td>\n",
       "      <td>3</td>\n",
       "      <td>P</td>\n",
       "      <td>9</td>\n",
       "    </tr>\n",
       "    <tr>\n",
       "      <th>323</th>\n",
       "      <td>hla_g_01_04</td>\n",
       "      <td>9</td>\n",
       "      <td>L</td>\n",
       "      <td>9</td>\n",
       "    </tr>\n",
       "  </tbody>\n",
       "</table>\n",
       "<p>324 rows × 4 columns</p>\n",
       "</div>"
      ],
      "text/plain": [
       "     allele_slug  position amino_acid  peptide_length\n",
       "0    hla_a_01_01         2          T               9\n",
       "1    hla_a_01_01         3          D               9\n",
       "2    hla_a_01_01         9          Y               9\n",
       "3    hla_a_02_01         2          L               9\n",
       "4    hla_a_02_01         9          L               9\n",
       "..           ...       ...        ...             ...\n",
       "319  hla_g_01_03         9          L               9\n",
       "320  hla_g_01_04         1          K               9\n",
       "321  hla_g_01_04         1          R               9\n",
       "322  hla_g_01_04         3          P               9\n",
       "323  hla_g_01_04         9          L               9\n",
       "\n",
       "[324 rows x 4 columns]"
      ]
     },
     "execution_count": 3,
     "metadata": {},
     "output_type": "execute_result"
    }
   ],
   "source": [
    "mhc_anchor_position_query = '''\n",
    "SELECT allele_slug,\n",
    "       position,\n",
    "       amino_acid,\n",
    "       peptide_length\n",
    "FROM motifs\n",
    "WHERE motifs.grade in ('high', 'dominant')\n",
    "ORDER BY motifs.allele_slug\n",
    "'''\n",
    "with sqlite3.connect(DATABASE) as conn:\n",
    "    mhc_anchor_position_df = pd.read_sql_query(mhc_anchor_position_query, conn)\n",
    "\n",
    "mhc_anchor_position_df"
   ]
  },
  {
   "cell_type": "markdown",
   "id": "1ca64e89",
   "metadata": {},
   "source": [
    "# Load *apo*-*holo* comparisons"
   ]
  },
  {
   "cell_type": "code",
   "execution_count": 4,
   "id": "1c30eb3f",
   "metadata": {
    "execution": {
     "iopub.execute_input": "2024-05-09T14:30:26.215054Z",
     "iopub.status.busy": "2024-05-09T14:30:26.213831Z",
     "iopub.status.idle": "2024-05-09T14:30:26.837859Z",
     "shell.execute_reply": "2024-05-09T14:30:26.837206Z"
    }
   },
   "outputs": [
    {
     "data": {
      "text/html": [
       "<div>\n",
       "<style scoped>\n",
       "    .dataframe tbody tr th:only-of-type {\n",
       "        vertical-align: middle;\n",
       "    }\n",
       "\n",
       "    .dataframe tbody tr th {\n",
       "        vertical-align: top;\n",
       "    }\n",
       "\n",
       "    .dataframe thead th {\n",
       "        text-align: right;\n",
       "    }\n",
       "</style>\n",
       "<table border=\"1\" class=\"dataframe\">\n",
       "  <thead>\n",
       "    <tr style=\"text-align: right;\">\n",
       "      <th></th>\n",
       "      <th>complex_id</th>\n",
       "      <th>structure_x_name</th>\n",
       "      <th>structure_y_name</th>\n",
       "      <th>chain_type</th>\n",
       "      <th>residue_name</th>\n",
       "      <th>residue_seq_id</th>\n",
       "      <th>residue_insert_code</th>\n",
       "      <th>rmsd</th>\n",
       "      <th>ca_distance</th>\n",
       "      <th>chi_angle_change</th>\n",
       "      <th>com_distance</th>\n",
       "    </tr>\n",
       "  </thead>\n",
       "  <tbody>\n",
       "    <tr>\n",
       "      <th>181</th>\n",
       "      <td>7ow6_D-E-C-A-B_tcr_pmhc</td>\n",
       "      <td>7ow4_A-B-C_pmhc.pdb</td>\n",
       "      <td>7ow4_D-E-F_pmhc.pdb</td>\n",
       "      <td>antigen_chain</td>\n",
       "      <td>VAL</td>\n",
       "      <td>1</td>\n",
       "      <td>NaN</td>\n",
       "      <td>0.354933</td>\n",
       "      <td>0.330887</td>\n",
       "      <td>0.200330</td>\n",
       "      <td>0.316020</td>\n",
       "    </tr>\n",
       "    <tr>\n",
       "      <th>182</th>\n",
       "      <td>7ow6_D-E-C-A-B_tcr_pmhc</td>\n",
       "      <td>7ow4_A-B-C_pmhc.pdb</td>\n",
       "      <td>7ow4_D-E-F_pmhc.pdb</td>\n",
       "      <td>antigen_chain</td>\n",
       "      <td>VAL</td>\n",
       "      <td>2</td>\n",
       "      <td>NaN</td>\n",
       "      <td>0.262440</td>\n",
       "      <td>0.073709</td>\n",
       "      <td>0.030793</td>\n",
       "      <td>0.085332</td>\n",
       "    </tr>\n",
       "    <tr>\n",
       "      <th>183</th>\n",
       "      <td>7ow6_D-E-C-A-B_tcr_pmhc</td>\n",
       "      <td>7ow4_A-B-C_pmhc.pdb</td>\n",
       "      <td>7ow4_D-E-F_pmhc.pdb</td>\n",
       "      <td>antigen_chain</td>\n",
       "      <td>VAL</td>\n",
       "      <td>3</td>\n",
       "      <td>NaN</td>\n",
       "      <td>0.256739</td>\n",
       "      <td>0.248310</td>\n",
       "      <td>-0.007898</td>\n",
       "      <td>0.215858</td>\n",
       "    </tr>\n",
       "    <tr>\n",
       "      <th>184</th>\n",
       "      <td>7ow6_D-E-C-A-B_tcr_pmhc</td>\n",
       "      <td>7ow4_A-B-C_pmhc.pdb</td>\n",
       "      <td>7ow4_D-E-F_pmhc.pdb</td>\n",
       "      <td>antigen_chain</td>\n",
       "      <td>GLY</td>\n",
       "      <td>4</td>\n",
       "      <td>NaN</td>\n",
       "      <td>0.568505</td>\n",
       "      <td>0.622876</td>\n",
       "      <td>NaN</td>\n",
       "      <td>0.318856</td>\n",
       "    </tr>\n",
       "    <tr>\n",
       "      <th>185</th>\n",
       "      <td>7ow6_D-E-C-A-B_tcr_pmhc</td>\n",
       "      <td>7ow4_A-B-C_pmhc.pdb</td>\n",
       "      <td>7ow4_D-E-F_pmhc.pdb</td>\n",
       "      <td>antigen_chain</td>\n",
       "      <td>GLY</td>\n",
       "      <td>7</td>\n",
       "      <td>NaN</td>\n",
       "      <td>0.346240</td>\n",
       "      <td>0.192317</td>\n",
       "      <td>NaN</td>\n",
       "      <td>0.324260</td>\n",
       "    </tr>\n",
       "    <tr>\n",
       "      <th>...</th>\n",
       "      <td>...</td>\n",
       "      <td>...</td>\n",
       "      <td>...</td>\n",
       "      <td>...</td>\n",
       "      <td>...</td>\n",
       "      <td>...</td>\n",
       "      <td>...</td>\n",
       "      <td>...</td>\n",
       "      <td>...</td>\n",
       "      <td>...</td>\n",
       "      <td>...</td>\n",
       "    </tr>\n",
       "    <tr>\n",
       "      <th>126149</th>\n",
       "      <td>7rtr_D-E-C-A-B_tcr_pmhc</td>\n",
       "      <td>7rtd_A-B-C_pmhc.pdb</td>\n",
       "      <td>7rtr_D-E-C-A-B_tcr_pmhc.pdb</td>\n",
       "      <td>antigen_chain</td>\n",
       "      <td>ARG</td>\n",
       "      <td>5</td>\n",
       "      <td>NaN</td>\n",
       "      <td>1.064663</td>\n",
       "      <td>0.157924</td>\n",
       "      <td>0.364432</td>\n",
       "      <td>0.705033</td>\n",
       "    </tr>\n",
       "    <tr>\n",
       "      <th>126150</th>\n",
       "      <td>7rtr_D-E-C-A-B_tcr_pmhc</td>\n",
       "      <td>7rtd_A-B-C_pmhc.pdb</td>\n",
       "      <td>7rtr_D-E-C-A-B_tcr_pmhc.pdb</td>\n",
       "      <td>antigen_chain</td>\n",
       "      <td>THR</td>\n",
       "      <td>6</td>\n",
       "      <td>NaN</td>\n",
       "      <td>0.421897</td>\n",
       "      <td>0.345439</td>\n",
       "      <td>0.097701</td>\n",
       "      <td>0.344074</td>\n",
       "    </tr>\n",
       "    <tr>\n",
       "      <th>126151</th>\n",
       "      <td>7rtr_D-E-C-A-B_tcr_pmhc</td>\n",
       "      <td>7rtd_A-B-C_pmhc.pdb</td>\n",
       "      <td>7rtr_D-E-C-A-B_tcr_pmhc.pdb</td>\n",
       "      <td>antigen_chain</td>\n",
       "      <td>PHE</td>\n",
       "      <td>7</td>\n",
       "      <td>NaN</td>\n",
       "      <td>1.225982</td>\n",
       "      <td>0.317819</td>\n",
       "      <td>-0.347835</td>\n",
       "      <td>0.883236</td>\n",
       "    </tr>\n",
       "    <tr>\n",
       "      <th>126152</th>\n",
       "      <td>7rtr_D-E-C-A-B_tcr_pmhc</td>\n",
       "      <td>7rtd_A-B-C_pmhc.pdb</td>\n",
       "      <td>7rtr_D-E-C-A-B_tcr_pmhc.pdb</td>\n",
       "      <td>antigen_chain</td>\n",
       "      <td>LEU</td>\n",
       "      <td>8</td>\n",
       "      <td>NaN</td>\n",
       "      <td>1.323615</td>\n",
       "      <td>0.310356</td>\n",
       "      <td>0.612672</td>\n",
       "      <td>0.270049</td>\n",
       "    </tr>\n",
       "    <tr>\n",
       "      <th>126153</th>\n",
       "      <td>7rtr_D-E-C-A-B_tcr_pmhc</td>\n",
       "      <td>7rtd_A-B-C_pmhc.pdb</td>\n",
       "      <td>7rtr_D-E-C-A-B_tcr_pmhc.pdb</td>\n",
       "      <td>antigen_chain</td>\n",
       "      <td>LEU</td>\n",
       "      <td>9</td>\n",
       "      <td>NaN</td>\n",
       "      <td>1.599917</td>\n",
       "      <td>0.192969</td>\n",
       "      <td>0.885323</td>\n",
       "      <td>0.175807</td>\n",
       "    </tr>\n",
       "  </tbody>\n",
       "</table>\n",
       "<p>5838 rows × 11 columns</p>\n",
       "</div>"
      ],
      "text/plain": [
       "                     complex_id     structure_x_name  \\\n",
       "181     7ow6_D-E-C-A-B_tcr_pmhc  7ow4_A-B-C_pmhc.pdb   \n",
       "182     7ow6_D-E-C-A-B_tcr_pmhc  7ow4_A-B-C_pmhc.pdb   \n",
       "183     7ow6_D-E-C-A-B_tcr_pmhc  7ow4_A-B-C_pmhc.pdb   \n",
       "184     7ow6_D-E-C-A-B_tcr_pmhc  7ow4_A-B-C_pmhc.pdb   \n",
       "185     7ow6_D-E-C-A-B_tcr_pmhc  7ow4_A-B-C_pmhc.pdb   \n",
       "...                         ...                  ...   \n",
       "126149  7rtr_D-E-C-A-B_tcr_pmhc  7rtd_A-B-C_pmhc.pdb   \n",
       "126150  7rtr_D-E-C-A-B_tcr_pmhc  7rtd_A-B-C_pmhc.pdb   \n",
       "126151  7rtr_D-E-C-A-B_tcr_pmhc  7rtd_A-B-C_pmhc.pdb   \n",
       "126152  7rtr_D-E-C-A-B_tcr_pmhc  7rtd_A-B-C_pmhc.pdb   \n",
       "126153  7rtr_D-E-C-A-B_tcr_pmhc  7rtd_A-B-C_pmhc.pdb   \n",
       "\n",
       "                   structure_y_name     chain_type residue_name  \\\n",
       "181             7ow4_D-E-F_pmhc.pdb  antigen_chain          VAL   \n",
       "182             7ow4_D-E-F_pmhc.pdb  antigen_chain          VAL   \n",
       "183             7ow4_D-E-F_pmhc.pdb  antigen_chain          VAL   \n",
       "184             7ow4_D-E-F_pmhc.pdb  antigen_chain          GLY   \n",
       "185             7ow4_D-E-F_pmhc.pdb  antigen_chain          GLY   \n",
       "...                             ...            ...          ...   \n",
       "126149  7rtr_D-E-C-A-B_tcr_pmhc.pdb  antigen_chain          ARG   \n",
       "126150  7rtr_D-E-C-A-B_tcr_pmhc.pdb  antigen_chain          THR   \n",
       "126151  7rtr_D-E-C-A-B_tcr_pmhc.pdb  antigen_chain          PHE   \n",
       "126152  7rtr_D-E-C-A-B_tcr_pmhc.pdb  antigen_chain          LEU   \n",
       "126153  7rtr_D-E-C-A-B_tcr_pmhc.pdb  antigen_chain          LEU   \n",
       "\n",
       "        residue_seq_id residue_insert_code      rmsd  ca_distance  \\\n",
       "181                  1                 NaN  0.354933     0.330887   \n",
       "182                  2                 NaN  0.262440     0.073709   \n",
       "183                  3                 NaN  0.256739     0.248310   \n",
       "184                  4                 NaN  0.568505     0.622876   \n",
       "185                  7                 NaN  0.346240     0.192317   \n",
       "...                ...                 ...       ...          ...   \n",
       "126149               5                 NaN  1.064663     0.157924   \n",
       "126150               6                 NaN  0.421897     0.345439   \n",
       "126151               7                 NaN  1.225982     0.317819   \n",
       "126152               8                 NaN  1.323615     0.310356   \n",
       "126153               9                 NaN  1.599917     0.192969   \n",
       "\n",
       "        chi_angle_change  com_distance  \n",
       "181             0.200330      0.316020  \n",
       "182             0.030793      0.085332  \n",
       "183            -0.007898      0.215858  \n",
       "184                  NaN      0.318856  \n",
       "185                  NaN      0.324260  \n",
       "...                  ...           ...  \n",
       "126149          0.364432      0.705033  \n",
       "126150          0.097701      0.344074  \n",
       "126151         -0.347835      0.883236  \n",
       "126152          0.612672      0.270049  \n",
       "126153          0.885323      0.175807  \n",
       "\n",
       "[5838 rows x 11 columns]"
      ]
     },
     "execution_count": 4,
     "metadata": {},
     "output_type": "execute_result"
    }
   ],
   "source": [
    "apo_holo_comparison = pd.read_csv('../data/processed/apo-holo-tcr-pmhc-class-I-comparisons/pmhc_per_res_apo_holo.csv')\n",
    "\n",
    "peptide_apo_holo_comparison = apo_holo_comparison.query(\"chain_type == 'antigen_chain'\").copy()\n",
    "peptide_apo_holo_comparison"
   ]
  },
  {
   "cell_type": "code",
   "execution_count": 5,
   "id": "3c0def20",
   "metadata": {
    "execution": {
     "iopub.execute_input": "2024-05-09T14:30:26.842941Z",
     "iopub.status.busy": "2024-05-09T14:30:26.841694Z",
     "iopub.status.idle": "2024-05-09T14:30:26.874125Z",
     "shell.execute_reply": "2024-05-09T14:30:26.873483Z"
    }
   },
   "outputs": [],
   "source": [
    "peptide_apo_holo_comparison['peptide_length'] = \\\n",
    "    peptide_apo_holo_comparison.groupby(['complex_id',\n",
    "                                         'structure_x_name',\n",
    "                                         'structure_y_name']).transform('size')"
   ]
  },
  {
   "cell_type": "code",
   "execution_count": 6,
   "id": "65e48572",
   "metadata": {
    "execution": {
     "iopub.execute_input": "2024-05-09T14:30:26.879077Z",
     "iopub.status.busy": "2024-05-09T14:30:26.877679Z",
     "iopub.status.idle": "2024-05-09T14:30:26.884920Z",
     "shell.execute_reply": "2024-05-09T14:30:26.884335Z"
    }
   },
   "outputs": [],
   "source": [
    "peptide_apo_holo_comparison['amino_acid'] = peptide_apo_holo_comparison['residue_name'].map(THREE_TO_ONE_CODE)"
   ]
  },
  {
   "cell_type": "markdown",
   "id": "53e586f5",
   "metadata": {},
   "source": [
    "# Load summary data"
   ]
  },
  {
   "cell_type": "code",
   "execution_count": 7,
   "id": "92f435d2",
   "metadata": {
    "execution": {
     "iopub.execute_input": "2024-05-09T14:30:26.889830Z",
     "iopub.status.busy": "2024-05-09T14:30:26.888595Z",
     "iopub.status.idle": "2024-05-09T14:30:26.917441Z",
     "shell.execute_reply": "2024-05-09T14:30:26.916825Z"
    }
   },
   "outputs": [
    {
     "name": "stderr",
     "output_type": "stream",
     "text": [
      "/var/scratch/bmcmaste/1355136/ipykernel_3352728/1956598565.py:2: FutureWarning: The default value of regex will change from True to False in a future version.\n",
      "  summary_df['group_name'] = summary_df['file_name'].str.replace('.pdb', '')\n"
     ]
    },
    {
     "data": {
      "text/html": [
       "<div>\n",
       "<style scoped>\n",
       "    .dataframe tbody tr th:only-of-type {\n",
       "        vertical-align: middle;\n",
       "    }\n",
       "\n",
       "    .dataframe tbody tr th {\n",
       "        vertical-align: top;\n",
       "    }\n",
       "\n",
       "    .dataframe thead th {\n",
       "        text-align: right;\n",
       "    }\n",
       "</style>\n",
       "<table border=\"1\" class=\"dataframe\">\n",
       "  <thead>\n",
       "    <tr style=\"text-align: right;\">\n",
       "      <th></th>\n",
       "      <th>file_name</th>\n",
       "      <th>pdb_id</th>\n",
       "      <th>structure_type</th>\n",
       "      <th>state</th>\n",
       "      <th>alpha_chain</th>\n",
       "      <th>beta_chain</th>\n",
       "      <th>antigen_chain</th>\n",
       "      <th>mhc_chain1</th>\n",
       "      <th>mhc_chain2</th>\n",
       "      <th>cdr_sequences_collated</th>\n",
       "      <th>peptide_sequence</th>\n",
       "      <th>mhc_slug</th>\n",
       "      <th>group_name</th>\n",
       "    </tr>\n",
       "  </thead>\n",
       "  <tbody>\n",
       "    <tr>\n",
       "      <th>0</th>\n",
       "      <td>1ao7_D-E-C-A-B_tcr_pmhc.pdb</td>\n",
       "      <td>1ao7</td>\n",
       "      <td>tcr_pmhc</td>\n",
       "      <td>holo</td>\n",
       "      <td>D</td>\n",
       "      <td>E</td>\n",
       "      <td>C</td>\n",
       "      <td>A</td>\n",
       "      <td>B</td>\n",
       "      <td>DRGSQS-IYSNGD-AVTTDSWGKLQ-MNHEY-SVGAGI-ASRPGLA...</td>\n",
       "      <td>LLFGYPVYV</td>\n",
       "      <td>hla_a_02_01</td>\n",
       "      <td>1ao7_D-E-C-A-B_tcr_pmhc</td>\n",
       "    </tr>\n",
       "    <tr>\n",
       "      <th>1</th>\n",
       "      <td>1bd2_D-E-C-A-B_tcr_pmhc.pdb</td>\n",
       "      <td>1bd2</td>\n",
       "      <td>tcr_pmhc</td>\n",
       "      <td>holo</td>\n",
       "      <td>D</td>\n",
       "      <td>E</td>\n",
       "      <td>C</td>\n",
       "      <td>A</td>\n",
       "      <td>B</td>\n",
       "      <td>NSMFDY-ISSIKDK-AAMEGAQKLV-MNHEY-SVGAGI-ASSYPGG...</td>\n",
       "      <td>LLFGYPVYV</td>\n",
       "      <td>hla_a_02_01</td>\n",
       "      <td>1bd2_D-E-C-A-B_tcr_pmhc</td>\n",
       "    </tr>\n",
       "    <tr>\n",
       "      <th>2</th>\n",
       "      <td>1bii_A-B-P_pmhc.pdb</td>\n",
       "      <td>1bii</td>\n",
       "      <td>pmhc</td>\n",
       "      <td>apo</td>\n",
       "      <td>NaN</td>\n",
       "      <td>NaN</td>\n",
       "      <td>P</td>\n",
       "      <td>A</td>\n",
       "      <td>B</td>\n",
       "      <td>NaN</td>\n",
       "      <td>RGPGRAFVTI</td>\n",
       "      <td>h2_dd</td>\n",
       "      <td>1bii_A-B-P_pmhc</td>\n",
       "    </tr>\n",
       "    <tr>\n",
       "      <th>3</th>\n",
       "      <td>1ddh_A-B-P_pmhc.pdb</td>\n",
       "      <td>1ddh</td>\n",
       "      <td>pmhc</td>\n",
       "      <td>apo</td>\n",
       "      <td>NaN</td>\n",
       "      <td>NaN</td>\n",
       "      <td>P</td>\n",
       "      <td>A</td>\n",
       "      <td>B</td>\n",
       "      <td>NaN</td>\n",
       "      <td>RGPGRAFVTI</td>\n",
       "      <td>h2_dd</td>\n",
       "      <td>1ddh_A-B-P_pmhc</td>\n",
       "    </tr>\n",
       "    <tr>\n",
       "      <th>4</th>\n",
       "      <td>1duz_A-B-C_pmhc.pdb</td>\n",
       "      <td>1duz</td>\n",
       "      <td>pmhc</td>\n",
       "      <td>apo</td>\n",
       "      <td>NaN</td>\n",
       "      <td>NaN</td>\n",
       "      <td>C</td>\n",
       "      <td>A</td>\n",
       "      <td>B</td>\n",
       "      <td>NaN</td>\n",
       "      <td>LLFGYPVYV</td>\n",
       "      <td>hla_a_02_01</td>\n",
       "      <td>1duz_A-B-C_pmhc</td>\n",
       "    </tr>\n",
       "    <tr>\n",
       "      <th>...</th>\n",
       "      <td>...</td>\n",
       "      <td>...</td>\n",
       "      <td>...</td>\n",
       "      <td>...</td>\n",
       "      <td>...</td>\n",
       "      <td>...</td>\n",
       "      <td>...</td>\n",
       "      <td>...</td>\n",
       "      <td>...</td>\n",
       "      <td>...</td>\n",
       "      <td>...</td>\n",
       "      <td>...</td>\n",
       "      <td>...</td>\n",
       "    </tr>\n",
       "    <tr>\n",
       "      <th>353</th>\n",
       "      <td>8gon_D-E-C-A-B_tcr_pmhc.pdb</td>\n",
       "      <td>8gon</td>\n",
       "      <td>tcr_pmhc</td>\n",
       "      <td>holo</td>\n",
       "      <td>D</td>\n",
       "      <td>E</td>\n",
       "      <td>C</td>\n",
       "      <td>A</td>\n",
       "      <td>B</td>\n",
       "      <td>TSESDYY-QEAYKQQN-ASSGNTPLV-SGHNS-FNNNVP-ASTWGR...</td>\n",
       "      <td>NaN</td>\n",
       "      <td>NaN</td>\n",
       "      <td>8gon_D-E-C-A-B_tcr_pmhc</td>\n",
       "    </tr>\n",
       "    <tr>\n",
       "      <th>354</th>\n",
       "      <td>8gop_A-B_tcr.pdb</td>\n",
       "      <td>8gop</td>\n",
       "      <td>tcr</td>\n",
       "      <td>apo</td>\n",
       "      <td>A</td>\n",
       "      <td>B</td>\n",
       "      <td>NaN</td>\n",
       "      <td>NaN</td>\n",
       "      <td>NaN</td>\n",
       "      <td>TSESDYY-QEAYKQQN-ASSGNTPLV-SGHNS-FNNNVP-ASTWGR...</td>\n",
       "      <td>NaN</td>\n",
       "      <td>NaN</td>\n",
       "      <td>8gop_A-B_tcr</td>\n",
       "    </tr>\n",
       "    <tr>\n",
       "      <th>355</th>\n",
       "      <td>8gvb_A-B-P-H-L_tcr_pmhc.pdb</td>\n",
       "      <td>8gvb</td>\n",
       "      <td>tcr_pmhc</td>\n",
       "      <td>holo</td>\n",
       "      <td>A</td>\n",
       "      <td>B</td>\n",
       "      <td>P</td>\n",
       "      <td>H</td>\n",
       "      <td>L</td>\n",
       "      <td>YGATPY-YFSGDTLV-AVGFTGGGNKLT-SEHNR-FQNEAQ-ASSD...</td>\n",
       "      <td>RYPLTFGW</td>\n",
       "      <td>hla_a_24_02</td>\n",
       "      <td>8gvb_A-B-P-H-L_tcr_pmhc</td>\n",
       "    </tr>\n",
       "    <tr>\n",
       "      <th>356</th>\n",
       "      <td>8gvg_A-B-P-H-L_tcr_pmhc.pdb</td>\n",
       "      <td>8gvg</td>\n",
       "      <td>tcr_pmhc</td>\n",
       "      <td>holo</td>\n",
       "      <td>A</td>\n",
       "      <td>B</td>\n",
       "      <td>P</td>\n",
       "      <td>H</td>\n",
       "      <td>L</td>\n",
       "      <td>YGATPY-YFSGDTLV-AVGFTGGGNKLT-SEHNR-FQNEAQ-ASSD...</td>\n",
       "      <td>RFPLTFGW</td>\n",
       "      <td>hla_a_24_02</td>\n",
       "      <td>8gvg_A-B-P-H-L_tcr_pmhc</td>\n",
       "    </tr>\n",
       "    <tr>\n",
       "      <th>357</th>\n",
       "      <td>8gvi_A-B-P-H-L_tcr_pmhc.pdb</td>\n",
       "      <td>8gvi</td>\n",
       "      <td>tcr_pmhc</td>\n",
       "      <td>holo</td>\n",
       "      <td>A</td>\n",
       "      <td>B</td>\n",
       "      <td>P</td>\n",
       "      <td>H</td>\n",
       "      <td>L</td>\n",
       "      <td>YGATPY-YFSGDTLV-AVVFTGGGNKLT-SEHNR-FQNEAQ-ASSL...</td>\n",
       "      <td>RYPLTFGW</td>\n",
       "      <td>hla_a_24_02</td>\n",
       "      <td>8gvi_A-B-P-H-L_tcr_pmhc</td>\n",
       "    </tr>\n",
       "  </tbody>\n",
       "</table>\n",
       "<p>358 rows × 13 columns</p>\n",
       "</div>"
      ],
      "text/plain": [
       "                       file_name pdb_id structure_type state alpha_chain  \\\n",
       "0    1ao7_D-E-C-A-B_tcr_pmhc.pdb   1ao7       tcr_pmhc  holo           D   \n",
       "1    1bd2_D-E-C-A-B_tcr_pmhc.pdb   1bd2       tcr_pmhc  holo           D   \n",
       "2            1bii_A-B-P_pmhc.pdb   1bii           pmhc   apo         NaN   \n",
       "3            1ddh_A-B-P_pmhc.pdb   1ddh           pmhc   apo         NaN   \n",
       "4            1duz_A-B-C_pmhc.pdb   1duz           pmhc   apo         NaN   \n",
       "..                           ...    ...            ...   ...         ...   \n",
       "353  8gon_D-E-C-A-B_tcr_pmhc.pdb   8gon       tcr_pmhc  holo           D   \n",
       "354             8gop_A-B_tcr.pdb   8gop            tcr   apo           A   \n",
       "355  8gvb_A-B-P-H-L_tcr_pmhc.pdb   8gvb       tcr_pmhc  holo           A   \n",
       "356  8gvg_A-B-P-H-L_tcr_pmhc.pdb   8gvg       tcr_pmhc  holo           A   \n",
       "357  8gvi_A-B-P-H-L_tcr_pmhc.pdb   8gvi       tcr_pmhc  holo           A   \n",
       "\n",
       "    beta_chain antigen_chain mhc_chain1 mhc_chain2  \\\n",
       "0            E             C          A          B   \n",
       "1            E             C          A          B   \n",
       "2          NaN             P          A          B   \n",
       "3          NaN             P          A          B   \n",
       "4          NaN             C          A          B   \n",
       "..         ...           ...        ...        ...   \n",
       "353          E             C          A          B   \n",
       "354          B           NaN        NaN        NaN   \n",
       "355          B             P          H          L   \n",
       "356          B             P          H          L   \n",
       "357          B             P          H          L   \n",
       "\n",
       "                                cdr_sequences_collated peptide_sequence  \\\n",
       "0    DRGSQS-IYSNGD-AVTTDSWGKLQ-MNHEY-SVGAGI-ASRPGLA...        LLFGYPVYV   \n",
       "1    NSMFDY-ISSIKDK-AAMEGAQKLV-MNHEY-SVGAGI-ASSYPGG...        LLFGYPVYV   \n",
       "2                                                  NaN       RGPGRAFVTI   \n",
       "3                                                  NaN       RGPGRAFVTI   \n",
       "4                                                  NaN        LLFGYPVYV   \n",
       "..                                                 ...              ...   \n",
       "353  TSESDYY-QEAYKQQN-ASSGNTPLV-SGHNS-FNNNVP-ASTWGR...              NaN   \n",
       "354  TSESDYY-QEAYKQQN-ASSGNTPLV-SGHNS-FNNNVP-ASTWGR...              NaN   \n",
       "355  YGATPY-YFSGDTLV-AVGFTGGGNKLT-SEHNR-FQNEAQ-ASSD...         RYPLTFGW   \n",
       "356  YGATPY-YFSGDTLV-AVGFTGGGNKLT-SEHNR-FQNEAQ-ASSD...         RFPLTFGW   \n",
       "357  YGATPY-YFSGDTLV-AVVFTGGGNKLT-SEHNR-FQNEAQ-ASSL...         RYPLTFGW   \n",
       "\n",
       "        mhc_slug               group_name  \n",
       "0    hla_a_02_01  1ao7_D-E-C-A-B_tcr_pmhc  \n",
       "1    hla_a_02_01  1bd2_D-E-C-A-B_tcr_pmhc  \n",
       "2          h2_dd          1bii_A-B-P_pmhc  \n",
       "3          h2_dd          1ddh_A-B-P_pmhc  \n",
       "4    hla_a_02_01          1duz_A-B-C_pmhc  \n",
       "..           ...                      ...  \n",
       "353          NaN  8gon_D-E-C-A-B_tcr_pmhc  \n",
       "354          NaN             8gop_A-B_tcr  \n",
       "355  hla_a_24_02  8gvb_A-B-P-H-L_tcr_pmhc  \n",
       "356  hla_a_24_02  8gvg_A-B-P-H-L_tcr_pmhc  \n",
       "357  hla_a_24_02  8gvi_A-B-P-H-L_tcr_pmhc  \n",
       "\n",
       "[358 rows x 13 columns]"
      ]
     },
     "execution_count": 7,
     "metadata": {},
     "output_type": "execute_result"
    }
   ],
   "source": [
    "summary_df = pd.read_csv('../data/processed/apo-holo-tcr-pmhc-class-I/apo_holo_summary.csv')\n",
    "summary_df['group_name'] = summary_df['file_name'].str.replace('.pdb', '')\n",
    "\n",
    "summary_df"
   ]
  },
  {
   "cell_type": "markdown",
   "id": "d430a281",
   "metadata": {},
   "source": [
    "# Annotate *apo*-*holo* data with allele information"
   ]
  },
  {
   "cell_type": "code",
   "execution_count": 8,
   "id": "9950a2a1",
   "metadata": {
    "execution": {
     "iopub.execute_input": "2024-05-09T14:30:26.925466Z",
     "iopub.status.busy": "2024-05-09T14:30:26.924209Z",
     "iopub.status.idle": "2024-05-09T14:30:26.959265Z",
     "shell.execute_reply": "2024-05-09T14:30:26.958637Z"
    }
   },
   "outputs": [
    {
     "data": {
      "text/html": [
       "<div>\n",
       "<style scoped>\n",
       "    .dataframe tbody tr th:only-of-type {\n",
       "        vertical-align: middle;\n",
       "    }\n",
       "\n",
       "    .dataframe tbody tr th {\n",
       "        vertical-align: top;\n",
       "    }\n",
       "\n",
       "    .dataframe thead th {\n",
       "        text-align: right;\n",
       "    }\n",
       "</style>\n",
       "<table border=\"1\" class=\"dataframe\">\n",
       "  <thead>\n",
       "    <tr style=\"text-align: right;\">\n",
       "      <th></th>\n",
       "      <th>complex_id</th>\n",
       "      <th>structure_x_name</th>\n",
       "      <th>structure_y_name</th>\n",
       "      <th>chain_type</th>\n",
       "      <th>residue_name</th>\n",
       "      <th>residue_seq_id</th>\n",
       "      <th>residue_insert_code</th>\n",
       "      <th>rmsd</th>\n",
       "      <th>ca_distance</th>\n",
       "      <th>chi_angle_change</th>\n",
       "      <th>...</th>\n",
       "      <th>state</th>\n",
       "      <th>alpha_chain</th>\n",
       "      <th>beta_chain</th>\n",
       "      <th>antigen_chain</th>\n",
       "      <th>mhc_chain1</th>\n",
       "      <th>mhc_chain2</th>\n",
       "      <th>cdr_sequences_collated</th>\n",
       "      <th>peptide_sequence</th>\n",
       "      <th>mhc_slug</th>\n",
       "      <th>group_name</th>\n",
       "    </tr>\n",
       "  </thead>\n",
       "  <tbody>\n",
       "    <tr>\n",
       "      <th>0</th>\n",
       "      <td>7ow6_D-E-C-A-B_tcr_pmhc</td>\n",
       "      <td>7ow4_A-B-C_pmhc.pdb</td>\n",
       "      <td>7ow4_D-E-F_pmhc.pdb</td>\n",
       "      <td>antigen_chain</td>\n",
       "      <td>VAL</td>\n",
       "      <td>1</td>\n",
       "      <td>NaN</td>\n",
       "      <td>0.354933</td>\n",
       "      <td>0.330887</td>\n",
       "      <td>0.200330</td>\n",
       "      <td>...</td>\n",
       "      <td>holo</td>\n",
       "      <td>D</td>\n",
       "      <td>E</td>\n",
       "      <td>C</td>\n",
       "      <td>A</td>\n",
       "      <td>B</td>\n",
       "      <td>TRDTAYY-QPWWGEQN-AMSVPSGDGSYQFT-MNHEY-SVGEGT-A...</td>\n",
       "      <td>VVVGADGVGK</td>\n",
       "      <td>hla_a_11_01</td>\n",
       "      <td>7ow6_D-E-C-A-B_tcr_pmhc</td>\n",
       "    </tr>\n",
       "    <tr>\n",
       "      <th>1</th>\n",
       "      <td>7ow6_D-E-C-A-B_tcr_pmhc</td>\n",
       "      <td>7ow4_A-B-C_pmhc.pdb</td>\n",
       "      <td>7ow4_D-E-F_pmhc.pdb</td>\n",
       "      <td>antigen_chain</td>\n",
       "      <td>VAL</td>\n",
       "      <td>2</td>\n",
       "      <td>NaN</td>\n",
       "      <td>0.262440</td>\n",
       "      <td>0.073709</td>\n",
       "      <td>0.030793</td>\n",
       "      <td>...</td>\n",
       "      <td>holo</td>\n",
       "      <td>D</td>\n",
       "      <td>E</td>\n",
       "      <td>C</td>\n",
       "      <td>A</td>\n",
       "      <td>B</td>\n",
       "      <td>TRDTAYY-QPWWGEQN-AMSVPSGDGSYQFT-MNHEY-SVGEGT-A...</td>\n",
       "      <td>VVVGADGVGK</td>\n",
       "      <td>hla_a_11_01</td>\n",
       "      <td>7ow6_D-E-C-A-B_tcr_pmhc</td>\n",
       "    </tr>\n",
       "    <tr>\n",
       "      <th>2</th>\n",
       "      <td>7ow6_D-E-C-A-B_tcr_pmhc</td>\n",
       "      <td>7ow4_A-B-C_pmhc.pdb</td>\n",
       "      <td>7ow4_D-E-F_pmhc.pdb</td>\n",
       "      <td>antigen_chain</td>\n",
       "      <td>VAL</td>\n",
       "      <td>3</td>\n",
       "      <td>NaN</td>\n",
       "      <td>0.256739</td>\n",
       "      <td>0.248310</td>\n",
       "      <td>-0.007898</td>\n",
       "      <td>...</td>\n",
       "      <td>holo</td>\n",
       "      <td>D</td>\n",
       "      <td>E</td>\n",
       "      <td>C</td>\n",
       "      <td>A</td>\n",
       "      <td>B</td>\n",
       "      <td>TRDTAYY-QPWWGEQN-AMSVPSGDGSYQFT-MNHEY-SVGEGT-A...</td>\n",
       "      <td>VVVGADGVGK</td>\n",
       "      <td>hla_a_11_01</td>\n",
       "      <td>7ow6_D-E-C-A-B_tcr_pmhc</td>\n",
       "    </tr>\n",
       "    <tr>\n",
       "      <th>3</th>\n",
       "      <td>7ow6_D-E-C-A-B_tcr_pmhc</td>\n",
       "      <td>7ow4_A-B-C_pmhc.pdb</td>\n",
       "      <td>7ow4_D-E-F_pmhc.pdb</td>\n",
       "      <td>antigen_chain</td>\n",
       "      <td>GLY</td>\n",
       "      <td>4</td>\n",
       "      <td>NaN</td>\n",
       "      <td>0.568505</td>\n",
       "      <td>0.622876</td>\n",
       "      <td>NaN</td>\n",
       "      <td>...</td>\n",
       "      <td>holo</td>\n",
       "      <td>D</td>\n",
       "      <td>E</td>\n",
       "      <td>C</td>\n",
       "      <td>A</td>\n",
       "      <td>B</td>\n",
       "      <td>TRDTAYY-QPWWGEQN-AMSVPSGDGSYQFT-MNHEY-SVGEGT-A...</td>\n",
       "      <td>VVVGADGVGK</td>\n",
       "      <td>hla_a_11_01</td>\n",
       "      <td>7ow6_D-E-C-A-B_tcr_pmhc</td>\n",
       "    </tr>\n",
       "    <tr>\n",
       "      <th>4</th>\n",
       "      <td>7ow6_D-E-C-A-B_tcr_pmhc</td>\n",
       "      <td>7ow4_A-B-C_pmhc.pdb</td>\n",
       "      <td>7ow4_D-E-F_pmhc.pdb</td>\n",
       "      <td>antigen_chain</td>\n",
       "      <td>GLY</td>\n",
       "      <td>7</td>\n",
       "      <td>NaN</td>\n",
       "      <td>0.346240</td>\n",
       "      <td>0.192317</td>\n",
       "      <td>NaN</td>\n",
       "      <td>...</td>\n",
       "      <td>holo</td>\n",
       "      <td>D</td>\n",
       "      <td>E</td>\n",
       "      <td>C</td>\n",
       "      <td>A</td>\n",
       "      <td>B</td>\n",
       "      <td>TRDTAYY-QPWWGEQN-AMSVPSGDGSYQFT-MNHEY-SVGEGT-A...</td>\n",
       "      <td>VVVGADGVGK</td>\n",
       "      <td>hla_a_11_01</td>\n",
       "      <td>7ow6_D-E-C-A-B_tcr_pmhc</td>\n",
       "    </tr>\n",
       "    <tr>\n",
       "      <th>...</th>\n",
       "      <td>...</td>\n",
       "      <td>...</td>\n",
       "      <td>...</td>\n",
       "      <td>...</td>\n",
       "      <td>...</td>\n",
       "      <td>...</td>\n",
       "      <td>...</td>\n",
       "      <td>...</td>\n",
       "      <td>...</td>\n",
       "      <td>...</td>\n",
       "      <td>...</td>\n",
       "      <td>...</td>\n",
       "      <td>...</td>\n",
       "      <td>...</td>\n",
       "      <td>...</td>\n",
       "      <td>...</td>\n",
       "      <td>...</td>\n",
       "      <td>...</td>\n",
       "      <td>...</td>\n",
       "      <td>...</td>\n",
       "      <td>...</td>\n",
       "    </tr>\n",
       "    <tr>\n",
       "      <th>5833</th>\n",
       "      <td>7rtr_D-E-C-A-B_tcr_pmhc</td>\n",
       "      <td>7rtd_A-B-C_pmhc.pdb</td>\n",
       "      <td>7rtr_D-E-C-A-B_tcr_pmhc.pdb</td>\n",
       "      <td>antigen_chain</td>\n",
       "      <td>ARG</td>\n",
       "      <td>5</td>\n",
       "      <td>NaN</td>\n",
       "      <td>1.064663</td>\n",
       "      <td>0.157924</td>\n",
       "      <td>0.364432</td>\n",
       "      <td>...</td>\n",
       "      <td>holo</td>\n",
       "      <td>D</td>\n",
       "      <td>E</td>\n",
       "      <td>C</td>\n",
       "      <td>A</td>\n",
       "      <td>B</td>\n",
       "      <td>DRGSQS-IYSNGD-AVNRDDKII-SEHNR-FQNEAQ-ASSPDIEQY</td>\n",
       "      <td>YLQPRTFLL</td>\n",
       "      <td>hla_a_02_01</td>\n",
       "      <td>7rtr_D-E-C-A-B_tcr_pmhc</td>\n",
       "    </tr>\n",
       "    <tr>\n",
       "      <th>5834</th>\n",
       "      <td>7rtr_D-E-C-A-B_tcr_pmhc</td>\n",
       "      <td>7rtd_A-B-C_pmhc.pdb</td>\n",
       "      <td>7rtr_D-E-C-A-B_tcr_pmhc.pdb</td>\n",
       "      <td>antigen_chain</td>\n",
       "      <td>THR</td>\n",
       "      <td>6</td>\n",
       "      <td>NaN</td>\n",
       "      <td>0.421897</td>\n",
       "      <td>0.345439</td>\n",
       "      <td>0.097701</td>\n",
       "      <td>...</td>\n",
       "      <td>holo</td>\n",
       "      <td>D</td>\n",
       "      <td>E</td>\n",
       "      <td>C</td>\n",
       "      <td>A</td>\n",
       "      <td>B</td>\n",
       "      <td>DRGSQS-IYSNGD-AVNRDDKII-SEHNR-FQNEAQ-ASSPDIEQY</td>\n",
       "      <td>YLQPRTFLL</td>\n",
       "      <td>hla_a_02_01</td>\n",
       "      <td>7rtr_D-E-C-A-B_tcr_pmhc</td>\n",
       "    </tr>\n",
       "    <tr>\n",
       "      <th>5835</th>\n",
       "      <td>7rtr_D-E-C-A-B_tcr_pmhc</td>\n",
       "      <td>7rtd_A-B-C_pmhc.pdb</td>\n",
       "      <td>7rtr_D-E-C-A-B_tcr_pmhc.pdb</td>\n",
       "      <td>antigen_chain</td>\n",
       "      <td>PHE</td>\n",
       "      <td>7</td>\n",
       "      <td>NaN</td>\n",
       "      <td>1.225982</td>\n",
       "      <td>0.317819</td>\n",
       "      <td>-0.347835</td>\n",
       "      <td>...</td>\n",
       "      <td>holo</td>\n",
       "      <td>D</td>\n",
       "      <td>E</td>\n",
       "      <td>C</td>\n",
       "      <td>A</td>\n",
       "      <td>B</td>\n",
       "      <td>DRGSQS-IYSNGD-AVNRDDKII-SEHNR-FQNEAQ-ASSPDIEQY</td>\n",
       "      <td>YLQPRTFLL</td>\n",
       "      <td>hla_a_02_01</td>\n",
       "      <td>7rtr_D-E-C-A-B_tcr_pmhc</td>\n",
       "    </tr>\n",
       "    <tr>\n",
       "      <th>5836</th>\n",
       "      <td>7rtr_D-E-C-A-B_tcr_pmhc</td>\n",
       "      <td>7rtd_A-B-C_pmhc.pdb</td>\n",
       "      <td>7rtr_D-E-C-A-B_tcr_pmhc.pdb</td>\n",
       "      <td>antigen_chain</td>\n",
       "      <td>LEU</td>\n",
       "      <td>8</td>\n",
       "      <td>NaN</td>\n",
       "      <td>1.323615</td>\n",
       "      <td>0.310356</td>\n",
       "      <td>0.612672</td>\n",
       "      <td>...</td>\n",
       "      <td>holo</td>\n",
       "      <td>D</td>\n",
       "      <td>E</td>\n",
       "      <td>C</td>\n",
       "      <td>A</td>\n",
       "      <td>B</td>\n",
       "      <td>DRGSQS-IYSNGD-AVNRDDKII-SEHNR-FQNEAQ-ASSPDIEQY</td>\n",
       "      <td>YLQPRTFLL</td>\n",
       "      <td>hla_a_02_01</td>\n",
       "      <td>7rtr_D-E-C-A-B_tcr_pmhc</td>\n",
       "    </tr>\n",
       "    <tr>\n",
       "      <th>5837</th>\n",
       "      <td>7rtr_D-E-C-A-B_tcr_pmhc</td>\n",
       "      <td>7rtd_A-B-C_pmhc.pdb</td>\n",
       "      <td>7rtr_D-E-C-A-B_tcr_pmhc.pdb</td>\n",
       "      <td>antigen_chain</td>\n",
       "      <td>LEU</td>\n",
       "      <td>9</td>\n",
       "      <td>NaN</td>\n",
       "      <td>1.599917</td>\n",
       "      <td>0.192969</td>\n",
       "      <td>0.885323</td>\n",
       "      <td>...</td>\n",
       "      <td>holo</td>\n",
       "      <td>D</td>\n",
       "      <td>E</td>\n",
       "      <td>C</td>\n",
       "      <td>A</td>\n",
       "      <td>B</td>\n",
       "      <td>DRGSQS-IYSNGD-AVNRDDKII-SEHNR-FQNEAQ-ASSPDIEQY</td>\n",
       "      <td>YLQPRTFLL</td>\n",
       "      <td>hla_a_02_01</td>\n",
       "      <td>7rtr_D-E-C-A-B_tcr_pmhc</td>\n",
       "    </tr>\n",
       "  </tbody>\n",
       "</table>\n",
       "<p>5838 rows × 26 columns</p>\n",
       "</div>"
      ],
      "text/plain": [
       "                   complex_id     structure_x_name  \\\n",
       "0     7ow6_D-E-C-A-B_tcr_pmhc  7ow4_A-B-C_pmhc.pdb   \n",
       "1     7ow6_D-E-C-A-B_tcr_pmhc  7ow4_A-B-C_pmhc.pdb   \n",
       "2     7ow6_D-E-C-A-B_tcr_pmhc  7ow4_A-B-C_pmhc.pdb   \n",
       "3     7ow6_D-E-C-A-B_tcr_pmhc  7ow4_A-B-C_pmhc.pdb   \n",
       "4     7ow6_D-E-C-A-B_tcr_pmhc  7ow4_A-B-C_pmhc.pdb   \n",
       "...                       ...                  ...   \n",
       "5833  7rtr_D-E-C-A-B_tcr_pmhc  7rtd_A-B-C_pmhc.pdb   \n",
       "5834  7rtr_D-E-C-A-B_tcr_pmhc  7rtd_A-B-C_pmhc.pdb   \n",
       "5835  7rtr_D-E-C-A-B_tcr_pmhc  7rtd_A-B-C_pmhc.pdb   \n",
       "5836  7rtr_D-E-C-A-B_tcr_pmhc  7rtd_A-B-C_pmhc.pdb   \n",
       "5837  7rtr_D-E-C-A-B_tcr_pmhc  7rtd_A-B-C_pmhc.pdb   \n",
       "\n",
       "                 structure_y_name     chain_type residue_name  residue_seq_id  \\\n",
       "0             7ow4_D-E-F_pmhc.pdb  antigen_chain          VAL               1   \n",
       "1             7ow4_D-E-F_pmhc.pdb  antigen_chain          VAL               2   \n",
       "2             7ow4_D-E-F_pmhc.pdb  antigen_chain          VAL               3   \n",
       "3             7ow4_D-E-F_pmhc.pdb  antigen_chain          GLY               4   \n",
       "4             7ow4_D-E-F_pmhc.pdb  antigen_chain          GLY               7   \n",
       "...                           ...            ...          ...             ...   \n",
       "5833  7rtr_D-E-C-A-B_tcr_pmhc.pdb  antigen_chain          ARG               5   \n",
       "5834  7rtr_D-E-C-A-B_tcr_pmhc.pdb  antigen_chain          THR               6   \n",
       "5835  7rtr_D-E-C-A-B_tcr_pmhc.pdb  antigen_chain          PHE               7   \n",
       "5836  7rtr_D-E-C-A-B_tcr_pmhc.pdb  antigen_chain          LEU               8   \n",
       "5837  7rtr_D-E-C-A-B_tcr_pmhc.pdb  antigen_chain          LEU               9   \n",
       "\n",
       "     residue_insert_code      rmsd  ca_distance  chi_angle_change  ...  state  \\\n",
       "0                    NaN  0.354933     0.330887          0.200330  ...   holo   \n",
       "1                    NaN  0.262440     0.073709          0.030793  ...   holo   \n",
       "2                    NaN  0.256739     0.248310         -0.007898  ...   holo   \n",
       "3                    NaN  0.568505     0.622876               NaN  ...   holo   \n",
       "4                    NaN  0.346240     0.192317               NaN  ...   holo   \n",
       "...                  ...       ...          ...               ...  ...    ...   \n",
       "5833                 NaN  1.064663     0.157924          0.364432  ...   holo   \n",
       "5834                 NaN  0.421897     0.345439          0.097701  ...   holo   \n",
       "5835                 NaN  1.225982     0.317819         -0.347835  ...   holo   \n",
       "5836                 NaN  1.323615     0.310356          0.612672  ...   holo   \n",
       "5837                 NaN  1.599917     0.192969          0.885323  ...   holo   \n",
       "\n",
       "      alpha_chain beta_chain antigen_chain mhc_chain1 mhc_chain2  \\\n",
       "0               D          E             C          A          B   \n",
       "1               D          E             C          A          B   \n",
       "2               D          E             C          A          B   \n",
       "3               D          E             C          A          B   \n",
       "4               D          E             C          A          B   \n",
       "...           ...        ...           ...        ...        ...   \n",
       "5833            D          E             C          A          B   \n",
       "5834            D          E             C          A          B   \n",
       "5835            D          E             C          A          B   \n",
       "5836            D          E             C          A          B   \n",
       "5837            D          E             C          A          B   \n",
       "\n",
       "                                 cdr_sequences_collated peptide_sequence  \\\n",
       "0     TRDTAYY-QPWWGEQN-AMSVPSGDGSYQFT-MNHEY-SVGEGT-A...       VVVGADGVGK   \n",
       "1     TRDTAYY-QPWWGEQN-AMSVPSGDGSYQFT-MNHEY-SVGEGT-A...       VVVGADGVGK   \n",
       "2     TRDTAYY-QPWWGEQN-AMSVPSGDGSYQFT-MNHEY-SVGEGT-A...       VVVGADGVGK   \n",
       "3     TRDTAYY-QPWWGEQN-AMSVPSGDGSYQFT-MNHEY-SVGEGT-A...       VVVGADGVGK   \n",
       "4     TRDTAYY-QPWWGEQN-AMSVPSGDGSYQFT-MNHEY-SVGEGT-A...       VVVGADGVGK   \n",
       "...                                                 ...              ...   \n",
       "5833     DRGSQS-IYSNGD-AVNRDDKII-SEHNR-FQNEAQ-ASSPDIEQY        YLQPRTFLL   \n",
       "5834     DRGSQS-IYSNGD-AVNRDDKII-SEHNR-FQNEAQ-ASSPDIEQY        YLQPRTFLL   \n",
       "5835     DRGSQS-IYSNGD-AVNRDDKII-SEHNR-FQNEAQ-ASSPDIEQY        YLQPRTFLL   \n",
       "5836     DRGSQS-IYSNGD-AVNRDDKII-SEHNR-FQNEAQ-ASSPDIEQY        YLQPRTFLL   \n",
       "5837     DRGSQS-IYSNGD-AVNRDDKII-SEHNR-FQNEAQ-ASSPDIEQY        YLQPRTFLL   \n",
       "\n",
       "         mhc_slug               group_name  \n",
       "0     hla_a_11_01  7ow6_D-E-C-A-B_tcr_pmhc  \n",
       "1     hla_a_11_01  7ow6_D-E-C-A-B_tcr_pmhc  \n",
       "2     hla_a_11_01  7ow6_D-E-C-A-B_tcr_pmhc  \n",
       "3     hla_a_11_01  7ow6_D-E-C-A-B_tcr_pmhc  \n",
       "4     hla_a_11_01  7ow6_D-E-C-A-B_tcr_pmhc  \n",
       "...           ...                      ...  \n",
       "5833  hla_a_02_01  7rtr_D-E-C-A-B_tcr_pmhc  \n",
       "5834  hla_a_02_01  7rtr_D-E-C-A-B_tcr_pmhc  \n",
       "5835  hla_a_02_01  7rtr_D-E-C-A-B_tcr_pmhc  \n",
       "5836  hla_a_02_01  7rtr_D-E-C-A-B_tcr_pmhc  \n",
       "5837  hla_a_02_01  7rtr_D-E-C-A-B_tcr_pmhc  \n",
       "\n",
       "[5838 rows x 26 columns]"
      ]
     },
     "execution_count": 8,
     "metadata": {},
     "output_type": "execute_result"
    }
   ],
   "source": [
    "peptide_apo_holo_comparison = peptide_apo_holo_comparison.merge(summary_df, how='left', left_on='complex_id', right_on='group_name')\n",
    "peptide_apo_holo_comparison"
   ]
  },
  {
   "cell_type": "markdown",
   "id": "850a1234",
   "metadata": {},
   "source": [
    "# Combine anchoring information with *apo*-*holo* comparisons"
   ]
  },
  {
   "cell_type": "code",
   "execution_count": 9,
   "id": "a0029bc7",
   "metadata": {
    "execution": {
     "iopub.execute_input": "2024-05-09T14:30:26.964270Z",
     "iopub.status.busy": "2024-05-09T14:30:26.963038Z",
     "iopub.status.idle": "2024-05-09T14:30:26.968222Z",
     "shell.execute_reply": "2024-05-09T14:30:26.967612Z"
    }
   },
   "outputs": [],
   "source": [
    "mhc_anchor_position_df['anchor'] = True"
   ]
  },
  {
   "cell_type": "code",
   "execution_count": 10,
   "id": "62a7fca9",
   "metadata": {
    "execution": {
     "iopub.execute_input": "2024-05-09T14:30:26.973602Z",
     "iopub.status.busy": "2024-05-09T14:30:26.972358Z",
     "iopub.status.idle": "2024-05-09T14:30:26.986452Z",
     "shell.execute_reply": "2024-05-09T14:30:26.985827Z"
    }
   },
   "outputs": [],
   "source": [
    "peptide_apo_holo_comparison = peptide_apo_holo_comparison.merge(\n",
    "    mhc_anchor_position_df,\n",
    "    how='left',\n",
    "    left_on=['mhc_slug', 'residue_seq_id', 'amino_acid', 'peptide_length'],\n",
    "    right_on=['allele_slug', 'position', 'amino_acid', 'peptide_length'],\n",
    ")"
   ]
  },
  {
   "cell_type": "code",
   "execution_count": 11,
   "id": "f7376871",
   "metadata": {
    "execution": {
     "iopub.execute_input": "2024-05-09T14:30:26.991184Z",
     "iopub.status.busy": "2024-05-09T14:30:26.989947Z",
     "iopub.status.idle": "2024-05-09T14:30:27.427566Z",
     "shell.execute_reply": "2024-05-09T14:30:27.426859Z"
    }
   },
   "outputs": [],
   "source": [
    "def collate_anchors(group: pd.DataFrame) -> list[int]:\n",
    "    return sorted(group[group['anchor'] == True]['residue_seq_id'].unique().tolist())\n",
    "\n",
    "anchoring_strategies = peptide_apo_holo_comparison.groupby(['structure_x_name', 'structure_y_name']).apply(collate_anchors)\n",
    "anchoring_strategies.name = 'anchoring_strategy'\n",
    "anchoring_strategies = anchoring_strategies.reset_index()\n",
    "\n",
    "peptide_apo_holo_comparison = peptide_apo_holo_comparison.merge(anchoring_strategies, how='left', on=['structure_x_name', 'structure_y_name'])"
   ]
  },
  {
   "cell_type": "code",
   "execution_count": 12,
   "id": "fa7e9fe8",
   "metadata": {
    "execution": {
     "iopub.execute_input": "2024-05-09T14:30:27.433533Z",
     "iopub.status.busy": "2024-05-09T14:30:27.432249Z",
     "iopub.status.idle": "2024-05-09T14:30:27.445293Z",
     "shell.execute_reply": "2024-05-09T14:30:27.444708Z"
    }
   },
   "outputs": [],
   "source": [
    "def markup_anchor(anchors: list[int]) -> str:\n",
    "    anchors = [f'p{anchor}' for anchor in anchors]\n",
    "    return '-'.join(anchors)\n",
    "    \n",
    "peptide_apo_holo_comparison['anchoring_strategy_str'] = peptide_apo_holo_comparison['anchoring_strategy'].map(markup_anchor)"
   ]
  },
  {
   "cell_type": "code",
   "execution_count": 13,
   "id": "93015461",
   "metadata": {
    "execution": {
     "iopub.execute_input": "2024-05-09T14:30:27.450149Z",
     "iopub.status.busy": "2024-05-09T14:30:27.448930Z",
     "iopub.status.idle": "2024-05-09T14:30:27.473585Z",
     "shell.execute_reply": "2024-05-09T14:30:27.472981Z"
    }
   },
   "outputs": [],
   "source": [
    "def find_dominant_anchor(group: pd.DataFrame) -> str:\n",
    "    anchor_types = group['anchoring_strategy_str'].unique()\n",
    "    lengths = np.array([len(anchor) for anchor in anchor_types])\n",
    "    index = np.argmax(lengths)\n",
    "    \n",
    "    return anchor_types[index]\n",
    "\n",
    "dominant_anchors = peptide_apo_holo_comparison.groupby('mhc_slug').apply(find_dominant_anchor)\n",
    "dominant_anchors.name = 'dominant_anchor'\n",
    "dominant_anchors = dominant_anchors.reset_index()\n",
    "\n",
    "peptide_apo_holo_comparison = peptide_apo_holo_comparison.merge(dominant_anchors, how='left', on='mhc_slug')"
   ]
  },
  {
   "cell_type": "markdown",
   "id": "789e6b14",
   "metadata": {},
   "source": [
    "The below correction is applied as it is assumed that those peptide marked as solely 'p2' or 'p9' anchors are most likely still anchored by something at either end that is not necessarily the high or dominant motif."
   ]
  },
  {
   "cell_type": "code",
   "execution_count": 14,
   "id": "73d9f07c",
   "metadata": {},
   "outputs": [],
   "source": [
    "peptide_apo_holo_comparison['dominant_anchor'] = peptide_apo_holo_comparison['dominant_anchor'].map(\n",
    "    lambda strategy: 'p2-p9' if strategy in ('p2', 'p9') else strategy\n",
    ")"
   ]
  },
  {
   "cell_type": "code",
   "execution_count": 15,
   "id": "8fc31a01",
   "metadata": {},
   "outputs": [],
   "source": [
    "peptide_apo_holo_comparison_with_anchor = peptide_apo_holo_comparison.query(\"anchoring_strategy_str != ''\")"
   ]
  },
  {
   "cell_type": "markdown",
   "id": "84e45300",
   "metadata": {},
   "source": [
    "## Visualise the results"
   ]
  },
  {
   "cell_type": "code",
   "execution_count": 16,
   "id": "a8812f9c",
   "metadata": {
    "execution": {
     "iopub.execute_input": "2024-05-09T14:30:27.478678Z",
     "iopub.status.busy": "2024-05-09T14:30:27.477454Z",
     "iopub.status.idle": "2024-05-09T14:30:30.679102Z",
     "shell.execute_reply": "2024-05-09T14:30:30.678439Z"
    }
   },
   "outputs": [
    {
     "data": {
      "image/png": "[encoded data removed]",
      "text/plain": [
       "<Figure size 1500x500 with 3 Axes>"
      ]
     },
     "metadata": {},
     "output_type": "display_data"
    }
   ],
   "source": [
    "sns.catplot(peptide_apo_holo_comparison_with_anchor,\n",
    "            col='dominant_anchor',\n",
    "            x='residue_seq_id', y='rmsd',\n",
    "            sharex=False,\n",
    "            color='salmon',\n",
    "            kind='bar')\n",
    "\n",
    "plt.savefig('../report/figures/peptide_per_res_rmsd_from_anchoring.svg')"
   ]
  },
  {
   "cell_type": "code",
   "execution_count": 17,
   "id": "7d5be643",
   "metadata": {
    "execution": {
     "iopub.execute_input": "2024-05-09T14:30:30.683741Z",
     "iopub.status.busy": "2024-05-09T14:30:30.682713Z",
     "iopub.status.idle": "2024-05-09T14:30:34.593874Z",
     "shell.execute_reply": "2024-05-09T14:30:34.593204Z"
    }
   },
   "outputs": [
    {
     "name": "stdout",
     "output_type": "stream",
     "text": [
      "hla_a_02_01\n",
      "p2-p9\n"
     ]
    },
    {
     "data": {
      "image/png": "[encoded data removed]",
      "text/plain": [
       "<Figure size 640x480 with 1 Axes>"
      ]
     },
     "metadata": {},
     "output_type": "display_data"
    },
    {
     "name": "stdout",
     "output_type": "stream",
     "text": [
      "hla_a_02_06\n",
      "p2-p9\n"
     ]
    },
    {
     "data": {
      "image/png": "[encoded data removed]",
      "text/plain": [
       "<Figure size 640x480 with 1 Axes>"
      ]
     },
     "metadata": {},
     "output_type": "display_data"
    },
    {
     "name": "stdout",
     "output_type": "stream",
     "text": [
      "hla_a_03_01\n",
      "p2-p9\n"
     ]
    },
    {
     "data": {
      "image/png": "[encoded data removed]",
      "text/plain": [
       "<Figure size 640x480 with 1 Axes>"
      ]
     },
     "metadata": {},
     "output_type": "display_data"
    },
    {
     "name": "stdout",
     "output_type": "stream",
     "text": [
      "hla_a_24_02\n",
      "p2-p9\n"
     ]
    },
    {
     "data": {
      "image/png": "[encoded data removed]",
      "text/plain": [
       "<Figure size 640x480 with 1 Axes>"
      ]
     },
     "metadata": {},
     "output_type": "display_data"
    },
    {
     "name": "stdout",
     "output_type": "stream",
     "text": [
      "hla_b_08_01\n",
      "p2-p5-p9\n"
     ]
    },
    {
     "data": {
      "image/png": "[encoded data removed]",
      "text/plain": [
       "<Figure size 640x480 with 1 Axes>"
      ]
     },
     "metadata": {},
     "output_type": "display_data"
    },
    {
     "name": "stdout",
     "output_type": "stream",
     "text": [
      "hla_b_35_01\n",
      "p2-p9\n"
     ]
    },
    {
     "data": {
      "image/png": "[encoded data removed]",
      "text/plain": [
       "<Figure size 640x480 with 1 Axes>"
      ]
     },
     "metadata": {},
     "output_type": "display_data"
    },
    {
     "name": "stdout",
     "output_type": "stream",
     "text": [
      "hla_b_37_01\n",
      "p2-p5-p9\n"
     ]
    },
    {
     "data": {
      "image/png": "[encoded data removed]",
      "text/plain": [
       "<Figure size 640x480 with 1 Axes>"
      ]
     },
     "metadata": {},
     "output_type": "display_data"
    },
    {
     "name": "stdout",
     "output_type": "stream",
     "text": [
      "hla_b_42_01\n",
      "p2-p9\n"
     ]
    },
    {
     "data": {
      "image/png": "[encoded data removed]",
      "text/plain": [
       "<Figure size 640x480 with 1 Axes>"
      ]
     },
     "metadata": {},
     "output_type": "display_data"
    },
    {
     "name": "stdout",
     "output_type": "stream",
     "text": [
      "hla_b_44_05\n",
      "p2-p9\n"
     ]
    },
    {
     "data": {
      "image/png": "[encoded data removed]",
      "text/plain": [
       "<Figure size 640x480 with 1 Axes>"
      ]
     },
     "metadata": {},
     "output_type": "display_data"
    },
    {
     "name": "stdout",
     "output_type": "stream",
     "text": [
      "hla_b_53_01\n",
      "p2-p9\n"
     ]
    },
    {
     "data": {
      "image/png": "[encoded data removed]",
      "text/plain": [
       "<Figure size 640x480 with 1 Axes>"
      ]
     },
     "metadata": {},
     "output_type": "display_data"
    },
    {
     "name": "stdout",
     "output_type": "stream",
     "text": [
      "hla_b_81_01\n",
      "p2-p9\n"
     ]
    },
    {
     "data": {
      "image/png": "[encoded data removed]",
      "text/plain": [
       "<Figure size 640x480 with 1 Axes>"
      ]
     },
     "metadata": {},
     "output_type": "display_data"
    },
    {
     "name": "stdout",
     "output_type": "stream",
     "text": [
      "hla_c_08_02\n",
      "p2-p3\n"
     ]
    },
    {
     "data": {
      "image/png": "[encoded data removed]",
      "text/plain": [
       "<Figure size 640x480 with 1 Axes>"
      ]
     },
     "metadata": {},
     "output_type": "display_data"
    },
    {
     "name": "stdout",
     "output_type": "stream",
     "text": [
      "hla_e_01_03\n",
      "p2-p9\n"
     ]
    },
    {
     "data": {
      "image/png": "[encoded data removed]",
      "text/plain": [
       "<Figure size 640x480 with 1 Axes>"
      ]
     },
     "metadata": {},
     "output_type": "display_data"
    }
   ],
   "source": [
    "max_rmsd = peptide_apo_holo_comparison_with_anchor['rmsd'].max()\n",
    "\n",
    "for mhc_slug, group in peptide_apo_holo_comparison_with_anchor.groupby('mhc_slug'):\n",
    "    print(mhc_slug)\n",
    "    print(group['dominant_anchor'].unique()[0])\n",
    "    plot = sns.barplot(group, x='residue_seq_id', y='rmsd', color='salmon')\n",
    "    plot.set_ylim((0, np.ceil(max_rmsd)))\n",
    "    plt.show()"
   ]
  },
  {
   "cell_type": "code",
   "execution_count": 18,
   "id": "211644fe",
   "metadata": {},
   "outputs": [
    {
     "data": {
      "text/plain": [
       "<AxesSubplot: xlabel='residue_seq_id', ylabel='rmsd'>"
      ]
     },
     "execution_count": 18,
     "metadata": {},
     "output_type": "execute_result"
    },
    {
     "data": {
      "image/png": "[encoded data removed]",
      "text/plain": [
       "<Figure size 640x480 with 1 Axes>"
      ]
     },
     "metadata": {},
     "output_type": "display_data"
    }
   ],
   "source": [
    "sns.barplot(peptide_apo_holo_comparison_with_anchor,\n",
    "            hue='dominant_anchor',\n",
    "            x='residue_seq_id', y='rmsd')"
   ]
  },
  {
   "cell_type": "code",
   "execution_count": 19,
   "id": "23406418",
   "metadata": {},
   "outputs": [
    {
     "data": {
      "text/html": [
       "<div>\n",
       "<style scoped>\n",
       "    .dataframe tbody tr th:only-of-type {\n",
       "        vertical-align: middle;\n",
       "    }\n",
       "\n",
       "    .dataframe tbody tr th {\n",
       "        vertical-align: top;\n",
       "    }\n",
       "\n",
       "    .dataframe thead th {\n",
       "        text-align: right;\n",
       "    }\n",
       "</style>\n",
       "<table border=\"1\" class=\"dataframe\">\n",
       "  <thead>\n",
       "    <tr style=\"text-align: right;\">\n",
       "      <th></th>\n",
       "      <th>dominant_anchor</th>\n",
       "      <th>mhc_slug</th>\n",
       "    </tr>\n",
       "  </thead>\n",
       "  <tbody>\n",
       "    <tr>\n",
       "      <th>0</th>\n",
       "      <td>p2-p3</td>\n",
       "      <td>hla_c_08_02</td>\n",
       "    </tr>\n",
       "    <tr>\n",
       "      <th>1</th>\n",
       "      <td>p2-p5-p9</td>\n",
       "      <td>hla_b_08_01</td>\n",
       "    </tr>\n",
       "    <tr>\n",
       "      <th>2</th>\n",
       "      <td>p2-p9</td>\n",
       "      <td>hla_a_02_01</td>\n",
       "    </tr>\n",
       "  </tbody>\n",
       "</table>\n",
       "</div>"
      ],
      "text/plain": [
       "  dominant_anchor     mhc_slug\n",
       "0           p2-p3  hla_c_08_02\n",
       "1        p2-p5-p9  hla_b_08_01\n",
       "2           p2-p9  hla_a_02_01"
      ]
     },
     "execution_count": 19,
     "metadata": {},
     "output_type": "execute_result"
    }
   ],
   "source": [
    "representative_alleles = (peptide_apo_holo_comparison_with_anchor.groupby('dominant_anchor')[['dominant_anchor', 'mhc_slug']]\n",
    "                                                                 .sample(1, random_state=1)\n",
    "                                                                 .reset_index(drop=True))\n",
    "representative_alleles"
   ]
  },
  {
   "cell_type": "code",
   "execution_count": 20,
   "id": "59d68b41",
   "metadata": {},
   "outputs": [
    {
     "data": {
      "text/plain": [
       "<AxesSubplot: xlabel='residue_seq_id', ylabel='rmsd'>"
      ]
     },
     "execution_count": 20,
     "metadata": {},
     "output_type": "execute_result"
    },
    {
     "data": {
      "image/png": "[encoded data removed]",
      "text/plain": [
       "<Figure size 640x480 with 1 Axes>"
      ]
     },
     "metadata": {},
     "output_type": "display_data"
    }
   ],
   "source": [
    "sns.barplot(peptide_apo_holo_comparison_with_anchor.query(\"mhc_slug.isin(@representative_alleles['mhc_slug'])\"),\n",
    "            hue='mhc_slug',\n",
    "            x='residue_seq_id', y='rmsd')"
   ]
  }
 ],
 "metadata": {
  "kernelspec": {
   "display_name": "Python 3 (ipykernel)",
   "language": "python",
   "name": "python3"
  },
  "language_info": {
   "codemirror_mode": {
    "name": "ipython",
    "version": 3
   },
   "file_extension": ".py",
   "mimetype": "text/x-python",
   "name": "python",
   "nbconvert_exporter": "python",
   "pygments_lexer": "ipython3",
   "version": "3.10.14"
  }
 },
 "nbformat": 4,
 "nbformat_minor": 5
}
